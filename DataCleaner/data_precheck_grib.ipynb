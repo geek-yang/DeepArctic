{
 "cells": [
  {
   "cell_type": "markdown",
   "metadata": {},
   "source": [
    "# Copyright Netherlands eScience Center <br>\n",
    "** Function     : Check grib file** <br>\n",
    "** Author       : Yang Liu ** <br>\n",
    "** First Built  : 2020.07.17 ** <br>\n",
    "** Last Update  : 2020.07.20 ** <br>\n",
    "Description     : This notebook aims to precheck the grib file.<br>\n",
    "Return Values   : netCDF4 <br>\n",
    "Caveat          : "
   ]
  },
  {
   "cell_type": "code",
   "execution_count": 1,
   "metadata": {},
   "outputs": [],
   "source": [
    "import numpy as np\n",
    "import scipy as sp\n",
    "import time as tttt\n",
    "from netCDF4 import Dataset,num2date\n",
    "import os\n",
    "import pygrib"
   ]
  },
  {
   "cell_type": "code",
   "execution_count": 2,
   "metadata": {},
   "outputs": [],
   "source": [
    "################################   Input zone  #########################################\n",
    "forecast_type = \"ensemble\" # control / ensemble\n",
    "#forecast_type = \"control\"\n",
    "target_time = 201701\n",
    "# specify data path\n",
    "datapath = '/home/ESLT0068/WorkFlow/Core_Database_DeepLearn/ECMWFens/S2S{}'.format(forecast_type)\n",
    "# specify output path for figures\n",
    "output_path = '/home/ESLT0068/WorkFlow/Core_Database_DeepLearn/ECMWFens'\n",
    "########################################################################################"
   ]
  },
  {
   "cell_type": "code",
   "execution_count": 3,
   "metadata": {},
   "outputs": [
    {
     "name": "stdout",
     "output_type": "stream",
     "text": [
      "Number of messages 14400\n"
     ]
    }
   ],
   "source": [
    "if forecast_type == \"ensemble\":\n",
    "    grbs_SIC = pygrib.open(os.path.join(datapath,'S2S_sic_ens_ensemble_{}.grib'.format(target_time)))\n",
    "else:\n",
    "    grbs_SIC = pygrib.open(os.path.join(datapath,'S2S_sic_control_{}.grib'.format(target_time)))\n",
    "print ('Number of messages',grbs_SIC.messages)\n",
    "#for messenger in grbs_SIC:\n",
    "#    print (messenger)\n",
    "key_SIC = grbs_SIC.message(1)\n",
    "sample = key_SIC.values\n",
    "#sample = np.ma.masked_where(sample==0,sample)\n",
    "mask = np.ma.getmask(sample)\n",
    "lats, lons = key_SIC.latlons()\n",
    "latitude_SIC = lats[:,0]\n",
    "longitude_SIC = lons[0,:]\n",
    "grbs_SIC.close()"
   ]
  },
  {
   "cell_type": "code",
   "execution_count": 4,
   "metadata": {},
   "outputs": [
    {
     "name": "stdout",
     "output_type": "stream",
     "text": [
      "(121, 240)\n",
      "[[-- -- -- -- -- -- -- -- -- --]\n",
      " [-- -- -- -- -- -- -- -- -- --]\n",
      " [-- -- -- -- -- -- -- -- -- --]\n",
      " [-- -- -- -- -- -- -- -- -- --]\n",
      " [-- -- -- -- -- -- -- -- -- --]\n",
      " [-- -- 0.97723388671875 -- -- -- -- -- -- --]\n",
      " [-- -- -- -- -- -- -- -- -- --]\n",
      " [-- -- -- -- -- -- -- -- -- --]\n",
      " [-- -- -- -- -- -- -- -- -- --]\n",
      " [-- -- -- -- 0.7193603515625 0.15740966796875 -- -- -- --]\n",
      " [-- -- 0.293548583984375 0.031707763671875 0.308837890625 --\n",
      "  0.29833984375 -- -- 0.0]\n",
      " [-- -- 0.0 0.0 0.0 -- -- -- -- --]\n",
      " [-- -- -- 0.0 0.0 -- -- -- -- --]\n",
      " [-- -- -- -- 0.0 0.0 -- -- -- --]\n",
      " [-- -- -- 0.0 0.0 0.0 -- -- -- --]\n",
      " [-- -- -- -- 0.0 0.0 -- -- -- --]\n",
      " [-- -- -- -- -- -- -- -- -- --]\n",
      " [-- -- -- -- -- -- -- -- -- --]\n",
      " [-- -- -- -- -- -- -- -- -- --]\n",
      " [-- -- -- -- -- -- -- -- -- --]]\n",
      "[[ True  True  True  True  True  True  True  True  True  True]\n",
      " [ True  True  True  True  True  True  True  True  True  True]\n",
      " [ True  True  True  True  True  True  True  True  True  True]\n",
      " [ True  True  True  True  True  True  True  True  True  True]\n",
      " [ True  True  True  True  True  True  True  True  True  True]\n",
      " [ True  True False  True  True  True  True  True  True  True]\n",
      " [ True  True  True  True  True  True  True  True  True  True]\n",
      " [ True  True  True  True  True  True  True  True  True  True]\n",
      " [ True  True  True  True  True  True  True  True  True  True]\n",
      " [ True  True  True  True False False  True  True  True  True]\n",
      " [ True  True False False False  True False  True  True False]\n",
      " [ True  True False False False  True  True  True  True  True]\n",
      " [ True  True  True False False  True  True  True  True  True]\n",
      " [ True  True  True  True False False  True  True  True  True]\n",
      " [ True  True  True False False False  True  True  True  True]\n",
      " [ True  True  True  True False False  True  True  True  True]\n",
      " [ True  True  True  True  True  True  True  True  True  True]\n",
      " [ True  True  True  True  True  True  True  True  True  True]\n",
      " [ True  True  True  True  True  True  True  True  True  True]\n",
      " [ True  True  True  True  True  True  True  True  True  True]]\n",
      "[90.  88.5 87.  85.5 84.  82.5 81.  79.5 78.  76.5 75.  73.5 72.  70.5\n",
      " 69.  67.5 66.  64.5 63.  61.5 60.  58.5 57.  55.5 54.  52.5 51.  49.5\n",
      " 48.  46.5 45. ]\n",
      "[  0.    1.5   3.    4.5   6.    7.5   9.   10.5  12.   13.5  15.   16.5\n",
      "  18.   19.5  21.   22.5  24.   25.5  27.   28.5  30.   31.5  33.   34.5\n",
      "  36.   37.5  39.   40.5  42.   43.5  45.   46.5  48.   49.5  51.   52.5\n",
      "  54.   55.5  57.   58.5  60.   61.5  63.   64.5  66.   67.5  69.   70.5\n",
      "  72.   73.5  75.   76.5  78.   79.5  81.   82.5  84.   85.5  87.   88.5\n",
      "  90.   91.5  93.   94.5  96.   97.5  99.  100.5 102.  103.5 105.  106.5\n",
      " 108.  109.5 111.  112.5 114.  115.5 117.  118.5 120.  121.5 123.  124.5\n",
      " 126.  127.5 129.  130.5 132.  133.5 135.  136.5 138.  139.5 141.  142.5\n",
      " 144.  145.5 147.  148.5 150.  151.5 153.  154.5 156.  157.5 159.  160.5\n",
      " 162.  163.5 165.  166.5 168.  169.5 171.  172.5 174.  175.5 177.  178.5\n",
      " 180.  181.5 183.  184.5 186.  187.5 189.  190.5 192.  193.5 195.  196.5\n",
      " 198.  199.5 201.  202.5 204.  205.5 207.  208.5 210.  211.5 213.  214.5\n",
      " 216.  217.5 219.  220.5 222.  223.5 225.  226.5 228.  229.5 231.  232.5\n",
      " 234.  235.5 237.  238.5 240.  241.5 243.  244.5 246.  247.5 249.  250.5\n",
      " 252.  253.5 255.  256.5 258.  259.5 261.  262.5 264.  265.5 267.  268.5\n",
      " 270.  271.5 273.  274.5 276.  277.5 279.  280.5 282.  283.5 285.  286.5\n",
      " 288.  289.5 291.  292.5 294.  295.5 297.  298.5 300.  301.5 303.  304.5\n",
      " 306.  307.5 309.  310.5 312.  313.5 315.  316.5 318.  319.5 321.  322.5\n",
      " 324.  325.5 327.  328.5 330.  331.5 333.  334.5 336.  337.5 339.  340.5\n",
      " 342.  343.5 345.  346.5 348.  349.5 351.  352.5 354.  355.5 357.  358.5]\n"
     ]
    }
   ],
   "source": [
    "print(sample.shape)\n",
    "print(sample[20:40,30:40])\n",
    "print(mask[20:40,30:40])\n",
    "print(latitude_SIC[:31]) #\n",
    "print(longitude_SIC)"
   ]
  }
 ],
 "metadata": {
  "kernelspec": {
   "display_name": "Python 3",
   "language": "python",
   "name": "python3"
  },
  "language_info": {
   "codemirror_mode": {
    "name": "ipython",
    "version": 3
   },
   "file_extension": ".py",
   "mimetype": "text/x-python",
   "name": "python",
   "nbconvert_exporter": "python",
   "pygments_lexer": "ipython3",
   "version": "3.6.5"
  }
 },
 "nbformat": 4,
 "nbformat_minor": 2
}
