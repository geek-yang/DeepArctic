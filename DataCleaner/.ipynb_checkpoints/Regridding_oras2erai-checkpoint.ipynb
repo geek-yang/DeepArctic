{
 "cells": [
  {
   "cell_type": "markdown",
   "metadata": {},
   "source": [
    "# Copyright Netherlands eScience Center <br>\n",
    "** Function     : Regrid fields from ORAS4 to ERA-Interim (Curvilinear to Geographical) ** <br>\n",
    "** Author       : Yang Liu ** <br>\n",
    "** First Built  : 2019.05.20 ** <br>\n",
    "** Last Update  : 2019.05.20 ** <br>\n",
    "Description     : This notebook aims to regrid fields on curvilinear grid (ORCA02) of ORAS4 to the geographical grid of ERA-Interim. We apply the nearest-neighbour interpolation to avoid un-realistic value in case.<br>\n",
    "Return Values   : netCDF4 <br>\n",
    "Caveat          : The interpolation is realized through the package iris, from MET Office. More information about regridding with Iris is available through its official documentation:<br>\n",
    "https://scitools.org.uk/iris/docs/latest/userguide/interpolation_and_regridding.html <br>"
   ]
  },
  {
   "cell_type": "code",
   "execution_count": 1,
   "metadata": {},
   "outputs": [],
   "source": [
    "import numpy as np\n",
    "import scipy as sp\n",
    "import time as tttt\n",
    "from netCDF4 import Dataset,num2date\n",
    "import os\n",
    "\n",
    "import matplotlib\n",
    "import matplotlib.pyplot as plt\n",
    "import matplotlib.path as mpath\n",
    "import matplotlib.ticker as mticker\n",
    "import iris\n",
    "import iris.plot as iplt\n",
    "import cartopy\n",
    "import cartopy.crs as ccrs"
   ]
  },
  {
   "cell_type": "code",
   "execution_count": 2,
   "metadata": {},
   "outputs": [],
   "source": [
    "################################   Input zone  #########################################\n",
    "# specify starting and ending time\n",
    "# specify data path\n",
    "# ERAI 3D fields on pressure level\n",
    "datapath_ERAI = '/home/ESLT0068/WorkFlow/Core_Database_DeepLearn/ERA-Interim/sic_daily'\n",
    "#datapath_ERAI = '/home/ESLT0068/WorkFlow/Core_Database_AMET_OMET_reanalysis/ERAI/regression'\n",
    "datapath_ORAS4 = '/home/ESLT0068/WorkFlow/Core_Database_AMET_OMET_reanalysis/warehouse_met'\n",
    "datapath_ORAS4_mask = '/home/ESLT0068/WorkFlow/Core_Database_AMET_OMET_reanalysis/ORAS4'\n",
    "# specify output path for figures\n",
    "output_path = '/home/ESLT0068/WorkFlow/Core_Database_DeepLearn/ORAS4'\n",
    "########################################################################################"
   ]
  },
  {
   "cell_type": "code",
   "execution_count": 3,
   "metadata": {},
   "outputs": [
    {
     "name": "stdout",
     "output_type": "stream",
     "text": [
      "*********************** get the key to the datasets *************************\n"
     ]
    },
    {
     "ename": "FileNotFoundError",
     "evalue": "[Errno 2] No such file or directory: b'/home/ESLT0068/WorkFlow/Core_Database_DeepLearn/ERA-Interim/sic_daily/era1980/pressure_daily_075_diagnostic_1979_10_sic.nc'",
     "output_type": "error",
     "traceback": [
      "\u001b[0;31m---------------------------------------------------------------------------\u001b[0m",
      "\u001b[0;31mFileNotFoundError\u001b[0m                         Traceback (most recent call last)",
      "\u001b[0;32m<ipython-input-3-835cea62b9f1>\u001b[0m in \u001b[0;36m<module>\u001b[0;34m()\u001b[0m\n\u001b[1;32m      4\u001b[0m \u001b[0;31m#                                               'surface_ERAI_monthly_regress_1979_2016.nc'))\u001b[0m\u001b[0;34m\u001b[0m\u001b[0;34m\u001b[0m\u001b[0m\n\u001b[1;32m      5\u001b[0m     dataset_ERAI_fields_SIC_SST_SLP = Dataset(os.path.join(datapath_ERAI, 'era1980',\n\u001b[0;32m----> 6\u001b[0;31m                                               'pressure_daily_075_diagnostic_1979_10_sic.nc'))\n\u001b[0m\u001b[1;32m      7\u001b[0m     dataset_ORAS4_OHC = Dataset(os.path.join(datapath_ORAS4,\n\u001b[1;32m      8\u001b[0m                                              'oras_model_monthly_1958_2017_ohc.nc'))\n",
      "\u001b[0;32mnetCDF4/_netCDF4.pyx\u001b[0m in \u001b[0;36mnetCDF4._netCDF4.Dataset.__init__\u001b[0;34m()\u001b[0m\n",
      "\u001b[0;32mnetCDF4/_netCDF4.pyx\u001b[0m in \u001b[0;36mnetCDF4._netCDF4._ensure_nc_success\u001b[0;34m()\u001b[0m\n",
      "\u001b[0;31mFileNotFoundError\u001b[0m: [Errno 2] No such file or directory: b'/home/ESLT0068/WorkFlow/Core_Database_DeepLearn/ERA-Interim/sic_daily/era1980/pressure_daily_075_diagnostic_1979_10_sic.nc'"
     ]
    }
   ],
   "source": [
    "if __name__==\"__main__\":\n",
    "    print ('*********************** get the key to the datasets *************************')\n",
    "#     dataset_ERAI_fields_SIC_SST_SLP = Dataset(os.path.join(datapath_ERAI,\n",
    "#                                               'surface_ERAI_monthly_regress_1979_2016.nc'))\n",
    "    dataset_ERAI_fields_SIC_SST_SLP = Dataset(os.path.join(datapath_ERAI, 'era1979',\n",
    "                                              'pressure_daily_075_diagnostic_1979_10_sic.nc'))\n",
    "    dataset_ORAS4_OHC = Dataset(os.path.join(datapath_ORAS4,\n",
    "                                             'oras_model_monthly_1958_2017_ohc.nc'))\n",
    "    # mask\n",
    "    dataset_ORAS4_mask = Dataset(os.path.join(datapath_ORAS4_mask, 'mesh_mask.nc'))\n",
    "    print ('*********************** extract variables *************************')\n",
    "    SIC = dataset_ERAI_fields_SIC_SST_SLP.variables['siconc'][0,:,:]\n",
    "    mask_SIC = np.ma.getmask(SIC[:])\n",
    "    latitude_ERAI = dataset_ERAI_fields_SIC_SST_SLP.variables['latitude'][:]\n",
    "    longitude_ERAI = dataset_ERAI_fields_SIC_SST_SLP.variables['longitude'][:]\n",
    "    OHC_300_ORAS4 = dataset_ORAS4_OHC.variables['OHC_300'][20:,:,:,:]/1000 # from 1978 - 2017 unit Peta Joule\n",
    "    year = dataset_ORAS4_OHC.variables['year'][20:]\n",
    "    month = dataset_ORAS4_OHC.variables['month'][:]\n",
    "    gphit_OHC_ORAS4 = dataset_ORAS4_OHC.variables['gphit'][:,:]\n",
    "    glamt_OHC_ORAS4 = dataset_ORAS4_OHC.variables['glamt'][:,:]    "
   ]
  },
  {
   "cell_type": "code",
   "execution_count": 4,
   "metadata": {},
   "outputs": [
    {
     "name": "stdout",
     "output_type": "stream",
     "text": [
      "*********************** regridding with iris *************************\n"
     ]
    }
   ],
   "source": [
    "    print ('*********************** regridding with iris *************************')\n",
    "    OHC_regrid = np.zeros((len(year),len(month),len(latitude_ERAI),len(longitude_ERAI)), dtype=float)\n",
    "    for i in np.arange(len(year)):\n",
    "        for j in np.arange(len(month)):\n",
    "            # load the target fields\n",
    "            OHC = OHC_300_ORAS4[i,j,:,:]\n",
    "            # basic dimensions for cube in iris\n",
    "            lat_iris = iris.coords.AuxCoord(gphit_OHC_ORAS4, standard_name='latitude', long_name='latitude',\n",
    "                                            var_name='lat', units='degrees')\n",
    "            lon_iris = iris.coords.AuxCoord(glamt_OHC_ORAS4, standard_name='longitude', long_name='longitude',\n",
    "                                            var_name='lon', units='degrees')\n",
    "            # assembly the cube\n",
    "            cube_iris = iris.cube.Cube(OHC, long_name='curvilinear field', var_name='field', \n",
    "                                       units='1', aux_coords_and_dims=[(lat_iris, (0,1)), (lon_iris, (0,1))])\n",
    "            coord_sys = iris.coord_systems.GeogCS(iris.fileformats.pp.EARTH_RADIUS)\n",
    "            cube_iris.coord('latitude').coord_system = coord_sys\n",
    "            cube_iris.coord('longitude').coord_system = coord_sys \n",
    "            # different methods for interpolation\n",
    "            # weight interpolation / nearest neighbour interpolation / nearest neighbour interpolation for visualization only\n",
    "            method = 'neighbour' \n",
    "            if method == 'neighbour': # nearest neighbour interpolation\n",
    "                # more detials about this method\n",
    "                # https://scitools.org.uk/iris/docs/latest/iris/iris/experimental/regrid.html\n",
    "                # choose the projection map type\n",
    "                projection = ccrs.PlateCarree()\n",
    "                # assemble the target cube\n",
    "                # create grid_cube for regridding, this is a dummy cube with desired grid\n",
    "                #lat_grid = np.linspace(-90, 90, 181)\n",
    "                lat_grid = latitude_ERAI\n",
    "                # lon_grid = np.linspace(-180, 180, 361)\n",
    "                lon_grid = longitude_ERAI\n",
    "                # interpolate_points = [('latitude', np.linspace(-90, 90, 181)),\n",
    "                #                       ('longitude', np.linspace(-180, 181, 361))]\n",
    "                lat_aux = iris.coords.DimCoord(lat_grid, standard_name='latitude',\n",
    "                                               units='degrees_north', coord_system='GeogCS')\n",
    "                lon_aux = iris.coords.DimCoord(lon_grid, standard_name='longitude',\n",
    "                                               units='degrees_east', coord_system='GeogCS')\n",
    "                dummy_data = np.zeros((len(lat_grid), len(lon_grid)))\n",
    "                cube_tar = iris.cube.Cube(dummy_data,dim_coords_and_dims=[(lat_aux, 0), (lon_aux, 1)])\n",
    "                # create the coordinate system for the target cube\n",
    "                cube_tar.coord('latitude').guess_bounds()\n",
    "                cube_tar.coord('longitude').guess_bounds()\n",
    "                cube_tar.coord('latitude').coord_system = coord_sys\n",
    "                cube_tar.coord('longitude').coord_system = coord_sys\n",
    "                # create a weight matrix for regridding\n",
    "                weights = np.ones(cube_iris.shape)\n",
    "                # get regridder from given cubes\n",
    "                base = iris.analysis.UnstructuredNearest()\n",
    "                regridder = base.regridder(cube_iris,cube_tar)\n",
    "                # Transform cube to target projection\n",
    "                cube_regrid = regridder(cube_iris)\n",
    "            elif method == 'neighbour_fastview': # nearest neighbour interpolation for a quick visualization only\n",
    "                # choose the projection map type\n",
    "                projection = ccrs.PlateCarree()\n",
    "                # Transform cube to target projection\n",
    "                # this method only means for a fast visualization. We can not choose target coordinate\n",
    "                cube_regrid, extent = iris.analysis.cartography.project(cube_iris, projection,\n",
    "                                                                        nx=len(longitude_ERAI), ny=len(latitude_ERAI))    \n",
    "            elif method == 'weight':\n",
    "                # we have to define a weight to make the regridding work\n",
    "                # create grid_cube for regridding, this is a dummy cube with desired grid\n",
    "                #lat_grid = np.linspace(-90, 90, 181)\n",
    "                lat_grid = latitude_ERAI\n",
    "                # lon_grid = np.linspace(-180, 180, 361)\n",
    "                lon_grid = longitude_ERAI\n",
    "                # interpolate_points = [('latitude', np.linspace(-90, 90, 181)),\n",
    "                #                       ('longitude', np.linspace(-180, 181, 361))]\n",
    "                lat_aux = iris.coords.DimCoord(lat_grid, standard_name='latitude',\n",
    "                                               units='degrees_north', coord_system='GeogCS')\n",
    "                lon_aux = iris.coords.DimCoord(lon_grid, standard_name='longitude',\n",
    "                                               units='degrees_east', coord_system='GeogCS')\n",
    "                dummy_data = np.zeros((len(lat_grid), len(lon_grid)))\n",
    "                aux_cube = iris.cube.Cube(dummy_data,dim_coords_and_dims=[(lat_aux, 0), (lon_aux, 1)])\n",
    "                # Feed cube with coordinate system\n",
    "                aux_cube.coord('latitude').guess_bounds()\n",
    "                aux_cube.coord('longitude').guess_bounds()\n",
    "                aux_cube.coord('latitude').coord_system = coord_sys\n",
    "                aux_cube.coord('longitude').coord_system = coord_sys\n",
    "                # create a weight matrix for regridding\n",
    "                weights = np.ones(cube_iris.shape)\n",
    "                # interpolate from ORCA grid to rectilinear grid through bilinear interpolation\n",
    "                # The method uses point in cell interpolation and then perform the bilinear interpolation\n",
    "                # based on distance and weight\n",
    "                cube_regrid = iris.experimental.regrid.regrid_weighted_curvilinear_to_rectilinear(cube_iris,weights,aux_cube)\n",
    "            else:\n",
    "                print('This module only supports nearest neighbour interpolation or bilinear interpolation!')\n",
    "            # save the output fields after regridding\n",
    "            OHC_regrid[i,j,:,:] = np.ma.masked_array(cube_regrid.data,mask_SIC)\n",
    "            OHC_regrid[OHC_regrid>1E+10] = 0 # clean up unrealistic data\n",
    "            OHC_regrid[OHC_regrid<-1E+10] = 0 # clean up unrealistic data\n",
    "            # set filled value\n",
    "            np.ma.set_fill_value(OHC_regrid,0)"
   ]
  },
  {
   "cell_type": "code",
   "execution_count": 30,
   "metadata": {},
   "outputs": [
    {
     "name": "stdout",
     "output_type": "stream",
     "text": [
      "*********************** output visualization *************************\n",
      "curvilinear field / (1)             (latitude: 241; longitude: 480)\n",
      "     Dimension coordinates:\n",
      "          latitude                           x               -\n",
      "          longitude                          -               x\n",
      "[ 90.    89.25  88.5   87.75  87.    86.25  85.5   84.75  84.    83.25\n",
      "  82.5   81.75  81.    80.25  79.5   78.75  78.    77.25  76.5   75.75\n",
      "  75.    74.25  73.5   72.75  72.    71.25  70.5   69.75  69.    68.25\n",
      "  67.5   66.75  66.    65.25  64.5   63.75  63.    62.25  61.5   60.75\n",
      "  60.    59.25  58.5   57.75  57.    56.25  55.5   54.75  54.    53.25\n",
      "  52.5   51.75  51.    50.25  49.5   48.75  48.    47.25  46.5   45.75\n",
      "  45.    44.25  43.5   42.75  42.    41.25  40.5   39.75  39.    38.25\n",
      "  37.5   36.75  36.    35.25  34.5   33.75  33.    32.25  31.5   30.75\n",
      "  30.    29.25  28.5   27.75  27.    26.25  25.5   24.75  24.    23.25\n",
      "  22.5   21.75  21.    20.25  19.5   18.75  18.    17.25  16.5   15.75\n",
      "  15.    14.25  13.5   12.75  12.    11.25  10.5    9.75   9.     8.25\n",
      "   7.5    6.75   6.     5.25   4.5    3.75   3.     2.25   1.5    0.75\n",
      "   0.    -0.75  -1.5   -2.25  -3.    -3.75  -4.5   -5.25  -6.    -6.75\n",
      "  -7.5   -8.25  -9.    -9.75 -10.5  -11.25 -12.   -12.75 -13.5  -14.25\n",
      " -15.   -15.75 -16.5  -17.25 -18.   -18.75 -19.5  -20.25 -21.   -21.75\n",
      " -22.5  -23.25 -24.   -24.75 -25.5  -26.25 -27.   -27.75 -28.5  -29.25\n",
      " -30.   -30.75 -31.5  -32.25 -33.   -33.75 -34.5  -35.25 -36.   -36.75\n",
      " -37.5  -38.25 -39.   -39.75 -40.5  -41.25 -42.   -42.75 -43.5  -44.25\n",
      " -45.   -45.75 -46.5  -47.25 -48.   -48.75 -49.5  -50.25 -51.   -51.75\n",
      " -52.5  -53.25 -54.   -54.75 -55.5  -56.25 -57.   -57.75 -58.5  -59.25\n",
      " -60.   -60.75 -61.5  -62.25 -63.   -63.75 -64.5  -65.25 -66.   -66.75\n",
      " -67.5  -68.25 -69.   -69.75 -70.5  -71.25 -72.   -72.75 -73.5  -74.25\n",
      " -75.   -75.75 -76.5  -77.25 -78.   -78.75 -79.5  -80.25 -81.   -81.75\n",
      " -82.5  -83.25 -84.   -84.75 -85.5  -86.25 -87.   -87.75 -88.5  -89.25\n",
      " -90.  ]\n",
      "[ 90.    89.25  88.5   87.75  87.    86.25  85.5   84.75  84.    83.25\n",
      "  82.5   81.75  81.    80.25  79.5   78.75  78.    77.25  76.5   75.75\n",
      "  75.    74.25  73.5   72.75  72.    71.25  70.5   69.75  69.    68.25\n",
      "  67.5   66.75  66.    65.25  64.5   63.75  63.    62.25  61.5   60.75\n",
      "  60.    59.25  58.5   57.75  57.    56.25  55.5   54.75  54.    53.25\n",
      "  52.5   51.75  51.    50.25  49.5   48.75  48.    47.25  46.5   45.75\n",
      "  45.    44.25  43.5   42.75  42.    41.25  40.5   39.75  39.    38.25\n",
      "  37.5   36.75  36.    35.25  34.5   33.75  33.    32.25  31.5   30.75\n",
      "  30.    29.25  28.5   27.75  27.    26.25  25.5   24.75  24.    23.25\n",
      "  22.5   21.75  21.    20.25  19.5   18.75  18.    17.25  16.5   15.75\n",
      "  15.    14.25  13.5   12.75  12.    11.25  10.5    9.75   9.     8.25\n",
      "   7.5    6.75   6.     5.25   4.5    3.75   3.     2.25   1.5    0.75\n",
      "   0.    -0.75  -1.5   -2.25  -3.    -3.75  -4.5   -5.25  -6.    -6.75\n",
      "  -7.5   -8.25  -9.    -9.75 -10.5  -11.25 -12.   -12.75 -13.5  -14.25\n",
      " -15.   -15.75 -16.5  -17.25 -18.   -18.75 -19.5  -20.25 -21.   -21.75\n",
      " -22.5  -23.25 -24.   -24.75 -25.5  -26.25 -27.   -27.75 -28.5  -29.25\n",
      " -30.   -30.75 -31.5  -32.25 -33.   -33.75 -34.5  -35.25 -36.   -36.75\n",
      " -37.5  -38.25 -39.   -39.75 -40.5  -41.25 -42.   -42.75 -43.5  -44.25\n",
      " -45.   -45.75 -46.5  -47.25 -48.   -48.75 -49.5  -50.25 -51.   -51.75\n",
      " -52.5  -53.25 -54.   -54.75 -55.5  -56.25 -57.   -57.75 -58.5  -59.25\n",
      " -60.   -60.75 -61.5  -62.25 -63.   -63.75 -64.5  -65.25 -66.   -66.75\n",
      " -67.5  -68.25 -69.   -69.75 -70.5  -71.25 -72.   -72.75 -73.5  -74.25\n",
      " -75.   -75.75 -76.5  -77.25 -78.   -78.75 -79.5  -80.25 -81.   -81.75\n",
      " -82.5  -83.25 -84.   -84.75 -85.5  -86.25 -87.   -87.75 -88.5  -89.25\n",
      " -90.  ]\n",
      "[[-1560.03125    -1560.03125    -1560.03125    ... -1560.03125\n",
      "  -1560.03125    -1560.03125   ]\n",
      " [-1808.34985352 -1808.34985352 -1808.34985352 ... -1808.34985352\n",
      "  -1808.34985352 -1808.34985352]\n",
      " [-1994.8392334  -1994.8392334  -1994.8392334  ... -1994.8392334\n",
      "  -1994.8392334  -1994.8392334 ]\n",
      " ...\n",
      " [    0.             0.             0.         ...     0.\n",
      "      0.             0.        ]\n",
      " [    0.             0.             0.         ...     0.\n",
      "      0.             0.        ]\n",
      " [    0.             0.             0.         ...     0.\n",
      "      0.             0.        ]]\n"
     ]
    },
    {
     "data": {
      "text/plain": [
       "<matplotlib.contour.QuadContourSet at 0x7f1a1430ab38>"
      ]
     },
     "execution_count": 30,
     "metadata": {},
     "output_type": "execute_result"
    },
    {
     "data": {
      "image/png": "[encoded data removed]",
      "text/plain": [
       "<Figure size 432x288 with 1 Axes>"
      ]
     },
     "metadata": {},
     "output_type": "display_data"
    }
   ],
   "source": [
    "    print ('*********************** output visualization *************************')\n",
    "    # interpolation complete!!\n",
    "    print (cube_regrid)\n",
    "    data_regrid = cube_regrid.data\n",
    "    y_coord = cube_regrid.coord('latitude').points\n",
    "    x_coord = cube_regrid.coord('longitude').points\n",
    "    print(y_coord[:])\n",
    "    print(latitude_ERAI)\n",
    "    print(x_coord[:])  \n",
    "    print(data_regrid)"
   ]
  },
  {
   "cell_type": "code",
   "execution_count": 7,
   "metadata": {},
   "outputs": [
    {
     "name": "stdout",
     "output_type": "stream",
     "text": [
      "*********************** make netCDF *************************\n",
      "*******************************************************************\n",
      "*********************** create netcdf file*************************\n",
      "*******************************************************************\n",
      "Start creating netcdf file for OHC from 1978 to 2017.\n",
      "Create netcdf file successfully\n"
     ]
    }
   ],
   "source": [
    "    print ('*********************** make netCDF *************************')\n",
    "    create_netcdf_point(OHC_regrid, year, month, latitude_ERAI, longitude_ERAI, output_path)"
   ]
  },
  {
   "cell_type": "code",
   "execution_count": 6,
   "metadata": {},
   "outputs": [],
   "source": [
    "# save output datasets\n",
    "# we only pack our timeseries from 1979 to 2016\n",
    "def create_netcdf_point (field, period, week, latitude, longitude, output_path):\n",
    "    print ('*******************************************************************')\n",
    "    print ('*********************** create netcdf file*************************')\n",
    "    print ('*******************************************************************')\n",
    "    print(\"Start creating netcdf file for OHC from 1978 to 2017.\")\n",
    "    # wrap the datasets into netcdf file\n",
    "    # 'NETCDF3_CLASSIC', 'NETCDF3_64BIT', 'NETCDF4_CLASSIC', and 'NETCDF4'\n",
    "    data_wrap = Dataset(output_path + os.sep + 'ohc_monthly_oras2erai_1978_2017.nc','w',format = 'NETCDF4')\n",
    "    # create dimensions for netcdf data\n",
    "    year_wrap_dim = data_wrap.createDimension('year', len(period))\n",
    "    week_wrap_dim = data_wrap.createDimension('week', len(week))\n",
    "    lat_wrap_dim = data_wrap.createDimension('latitude', len(latitude))\n",
    "    lon_wrap_dim = data_wrap.createDimension('longitude', len(longitude))\n",
    "    # create coordinate variables for 3-dimensions\n",
    "    year_wrap_var = data_wrap.createVariable('year',np.int32,('year',))\n",
    "    week_wrap_var = data_wrap.createVariable('week',np.int32,('week',))\n",
    "    lat_wrap_var = data_wrap.createVariable('latitude',np.float64,('latitude',))\n",
    "    lon_wrap_var = data_wrap.createVariable('longitude',np.float64,('longitude',))    \n",
    "    # create the actual 4-d variable\n",
    "    field_wrap_var = data_wrap.createVariable('OHC',np.float64,('year','week','latitude','longitude'))\n",
    "\n",
    "    # global attributes\n",
    "    data_wrap.description = 'Monthly Ocean Heat Content regridded on rectilinear grid'\n",
    "    # variable attributes\n",
    "    lat_wrap_var.units = 'degree_north'\n",
    "    lon_wrap_var.units = 'degree_east'\n",
    "    field_wrap_var.units = 'Peta Joule'\n",
    "    field_wrap_var.long_name = 'Ocean Heat Content'\n",
    "\n",
    "    # writing data\n",
    "    year_wrap_var[:] = period\n",
    "    week_wrap_var[:] = week\n",
    "    lat_wrap_var[:] = latitude\n",
    "    lon_wrap_var[:] = longitude\n",
    "    field_wrap_var[:] = field\n",
    "\n",
    "    # close the file\n",
    "    data_wrap.close()\n",
    "    print (\"Create netcdf file successfully\")"
   ]
  }
 ],
 "metadata": {
  "kernelspec": {
   "display_name": "Python 3",
   "language": "python",
   "name": "python3"
  },
  "language_info": {
   "codemirror_mode": {
    "name": "ipython",
    "version": 3
   },
   "file_extension": ".py",
   "mimetype": "text/x-python",
   "name": "python",
   "nbconvert_exporter": "python",
   "pygments_lexer": "ipython3",
   "version": "3.6.5"
  }
 },
 "nbformat": 4,
 "nbformat_minor": 2
}
