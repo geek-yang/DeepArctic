{
 "cells": [
  {
   "cell_type": "markdown",
   "metadata": {},
   "source": [
    "# Copyright Netherlands eScience Center <br>\n",
    "** Function     : Packing the subdaily sea ice concentration fields into weekly fields from ERA-Interim as netCDF** <br>\n",
    "** Author       : Yang Liu ** <br>\n",
    "** First Built  : 2019.05.17 ** <br>\n",
    "** Last Update  : 2019.05.17 ** <br>\n",
    "Description     : This notebook aims to pack the subdaily SIC fields to weekly SIC fields from ERA-Interim.<br>\n",
    "Return Values   : netCDF4 <br>\n",
    "Caveat          : The data is subdaily mean of the spatial distribution of sea ice from 40N to 90N, dated from 1979 to 2017. It has sampling times as:<br>\n",
    "0:00 + 6:00 + 12:00 + 18:00 <br>\n",
    "For the calculation of weekly fields, we assume each month consist of 4 weeks. The first 3 weeks including 7 days. The 4th week contain the rest of the days in that month."
   ]
  },
  {
   "cell_type": "code",
   "execution_count": 1,
   "metadata": {},
   "outputs": [],
   "source": [
    "import numpy as np\n",
    "import scipy as sp\n",
    "import time as tttt\n",
    "from netCDF4 import Dataset,num2date\n",
    "import os"
   ]
  },
  {
   "cell_type": "code",
   "execution_count": 2,
   "metadata": {},
   "outputs": [],
   "source": [
    "################################   Input zone  #########################################\n",
    "# specify starting and ending time\n",
    "start_year = 1979\n",
    "end_year = 2017\n",
    "# specify data path\n",
    "# ERAI 3D fields on pressure level\n",
    "datapath = '/home/ESLT0068/WorkFlow/Core_Database_DeepLearn/ERA-Interim/sic_daily'\n",
    "# specify output path for figures\n",
    "output_path = '/home/ESLT0068/WorkFlow/Core_Database_DeepLearn/ERA-Interim'\n",
    "########################################################################################"
   ]
  },
  {
   "cell_type": "code",
   "execution_count": 3,
   "metadata": {},
   "outputs": [],
   "source": [
    "#datapath_full = os.path.join(datapath, 'era1991','pressure_daily_075_diagnostic_1991_2_sic.nc')\n",
    "datapath_full = os.path.join('/home/ESLT0068/WorkFlow/Core_Database_DeepLearn/ERA-Interim',\n",
    "                             'sic_weekly_erai_1979_2017.nc')\n",
    "# get the variable keys\n",
    "var_key = Dataset(datapath_full)"
   ]
  },
  {
   "cell_type": "code",
   "execution_count": null,
   "metadata": {},
   "outputs": [],
   "source": [
    "sic_subdaily = var_key.variables['siconc'][:]\n",
    "mask = np.ma.getmask(sic_subdaily[:,:,:])\n",
    "sic_subdaily[mask==True] = -1.0\n",
    "sic_daily = (sic_subdaily[::4,:,:] + sic_subdaily[1::4,:,:] + sic_subdaily[2::4,:,:] + sic_subdaily[3::4,:,:]) / 4\n",
    "# take weekly mean\n",
    "sic_weekly = np.zeros((4,67,480),dtype=float)\n",
    "for i in np.arange(4):\n",
    "    if i < 3:\n",
    "        sic_weekly[i,:,:] = np.mean(sic_daily[i*7:i*7+7,:,:],axis=0)\n",
    "    else:\n",
    "        sic_weekly[i,:,:] = np.mean(sic_daily[i*7:,:,:],axis=0)"
   ]
  },
  {
   "cell_type": "code",
   "execution_count": null,
   "metadata": {},
   "outputs": [],
   "source": [
    "print(sic_subdaily[12,10:30,120:150])\n",
    "print(sic_daily[12,10:30,120:150])\n",
    "print(sic_weekly[0,10:30,120:150])\n",
    "print(mask.shape)"
   ]
  },
  {
   "cell_type": "code",
   "execution_count": null,
   "metadata": {},
   "outputs": [],
   "source": [
    "# save output datasets\n",
    "# we only pack our timeseries from 1979 to 2016\n",
    "def create_netcdf_point (SIC, period, week, latitude, longitude, output_path):\n",
    "    print ('*******************************************************************')\n",
    "    print ('*********************** create netcdf file*************************')\n",
    "    print ('*******************************************************************')\n",
    "    print(\"Start creating netcdf file for SIV from 1979 to 2017.\")\n",
    "    # wrap the datasets into netcdf file\n",
    "    # 'NETCDF3_CLASSIC', 'NETCDF3_64BIT', 'NETCDF4_CLASSIC', and 'NETCDF4'\n",
    "    data_wrap = Dataset(output_path + os.sep + 'sic_weekly_erai_1979_2017.nc','w',format = 'NETCDF4')\n",
    "    # create dimensions for netcdf data\n",
    "    year_wrap_dim = data_wrap.createDimension('year', len(period))\n",
    "    week_wrap_dim = data_wrap.createDimension('week', len(week))\n",
    "    lat_wrap_dim = data_wrap.createDimension('latitude', len(latitude))\n",
    "    lon_wrap_dim = data_wrap.createDimension('longitude', len(longitude))\n",
    "    # create coordinate variables for 3-dimensions\n",
    "    year_wrap_var = data_wrap.createVariable('year',np.int32,('year',))\n",
    "    week_wrap_var = data_wrap.createVariable('week',np.int32,('week',))\n",
    "    lat_wrap_var = data_wrap.createVariable('latitude',np.float32,('latitude',))\n",
    "    lon_wrap_var = data_wrap.createVariable('longitude',np.float32,('longitude',))    \n",
    "    # create the actual 4-d variable\n",
    "    SIC_wrap_var = data_wrap.createVariable('sic',np.float64,('year','week','latitude','longitude'))\n",
    "\n",
    "    # global attributes\n",
    "    data_wrap.description = 'Weekly Sea Ice Concentration'\n",
    "    # variable attributes\n",
    "    lat_wrap_var.units = 'degree_north'\n",
    "    lon_wrap_var.units = 'degree_east'\n",
    "    SIC_wrap_var.units = 'fraction of sea ice'\n",
    "    SIC_wrap_var.long_name = 'sea ice concentration'\n",
    "\n",
    "    # writing data\n",
    "    year_wrap_var[:] = period\n",
    "    week_wrap_var[:] = week\n",
    "    lat_wrap_var[:] = latitude\n",
    "    lon_wrap_var[:] = longitude\n",
    "    SIC_wrap_var[:] = SIC\n",
    "\n",
    "    # close the file\n",
    "    data_wrap.close()\n",
    "    print (\"Create netcdf file successfully\")"
   ]
  },
  {
   "cell_type": "code",
   "execution_count": null,
   "metadata": {},
   "outputs": [],
   "source": [
    "if __name__==\"__main__\":\n",
    "    ####################################################################\n",
    "    ######  Create time namelist matrix for variable extraction  #######\n",
    "    ####################################################################\n",
    "    # date and time arrangement\n",
    "    # namelist of month and days for file manipulation\n",
    "    namelist_month = ['01','02','03','04','05','06','07','08','09','10','11','12']\n",
    "    # index of months\n",
    "    period = np.arange(start_year,end_year+1,1)\n",
    "    index_month = np.arange(1,13,1)\n",
    "    index_week = np.arange(1,49,1)\n",
    "    ####################################################################\n",
    "    ######       Extract invariant and calculate constants       #######\n",
    "    ####################################################################\n",
    "    # get invariant from benchmark file\n",
    "    Dim_year = len(period)\n",
    "    Dim_month = len(index_month)\n",
    "    Dim_week = len(index_week)\n",
    "    Dim_latitude = 67\n",
    "    Dim_longitude = 480\n",
    "    #############################################\n",
    "    #####   Create space for stroing data   #####\n",
    "    #############################################\n",
    "    # data pool\n",
    "    pool_sic = np.zeros((Dim_year,Dim_week,Dim_latitude,Dim_longitude),dtype = float)\n",
    "    # loop for calculation\n",
    "    for i in period:\n",
    "        for j in index_month:\n",
    "            var_key = var_key_retrieve(datapath,i,j)\n",
    "            # get the key of each variable\n",
    "            latitude = var_key.variables['latitude'][:]\n",
    "            longitude = var_key.variables['longitude'][:]\n",
    "            sic_weekly = retriver(var_key,latitude,longitude)\n",
    "            pool_sic[i-1979,j*4-4:j*4,:,:] = sic_weekly\n",
    "    ####################################################################\n",
    "    ######                 Data Wrapping (NetCDF)                #######\n",
    "    ####################################################################\n",
    "    create_netcdf_point(pool_sic, period, index_week,\n",
    "                        latitude, longitude, output_path)\n",
    "    print ('Packing 2D fields of ERA-Interim on surface level is complete!!!')\n",
    "    print ('The output is in sleep, safe and sound!!!')"
   ]
  }
 ],
 "metadata": {
  "kernelspec": {
   "display_name": "Python 3",
   "language": "python",
   "name": "python3"
  },
  "language_info": {
   "codemirror_mode": {
    "name": "ipython",
    "version": 3
   },
   "file_extension": ".py",
   "mimetype": "text/x-python",
   "name": "python",
   "nbconvert_exporter": "python",
   "pygments_lexer": "ipython3",
   "version": "3.6.5"
  }
 },
 "nbformat": 4,
 "nbformat_minor": 2
}
