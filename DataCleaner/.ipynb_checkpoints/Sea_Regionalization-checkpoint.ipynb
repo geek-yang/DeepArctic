{
 "cells": [
  {
   "cell_type": "markdown",
   "metadata": {},
   "source": [
    "# Copyright Netherlands eScience Center <br>\n",
    "** Function     : Mask of regionalization of seas in the Arctic from ERA-Interim** <br>\n",
    "** Author       : Yang Liu ** <br>\n",
    "** First Built  : 2019.05.19 ** <br>\n",
    "** Last Update  : 2019.05.21 ** <br>\n",
    "Description     : This notebook aims to make the mask file for the regionalization of the seas in the Arctic based on SIC fields from ERA-Interim.<br>\n",
    "Return Values   : netCDF4 <br>\n",
    "Caveat          : <br>\n",
    "The regionalization adopted here follows that of the MASIE (Multisensor Analyzed Sea Ice Extent) product available from the National Snow and Ice Data Center:<br>\n",
    "https://nsidc.org/data/masie/browse_regions<br>\n",
    "It is given by paper J.Walsh et. al., 2019. Benchmark seasonal prediction skill estimates based on regional indices.<br>"
   ]
  },
  {
   "cell_type": "code",
   "execution_count": 1,
   "metadata": {},
   "outputs": [],
   "source": [
    "import numpy as np\n",
    "import scipy as sp\n",
    "import time as tttt\n",
    "from netCDF4 import Dataset,num2date\n",
    "import os\n",
    "\n",
    "import matplotlib\n",
    "import matplotlib.pyplot as plt\n",
    "import matplotlib.path as mpath\n",
    "import matplotlib.ticker as mticker\n",
    "import iris\n",
    "import iris.plot as iplt\n",
    "import cartopy\n",
    "import cartopy.crs as ccrs"
   ]
  },
  {
   "cell_type": "code",
   "execution_count": 2,
   "metadata": {},
   "outputs": [],
   "source": [
    "################################   Input zone  #########################################\n",
    "# specify starting and ending time\n",
    "# specify data path\n",
    "# ERAI 3D fields on pressure level\n",
    "datapath = '/home/ESLT0068/WorkFlow/Core_Database_DeepLearn/ERA-Interim/sic_daily'\n",
    "# specify output path for figures\n",
    "output_path = '/home/ESLT0068/WorkFlow/Core_Database_DeepLearn/ERA-Interim/seas_mask'\n",
    "########################################################################################"
   ]
  },
  {
   "cell_type": "code",
   "execution_count": 3,
   "metadata": {},
   "outputs": [
    {
     "name": "stdout",
     "output_type": "stream",
     "text": [
      "*********************** extract variables *************************\n"
     ]
    }
   ],
   "source": [
    "print ('*********************** extract variables *************************')\n",
    "datapath_full = os.path.join(datapath, 'era1991','pressure_daily_075_diagnostic_1991_2_sic.nc')\n",
    "# get the variable keys\n",
    "var_key = Dataset(datapath_full)"
   ]
  },
  {
   "cell_type": "code",
   "execution_count": 4,
   "metadata": {},
   "outputs": [
    {
     "name": "stdout",
     "output_type": "stream",
     "text": [
      "*********************** basic dimensions and land-sea mask *************************\n"
     ]
    }
   ],
   "source": [
    "print ('*********************** basic dimensions and land-sea mask *************************')\n",
    "sic_grid = var_key.variables['siconc'][0,:,:]\n",
    "mask = np.ma.getmask(sic_grid[:])\n",
    "#sic_subdaily[mask==True] = -1.0\n",
    "latitude = var_key.variables['latitude'][:]\n",
    "longitude = var_key.variables['longitude'][:]"
   ]
  },
  {
   "cell_type": "code",
   "execution_count": 101,
   "metadata": {},
   "outputs": [
    {
     "name": "stdout",
     "output_type": "stream",
     "text": [
      "*********************** create mask *************************\n"
     ]
    }
   ],
   "source": [
    "print ('*********************** create mask *************************')\n",
    "# W:-156 E:-124 N:80 S:67\n",
    "mask_Beaufort = np.zeros((len(latitude),len(longitude)),dtype=int)\n",
    "# W:-180 E:-156 N:80 S:66\n",
    "mask_Chukchi = np.zeros((len(latitude),len(longitude)),dtype=int)\n",
    "# W:146 E:180 N:80 S:67\n",
    "mask_EastSiberian = np.zeros((len(latitude),len(longitude)),dtype=int)\n",
    "# W:100 E:146 N:80 S:67\n",
    "mask_Laptev = np.zeros((len(latitude),len(longitude)),dtype=int)\n",
    "# W:60 E:100 N:80 S:67\n",
    "mask_Kara = np.zeros((len(latitude),len(longitude)),dtype=int)\n",
    "# W:18 E:60 N:80 S:64\n",
    "mask_Barents = np.zeros((len(latitude),len(longitude)),dtype=int)\n",
    "# W:-44 E:18 N:80 S:55\n",
    "mask_Greenland = np.zeros((len(latitude),len(longitude)),dtype=int)\n",
    "# W:-180 E:180 N:90 S:80\n",
    "mask_CenArctic = np.zeros((len(latitude),len(longitude)),dtype=int)"
   ]
  },
  {
   "cell_type": "code",
   "execution_count": 100,
   "metadata": {},
   "outputs": [
    {
     "name": "stdout",
     "output_type": "stream",
     "text": [
      "[ 0.    0.75  1.5   2.25  3.    3.75  4.5   5.25  6.    6.75  7.5   8.25\n",
      "  9.    9.75 10.5  11.25 12.   12.75 13.5  14.25 15.   15.75 16.5  17.25]\n",
      "[70.   69.25 68.5  67.75 67.   66.25 65.5  64.75 64.   63.25 62.5  61.75\n",
      " 61.   60.25 59.5  58.75 58.   57.25 56.5  55.75 55.  ]\n"
     ]
    }
   ],
   "source": [
    "print(longitude[240:264])#\n",
    "print(latitude[26:47])"
   ]
  },
  {
   "cell_type": "code",
   "execution_count": 102,
   "metadata": {},
   "outputs": [
    {
     "name": "stdout",
     "output_type": "stream",
     "text": [
      "*********************** calc mask *************************\n"
     ]
    }
   ],
   "source": [
    "print ('*********************** calc mask *************************')\n",
    "mask_Beaufort[13:31,32:76] = 1\n",
    "\n",
    "mask_Chukchi[13:32,0:32] = 1\n",
    "mask_Chukchi[13:32,-1] = 1\n",
    "\n",
    "mask_EastSiberian[13:31,434:479] = 1\n",
    "\n",
    "mask_Laptev[13:31,374:434] = 1\n",
    "\n",
    "mask_Kara[13:31,320:374] = 1\n",
    "\n",
    "mask_Barents[13:36,264:320] = 1\n",
    "\n",
    "mask_Greenland[13:47,179:264] = 1\n",
    "mask_Greenland[26:47,240:264] = 0\n",
    "\n",
    "mask_CenArctic[:13,:] = 1"
   ]
  },
  {
   "cell_type": "code",
   "execution_count": 104,
   "metadata": {},
   "outputs": [
    {
     "name": "stdout",
     "output_type": "stream",
     "text": [
      "*********************** map view *************************\n"
     ]
    },
    {
     "data": {
      "image/png": "[encoded data removed]",
      "text/plain": [
       "<Figure size 432x288 with 1 Axes>"
      ]
     },
     "metadata": {},
     "output_type": "display_data"
    }
   ],
   "source": [
    "print ('*********************** map view *************************')\n",
    "# first construct iris coordinate\n",
    "lat_iris = iris.coords.DimCoord(latitude, standard_name='latitude', long_name='latitude',\n",
    "                                var_name='lat', units='degrees')\n",
    "lon_iris = iris.coords.DimCoord(longitude, standard_name='longitude', long_name='longitude',\n",
    "                                var_name='lon', units='degrees')\n",
    "coord_sys = iris.coord_systems.GeogCS(iris.fileformats.pp.EARTH_RADIUS)\n",
    "# assembly the cube\n",
    "cube_iris = iris.cube.Cube(mask_CenArctic, long_name='geographical field', var_name='field', \n",
    "                           units='1', dim_coords_and_dims=[(lat_iris, 0), (lon_iris, 1)])\n",
    "\n",
    "fig = plt.figure()\n",
    "ax = plt.axes(projection=ccrs.NorthPolarStereo())\n",
    "ax.set_extent([-180,180,50,90],ccrs.PlateCarree())\n",
    "ax.set_aspect('1')\n",
    "ax.coastlines()\n",
    "gl = ax.gridlines(linewidth=1, color='gray', alpha=0.5, linestyle='--')\n",
    "gl.ylocator = mticker.FixedLocator([50,60,70,80,90])\n",
    "theta = np.linspace(0, 2*np.pi, 100)\n",
    "center, radius = [0.5, 0.5], 0.5\n",
    "verts = np.vstack([np.sin(theta), np.cos(theta)]).T\n",
    "circle = mpath.Path(verts * radius + center)\n",
    "ax.set_boundary(circle, transform=ax.transAxes)\n",
    "cs = iplt.contour(cube_iris, cmap='coolwarm') #, vmin=ticks[0], vmax=ticks[-1]\n",
    "#cbar = fig.colorbar(cs,extend='both', orientation='horizontal',\n",
    "#                    shrink =0.8, pad=0.05)\n",
    "iplt.show()\n",
    "fig.savefig(os.path.join(output_path,'mask_.png'), dpi=300)\n",
    "plt.close(fig)"
   ]
  },
  {
   "cell_type": "code",
   "execution_count": 105,
   "metadata": {},
   "outputs": [],
   "source": [
    "#save output datasets\n",
    "# we only pack our timeseries from 1979 to 2016\n",
    "def create_netcdf_point (mask_Beaufort, mask_Chukchi, mask_EastSiberian, mask_Laptev,\n",
    "                         mask_Kara, mask_Barents, mask_Greenland, mask_CenArctic,\n",
    "                         latitude, longitude, output_path):\n",
    "    print ('*******************************************************************')\n",
    "    print ('*********************** create netcdf file*************************')\n",
    "    print ('*******************************************************************')\n",
    "    print(\"Start creating netcdf file for SIV from 1979 to 2017.\")\n",
    "    # wrap the datasets into netcdf file\n",
    "    # 'NETCDF3_CLASSIC', 'NETCDF3_64BIT', 'NETCDF4_CLASSIC', and 'NETCDF4'\n",
    "    data_wrap = Dataset(output_path + os.sep + 'sea_Arctic_mask_erai_1979_2017.nc','w',format = 'NETCDF4')\n",
    "    # create dimensions for netcdf data\n",
    "    lat_wrap_dim = data_wrap.createDimension('latitude', len(latitude))\n",
    "    lon_wrap_dim = data_wrap.createDimension('longitude', len(longitude))\n",
    "    # create coordinate variables for 3-dimensions\n",
    "    lat_wrap_var = data_wrap.createVariable('latitude',np.float32,('latitude',))\n",
    "    lon_wrap_var = data_wrap.createVariable('longitude',np.float32,('longitude',))    \n",
    "    # create the actual 4-d variable\n",
    "    Beaufort_wrap_var = data_wrap.createVariable('Beaufort',np.int32,('latitude','longitude'))\n",
    "    Chukchi_wrap_var = data_wrap.createVariable('Chukchi',np.int32,('latitude','longitude'))\n",
    "    EastSiberian_wrap_var = data_wrap.createVariable('EastSiberian',np.int32,('latitude','longitude'))\n",
    "    Laptev_wrap_var = data_wrap.createVariable('Laptev',np.int32,('latitude','longitude'))\n",
    "    Kara_wrap_var = data_wrap.createVariable('Kara',np.int32,('latitude','longitude'))\n",
    "    Barents_wrap_var = data_wrap.createVariable('Barents',np.int32,('latitude','longitude'))\n",
    "    Greenland_wrap_var = data_wrap.createVariable('Greenland',np.int32,('latitude','longitude'))\n",
    "    CenArctic_wrap_var = data_wrap.createVariable('CenArctic',np.int32,('latitude','longitude'))\n",
    "\n",
    "    # global attributes\n",
    "    data_wrap.description = 'Regionalization of seas in the Arctic'\n",
    "    # variable attributes\n",
    "    lat_wrap_var.units = 'degree_north'\n",
    "    lon_wrap_var.units = 'degree_east'\n",
    "    Beaufort_wrap_var.units = '1'\n",
    "    Chukchi_wrap_var.units = '1'\n",
    "    EastSiberian_wrap_var.units = '1'\n",
    "    Laptev_wrap_var.units = '1'\n",
    "    Kara_wrap_var.units = '1'\n",
    "    Barents_wrap_var.units = '1'\n",
    "    Greenland_wrap_var.units = '1'\n",
    "    CenArctic_wrap_var.units = '1'\n",
    "    \n",
    "    Beaufort_wrap_var.long_name = 'Beaufort mask'\n",
    "    Chukchi_wrap_var.long_name = 'Chukchi mask'\n",
    "    EastSiberian_wrap_var.long_name = 'EastSiberian mask'\n",
    "    _wrap_var.long_name = ' mask'\n",
    "    _wrap_var.long_name = ' mask'\n",
    "    _wrap_var.long_name = ' mask'\n",
    "    CenArctic_wrap_var.long_name = 'CenArctic mask'\n",
    "\n",
    "    # writing data\n",
    "    lat_wrap_var[:] = latitude\n",
    "    lon_wrap_var[:] = longitude\n",
    "    Beaufort_wrap_var[:] = mask_Beaufort\n",
    "\n",
    "    # close the file\n",
    "    data_wrap.close()\n",
    "    print (\"Create netcdf file successfully\")"
   ]
  },
  {
   "cell_type": "code",
   "execution_count": null,
   "metadata": {},
   "outputs": [],
   "source": [
    "if __name__==\"__main__\":\n",
    "    # date and time arrangement\n",
    "    # namelist of month and days for file manipulation\n",
    "    ####################################################################\n",
    "    ######       Extract invariant and calculate constants       #######\n",
    "    ####################################################################\n",
    "    # get invariant from benchmark file\n",
    "    Dim_latitude = 67\n",
    "    Dim_longitude = 480\n",
    "\n",
    "    ####################################################################\n",
    "    ######                 Data Wrapping (NetCDF)                #######\n",
    "    ####################################################################\n",
    "    create_netcdf_point(pool_sic,\n",
    "                        latitude, longitude, output_path)\n",
    "    print ('Packing 2D fields of ERA-Interim on surface level is complete!!!')\n",
    "    print ('The output is in sleep, safe and sound!!!')"
   ]
  }
 ],
 "metadata": {
  "kernelspec": {
   "display_name": "Python 3",
   "language": "python",
   "name": "python3"
  },
  "language_info": {
   "codemirror_mode": {
    "name": "ipython",
    "version": 3
   },
   "file_extension": ".py",
   "mimetype": "text/x-python",
   "name": "python",
   "nbconvert_exporter": "python",
   "pygments_lexer": "ipython3",
   "version": "3.6.5"
  }
 },
 "nbformat": 4,
 "nbformat_minor": 2
}
