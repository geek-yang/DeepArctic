{
 "cells": [
  {
   "cell_type": "markdown",
   "metadata": {},
   "source": [
    "# Copyright Netherlands eScience Center <br>\n",
    "** Function     : Interpolation verification via iris** <br>\n",
    "** Author       : Yang Liu ** <br>\n",
    "** First Built  : 2020.07.23 ** <br>\n",
    "** Last Update  : 2020.07.23 ** <br>\n",
    "Description     : This notebook aims to verify the interpolation of NSIDC sea ice data onto the ERA-Interim grid.<br>\n",
    "Return Values   : netCDF4 <br>\n",
    "Caveat          : The data is further processed by certain algorithms from NASA Goddard Center. The dataset consists of mulitple variables, but we only use the Merged GSFC NASA Team/Bootstrap daily sea ice concentrations from 1978 through most recent processing (variable name:\"goddard_merged_seaice_conc\"). It combines the results from two algorithms by NASA The details about these two algorithms are provided via the link:<br>\n",
    "https://nsidc.org/support/faq/nasa-team-vs-bootstrap-algorithm<br>\n",
    "\n",
    "More information (incl. description of variables) is available through:<br>\n",
    "https://nsidc.org/data/g02202<br>\n",
    "\n",
    "The projection center coordinate (refernce for ygrid and xgrid) info is included in the netCDF file:<br>\n",
    "Latitude: North pole (90 deg)<br>\n",
    "Longitude: -45 deg w.r.t. 0 deg (greenwitch)<br>\n",
    "\n",
    "The coordinate values (latitude & longitude) are the exact values.<br>\n",
    "\n",
    "We also apply nearest neighbour interpolation to the ERA-Interim grid. We use the iris module.<br>\n",
    "\n",
    "Reference\n",
    "Meier, W. N., F. Fetterer, M. Savoie, S. Mallory, R. Duerr, and J. Stroeve. 2017. NOAA/NSIDC Climate Data Record of Passive Microwave Sea Ice Concentration, Version 3. Boulder, Colorado USA. NSIDC: National Snow and Ice Data Center. doi: https://doi.org/10.7265/N59P2ZTG.<br>\n",
    "Peng, G., W. N. Meier, D. Scott, and M. Savoie. 2013. A long-term and reproducible passive microwave sea ice concentration data record for climate studies and monitoring, Earth Syst. Sci. Data. 5. 311-318. https://doi.org/10.5194/essd-5-311-2013<br>"
   ]
  },
  {
   "cell_type": "code",
   "execution_count": 1,
   "metadata": {},
   "outputs": [],
   "source": [
    "import numpy as np\n",
    "import scipy\n",
    "from netCDF4 import Dataset\n",
    "import os\n",
    "import glob\n",
    "import iris\n",
    "import iris.plot as iplt\n",
    "import cartopy\n",
    "import cartopy.crs as ccrs\n",
    "import matplotlib.pyplot as plt"
   ]
  },
  {
   "cell_type": "code",
   "execution_count": 2,
   "metadata": {},
   "outputs": [],
   "source": [
    "################################   Input zone  ######################################\n",
    "# specify data path\n",
    "# SICpm fields\n",
    "datapath = '/home/ESLT0068/WorkFlow/Core_Database_AMET_OMET_reanalysis/SIC_passive_microwave_NASA/daily'\n",
    "datapath_coordinate = '/home/ESLT0068/WorkFlow/Core_Database_DeepLearn/ERA-Interim'\n",
    "# sample\n",
    "benchmark_key = Dataset(os.path.join(datapath,\"2004\",\"seaice_conc_daily_nh_f13_20040112_v03r01.nc\"))\n",
    "coordinate_key = Dataset(os.path.join(datapath_coordinate,\"sic_weekly_erai_1979_2017.nc\"))\n",
    "# specify output path for figures\n",
    "output_path = '/home/ESLT0068/WorkFlow/Core_Database_AMET_OMET_reanalysis/SIC_passive_microwave_NASA'\n",
    "####################################################################################"
   ]
  },
  {
   "cell_type": "code",
   "execution_count": 3,
   "metadata": {},
   "outputs": [
    {
     "name": "stdout",
     "output_type": "stream",
     "text": [
      "(448, 304)\n",
      "(448, 304)\n",
      "(448, 304)\n",
      "(448,)\n",
      "(304,)\n",
      "89.8368159996152\n",
      "31.1026717524309\n",
      "179.813975395493\n",
      "-180.0\n",
      "1.0\n",
      "0.0\n"
     ]
    }
   ],
   "source": [
    "#########################   Basic dimensions of NSIDC sic  #########################\n",
    "latitude = benchmark_key.variables['latitude'][:]\n",
    "longitude = benchmark_key.variables['longitude'][:]\n",
    "ygrid = benchmark_key.variables['ygrid'][:]\n",
    "xgrid = benchmark_key.variables['xgrid'][:]\n",
    "sic_sample = benchmark_key.variables['goddard_merged_seaice_conc'][0,:,:]\n",
    "print(sic_sample.shape)\n",
    "print(latitude.shape)\n",
    "print(longitude.shape)\n",
    "print(ygrid.shape)\n",
    "print(xgrid.shape)\n",
    "print(np.amax(latitude))\n",
    "print(np.amin(latitude))\n",
    "print(np.amax(longitude))\n",
    "print(np.amin(longitude))\n",
    "print(np.amax(sic_sample))\n",
    "print(np.amin(sic_sample))\n",
    "####################################################################################"
   ]
  },
  {
   "cell_type": "code",
   "execution_count": 4,
   "metadata": {},
   "outputs": [],
   "source": [
    "#######################   Target coordinate for interpolation   ######################\n",
    "latitude_ERAI = coordinate_key.variables['latitude'][:]\n",
    "longitude_ERAI = coordinate_key.variables['longitude'][:]\n",
    "#value_sample_coordinate = coordinate_key.variables['sic'][0,0,:,:]\n",
    "#print(lat_coordinate)\n",
    "#print(lon_coordinate)\n",
    "#print(value_sample_coordinate[:3,:])\n",
    "#reshape_test = np.reshape(value_sample_coordinate,[len(lat_coordinate)*len(lon_coordinate)], order='F')\n",
    "#print(reshape_test[:100])\n",
    "#reshape_back = np.reshape(reshape_test,[len(lat_coordinate),len(lon_coordinate)], order='F')\n",
    "#print(reshape_back[:3,:])\n",
    "######################################################################################"
   ]
  },
  {
   "cell_type": "code",
   "execution_count": 13,
   "metadata": {},
   "outputs": [],
   "source": [
    "# basic dimensions for cube in iris\n",
    "lat_iris = iris.coords.AuxCoord(latitude, standard_name='latitude', long_name='latitude',\n",
    "                                            var_name='lat', units='degrees')\n",
    "lon_iris = iris.coords.AuxCoord(longitude, standard_name='longitude', long_name='longitude',\n",
    "                                            var_name='lon', units='degrees')\n",
    "# assembly the cube\n",
    "cube_iris = iris.cube.Cube(sic_sample, long_name='unstructured field', var_name='field', \n",
    "                            units='1', aux_coords_and_dims=[(lat_iris, (0,1)), (lon_iris, (0,1))])\n",
    "coord_sys = iris.coord_systems.GeogCS(iris.fileformats.pp.EARTH_RADIUS)\n",
    "cube_iris.coord('latitude').coord_system = coord_sys\n",
    "cube_iris.coord('longitude').coord_system = coord_sys\n",
    "projection = ccrs.PlateCarree()\n",
    "lat_grid = latitude_ERAI\n",
    "lon_grid = longitude_ERAI\n",
    "lat_aux = iris.coords.DimCoord(lat_grid, standard_name='latitude',\n",
    "                                               units='degrees_north', coord_system='GeogCS')\n",
    "lon_aux = iris.coords.DimCoord(lon_grid, standard_name='longitude',\n",
    "                                               units='degrees_east', coord_system='GeogCS')\n",
    "dummy_data = np.zeros((len(lat_grid), len(lon_grid)))\n",
    "cube_tar = iris.cube.Cube(dummy_data,dim_coords_and_dims=[(lat_aux, 0), (lon_aux, 1)])\n",
    "# create the coordinate system for the target cube\n",
    "cube_tar.coord('latitude').guess_bounds()\n",
    "cube_tar.coord('longitude').guess_bounds()\n",
    "cube_tar.coord('latitude').coord_system = coord_sys\n",
    "cube_tar.coord('longitude').coord_system = coord_sys\n",
    "# create a weight matrix for regridding\n",
    "weights = np.ones(cube_iris.shape)\n",
    "# get regridder from given cubes\n",
    "base = iris.analysis.UnstructuredNearest()\n",
    "regridder = base.regridder(cube_iris,cube_tar)\n",
    "# Transform cube to target projection\n",
    "cube_regrid = regridder(cube_iris)\n",
    "regrid_sic = cube_regrid.data\n",
    "regrid_sic[regrid_sic>1.5] = 0"
   ]
  },
  {
   "cell_type": "code",
   "execution_count": 14,
   "metadata": {},
   "outputs": [
    {
     "name": "stdout",
     "output_type": "stream",
     "text": [
      "0.3700000047683716\n",
      "74.5\n",
      "18.0\n",
      "(array([ 27,  37,  60,  81,  94,  95, 100, 100, 104, 113, 115, 158, 158,\n",
      "       161, 173, 197, 227, 228, 231, 233, 242, 263, 263, 263, 274, 283,\n",
      "       285, 288, 288, 295, 315, 321, 340, 341, 414, 417]), array([117, 124, 114, 125, 120, 122, 114, 119, 106,  96,  87,  41,  53,\n",
      "        67,  25,  79, 222, 222, 248, 219, 227, 186, 193, 214, 257, 278,\n",
      "       288, 274, 275, 189, 138, 189, 171, 170,  95, 107]))\n",
      "[44.12550116 46.30687293 50.51334019 55.25919654 57.73727502 58.04273844\n",
      " 58.64596406 58.93260082 58.92169753 59.87338303 59.36302906 59.44871057\n",
      " 61.56602616 64.37208558 58.0442445  71.02293086 74.21727929 74.23705148\n",
      " 68.43198195 74.96700672 73.04465548 79.89595679 78.65834454 74.5570173\n",
      " 64.75119234 59.77339198 57.61843562 60.14631826 59.94944502 73.71840951\n",
      " 71.02293086 68.4555863  65.4596451  65.27633638 48.10793739 48.19759898]\n",
      "[ 145.02380736  143.53789461  147.82567438  145.58562492  148.50350009\n",
      "  147.81320596  151.48243977  149.48976259  155.14280323  160.50946949\n",
      "  164.30033145 -168.86600079 -171.915479   -174.96806578 -160.21185922\n",
      " -161.10175308   50.42059528   49.59054319   46.5154079    45.43736387\n",
      "   38.4032617     2.7702158     8.24632081   19.0059842    23.62937773\n",
      "   23.31770839   24.04817552   20.66360913   20.84091934  -15.00492038\n",
      "  -55.76814456  -22.91690262  -35.66858947  -36.27386422  -62.95749505\n",
      "  -59.21976552]\n"
     ]
    }
   ],
   "source": [
    "print(regrid_sic[20,265])\n",
    "print(latitude_ERAI[20])\n",
    "print(longitude_ERAI[264])\n",
    "print(np.where(sic_sample==regrid_sic[20,265]))\n",
    "print(latitude[np.where(sic_sample==regrid_sic[20,265])])\n",
    "print(longitude[np.where(sic_sample==regrid_sic[20,265])])"
   ]
  },
  {
   "cell_type": "code",
   "execution_count": null,
   "metadata": {},
   "outputs": [],
   "source": [
    "def var_key_retrieve(datapath, year, month):\n",
    "    # get the path to each datasets\n",
    "    print (\"Start retrieving datasets {} (y) - {} (m)\".format(year,namelist_month[month-1]))\n",
    "    # The shape of each variable is (304,448)\n",
    "    # Sea Ice Concentration\n",
    "    datapath_key = glob.glob(os.path.join(datapath,\"seaice_conc_monthly_nh_*_{0}{1}_v03r01.nc\".format(year,namelist_month[month-1])))[0]\n",
    "    # get the variable keys\n",
    "    var_key = Dataset(datapath_key)\n",
    "\n",
    "    print (\"Retrieving datasets successfully and return the variable key!\")\n",
    "    return var_key"
   ]
  },
  {
   "cell_type": "code",
   "execution_count": null,
   "metadata": {},
   "outputs": [],
   "source": [
    "def create_netcdf_point(pool_sicpm, output_path):\n",
    "    print ('*******************************************************************')\n",
    "    print ('*********************** create netcdf file*************************')\n",
    "    print ('*******************************************************************')\n",
    "    # wrap the datasets into netcdf file\n",
    "    # 'NETCDF3_CLASSIC', 'NETCDF3_64BIT', 'NETCDF4_CLASSIC', and 'NETCDF4'\n",
    "    data_wrap = Dataset(os.path.join(output_path, 'noaa_nsidc_monthly_regress_1979_2018_sic_passive_microwave.nc'),'w',format = 'NETCDF4')\n",
    "    # create dimensions for netcdf data\n",
    "    year_wrap_dim = data_wrap.createDimension('year',Dim_year)\n",
    "    month_wrap_dim = data_wrap.createDimension('month',Dim_month)\n",
    "    lat_wrap_dim = data_wrap.createDimension('latitude',Dim_latitude)\n",
    "    lon_wrap_dim = data_wrap.createDimension('longitude',Dim_longitude)\n",
    "    # create coordinate variables for 3-dimensions\n",
    "    year_wrap_var = data_wrap.createVariable('year',np.int32,('year',))\n",
    "    month_wrap_var = data_wrap.createVariable('month',np.int32,('month',))\n",
    "    lat_wrap_var = data_wrap.createVariable('latitude',np.float32,('latitude',))\n",
    "    lon_wrap_var = data_wrap.createVariable('longitude',np.float32,('longitude',))\n",
    "    # create the actual 3-d variable\n",
    "    sicpm_wrap_var = data_wrap.createVariable('sicpm',np.float32,('year','month','latitude','longitude'),zlib=True)\n",
    "    # global attributes\n",
    "    data_wrap.description = 'Monthly mean sea ice concentration with passive microwave by NOAA/NSIDC'\n",
    "    # variable attributes\n",
    "    lat_wrap_var.units = 'degree_north'\n",
    "    lon_wrap_var.units = 'degree_east'\n",
    "\n",
    "    sicpm_wrap_var.units = '1'\n",
    "\n",
    "    sicpm_wrap_var.long_name = 'sea ice concentration with passive microwave'\n",
    "\n",
    "    # writing data\n",
    "    lat_wrap_var[:] = latitude\n",
    "    lon_wrap_var[:] = longitude\n",
    "    month_wrap_var[:] = index_month\n",
    "    year_wrap_var[:] = period\n",
    "\n",
    "    sicpm_wrap_var[:] = pool_sicpm\n",
    "\n",
    "    # close the file\n",
    "    data_wrap.close()\n",
    "    print (\"Create netcdf file successfully\")"
   ]
  }
 ],
 "metadata": {
  "kernelspec": {
   "display_name": "Python 3",
   "language": "python",
   "name": "python3"
  },
  "language_info": {
   "codemirror_mode": {
    "name": "ipython",
    "version": 3
   },
   "file_extension": ".py",
   "mimetype": "text/x-python",
   "name": "python",
   "nbconvert_exporter": "python",
   "pygments_lexer": "ipython3",
   "version": "3.6.5"
  }
 },
 "nbformat": 4,
 "nbformat_minor": 2
}
