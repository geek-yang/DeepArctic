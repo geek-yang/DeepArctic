{
 "cells": [
  {
   "cell_type": "markdown",
   "metadata": {},
   "source": [
    "# Copyright Netherlands eScience Center <br>\n",
    "** Function     : Packing the sea ice volume fields from PIOMASS as netCDF** <br>\n",
    "** Author       : Yang Liu ** <br>\n",
    "** First Built  : 2019.04.17 ** <br>\n",
    "** Last Update  : 2019.04.17 ** <br>\n",
    "Description     : This notebook aims to pack the sea ice volume (SIV) fields from PIOMASS. <br>\n",
    "Return Values   : netCDF4 <br>\n",
    "Caveat          : The data is monthly mean of the integral of sea ice in the Arctic"
   ]
  },
  {
   "cell_type": "code",
   "execution_count": 13,
   "metadata": {},
   "outputs": [],
   "source": [
    "import numpy as np\n",
    "import scipy as sp\n",
    "import time as tttt\n",
    "from netCDF4 import Dataset,num2date\n",
    "import os"
   ]
  },
  {
   "cell_type": "code",
   "execution_count": 14,
   "metadata": {},
   "outputs": [],
   "source": [
    "################################   Input zone  #########################################\n",
    "# specify starting and ending time\n",
    "start_year = 1979\n",
    "end_year = 2017\n",
    "# specify data path\n",
    "# ERAI 3D fields on pressure level\n",
    "datapath = '/home/ESLT0068/WorkFlow/Core_Database_AMET_OMET_reanalysis/PIOMASS'\n",
    "# specify output path for figures\n",
    "output_path = '/home/ESLT0068/WorkFlow/Core_Database_AMET_OMET_reanalysis/PIOMASS'\n",
    "########################################################################################"
   ]
  },
  {
   "cell_type": "code",
   "execution_count": 15,
   "metadata": {},
   "outputs": [],
   "source": [
    "# *************** SIV - PIOMASS ***************** #\n",
    "# from 1979 to 2017 (468 records)\n",
    "SIV_file = open(os.path.join(datapath, 'PIOMAS.2sst.monthly.Current.v2.1_valueonly.txt'), 'r')\n",
    "SIV_value = SIV_file.read().split() # get a list of values - result is a single time sery\n",
    "#print (SIV_value)\n",
    "SIV = np.array(SIV_value,dtype=float) # convert str to float\n",
    "SIV_file.close()"
   ]
  },
  {
   "cell_type": "code",
   "execution_count": 17,
   "metadata": {},
   "outputs": [],
   "source": [
    "# save output datasets\n",
    "# we only pack our timeseries from 1979 to 2016\n",
    "def create_netcdf_point (SIV,period,output_path):\n",
    "    series = len(period) * 12\n",
    "    print ('*******************************************************************')\n",
    "    print ('*********************** create netcdf file*************************')\n",
    "    print ('*******************************************************************')\n",
    "    print(\"Start creating netcdf file for SIV from 1979 to 2017.\")\n",
    "    # wrap the datasets into netcdf file\n",
    "    # 'NETCDF3_CLASSIC', 'NETCDF3_64BIT', 'NETCDF4_CLASSIC', and 'NETCDF4'\n",
    "    data_wrap = Dataset(output_path + os.sep + 'siv_monthly_PIOMASS_1979_2017.nc','w',format = 'NETCDF4')\n",
    "    # create dimensions for netcdf data\n",
    "    year_wrap_dim = data_wrap.createDimension('year', len(period))\n",
    "    Timeseries = data_wrap.createDimension('series', series)\n",
    "    # create coordinate variables for 3-dimensions\n",
    "    year_wrap_var = data_wrap.createVariable('year',np.int32,('year',))\n",
    "    # create the actual 3-d variable\n",
    "    SIV_wrap_var = data_wrap.createVariable('SIV',np.float64,('series',))\n",
    "\n",
    "    # global attributes\n",
    "    data_wrap.description = 'Monthly climate index time series'\n",
    "    # variable attributes\n",
    "    SIV_wrap_var.units = '1000 cubic meter'\n",
    "    SIV_wrap_var.long_name = 'North Atlantic Oscillation Index'\n",
    "\n",
    "    # writing data\n",
    "    year_wrap_var[:] = period\n",
    "\n",
    "    SIV_wrap_var[:] = SIV\n",
    "\n",
    "    # close the file\n",
    "    data_wrap.close()\n",
    "    print (\"Create netcdf file successfully\")"
   ]
  },
  {
   "cell_type": "code",
   "execution_count": 18,
   "metadata": {},
   "outputs": [
    {
     "name": "stdout",
     "output_type": "stream",
     "text": [
      "*******************************************************************\n",
      "*********************** create netcdf file*************************\n",
      "*******************************************************************\n",
      "Start creating netcdf file for climate index from 1979 to 2017.\n",
      "Create netcdf file successfully\n"
     ]
    }
   ],
   "source": [
    "\n",
    "if __name__==\"__main__\":\n",
    "    # create time dimension for saving the fields\n",
    "    period = np.arange(start_year,end_year+1,1) # take 1979 - 2017\n",
    "    # create netCDF file\n",
    "    create_netcdf_point(SIV,period,output_path)"
   ]
  }
 ],
 "metadata": {
  "kernelspec": {
   "display_name": "Python 3",
   "language": "python",
   "name": "python3"
  },
  "language_info": {
   "codemirror_mode": {
    "name": "ipython",
    "version": 3
   },
   "file_extension": ".py",
   "mimetype": "text/x-python",
   "name": "python",
   "nbconvert_exporter": "python",
   "pygments_lexer": "ipython3",
   "version": "3.6.5"
  }
 },
 "nbformat": 4,
 "nbformat_minor": 2
}
