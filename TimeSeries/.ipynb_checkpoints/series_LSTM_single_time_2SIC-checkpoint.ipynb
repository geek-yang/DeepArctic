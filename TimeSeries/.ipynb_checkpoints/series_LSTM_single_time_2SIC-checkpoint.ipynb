{
 "cells": [
  {
   "cell_type": "markdown",
   "metadata": {},
   "source": [
    "# Copyright Netherlands eScience Center <br>\n",
    "** Function     : Predict the extent of Sea Ice Concentration with LSTM ** <br>\n",
    "** Author       : Yang Liu ** <br>\n",
    "** First Built  : 2019.04.17 ** <br>\n",
    "** Last Update  : 2019.05.01 ** <br>\n",
    "** Library      : Pytorth, Numpy, NetCDF4, os, iris, cartopy, deepclim, matplotlib\n",
    "Description     : This notebook serves to predict the Arctic sea ice using deep learning. As a pre-test, we start with time series of SIC extent anomalies. To make it easier, we use many climate index (to represent the forcing from atmosphere). In addtion,  <br>\n",
    "\n",
    "The Long Short Time Memory neural network is used here. We use Pytorch as the deep learning framework. <br>\n",
    "\n",
    "Return Values   : Time series and figures <br>\n",
    "\n",
    "Here is the information of climate index in details:<br>\n",
    "**NAO** @ 1950 Jan - 2018 Feb (818 records) <br>\n",
    "http://www.cpc.ncep.noaa.gov/products/precip/CWlink/pna/nao.shtml <br>\n",
    "**ENSO - NINO 3.4 SST** @ 1950 Jan - 2018 Jan (817 records) <br>\n",
    "https://www.esrl.noaa.gov/psd/gcos_wgsp/Timeseries/Nino34/ <br>\n",
    "**AO** @ 1950 Jan - 2018 Feb (818 records) <br>\n",
    "http://www.cpc.ncep.noaa.gov/products/precip/CWlink/daily_ao_index/ao.shtml <br>\n",
    "**AMO** @ 1950 Jan - 2018 Feb (818 records) <br>\n",
    "AMO unsmoothed, detrended from the Kaplan SST V2. The result is standarised.<br>\n",
    "https://www.esrl.noaa.gov/psd/data/timeseries/AMO/<br>\n",
    "\n",
    "(All the NOAA index shown above are given by NCEP/NCAR Reanalysis (CDAS))<br>\n",
    "\n",
    "**PDO** @ 1900 Jan - 2018 Feb (1418 records)<br>\n",
    "This PDO index comes from University of Washington, it contains SST data from the following 3 datasets:<br>\n",
    "- UKMO Historical SST data set for 1900-81;\n",
    "- Reynold's Optimally Interpolated SST (V1) for January 1982-Dec 2001)\n",
    "- OI SST Version 2 (V2) beginning January 2002 -<br>\n",
    "\n",
    "http://research.jisao.washington.edu/pdo/PDO.latest<br>"
   ]
  },
  {
   "cell_type": "code",
   "execution_count": 1,
   "metadata": {},
   "outputs": [],
   "source": [
    "%matplotlib inline\n",
    "\n",
    "import sys\n",
    "sys.path.append(\"/home/ESLT0068/NLeSC/Computation_Modeling/ML4Climate/Scripts/DeepClim\")\n",
    "# for data loading\n",
    "import os\n",
    "from netCDF4 import Dataset\n",
    "# for pre-processing and machine learning\n",
    "import numpy as np\n",
    "import sklearn\n",
    "#import scipy\n",
    "import torch\n",
    "import deepclim\n",
    "import deepclim.preprocess\n",
    "import deepclim.deepSeries\n",
    "\n",
    "# for visualization\n",
    "import deepclim.visual\n",
    "import matplotlib\n",
    "import matplotlib.pyplot as plt\n",
    "import iris # also helps with regriding\n",
    "import cartopy\n",
    "import cartopy.crs as ccrs"
   ]
  },
  {
   "cell_type": "code",
   "execution_count": 2,
   "metadata": {},
   "outputs": [],
   "source": [
    "# constants\n",
    "constant = {'g' : 9.80616,      # gravititional acceleration [m / s2]\n",
    "            'R' : 6371009,      # radius of the earth [m]\n",
    "            'cp': 1004.64,      # heat capacity of air [J/(Kg*K)]\n",
    "            'Lv': 2264670,      # Latent heat of vaporization [J/Kg]\n",
    "            'R_dry' : 286.9,    # gas constant of dry air [J/(kg*K)]\n",
    "            'R_vap' : 461.5,    # gas constant for water vapour [J/(kg*K)]\n",
    "            'rho' : 1026,       # sea water density [kg/m3]\n",
    "            }"
   ]
  },
  {
   "cell_type": "markdown",
   "metadata": {},
   "source": [
    "** Data ** <br>\n",
    "Time span of each product included: <br>\n",
    "** Reanalysis ** <br>\n",
    "- **ERA-Interim** 1979 - 2016 (ECMWF)\n",
    "- **ORAS4**       1958 - 2014 (ECMWF)\n",
    "\n",
    "** Index ** <br>\n",
    "- **NINO3.4**     1950 - 2017 (NOAA)\n",
    "- **AO**          1950 - 2017 (NOAA)\n",
    "- **NAO**         1950 - 2017 (NOAA)\n",
    "- **AMO**         1950 - 2017 (NOAA)\n",
    "- **PDO**         1950 - 2017 (University of Washington)\n",
    "\n",
    "!! These index are given by NCEP/NCAR Reanalysis (CDAS) <br>\n",
    "\n",
    "\n",
    "Alternative (not in use yet) <br>\n",
    "** Reanalysis ** <br>\n",
    "- **MERRA2**      1980 - 2016 (NASA)\n",
    "- **JRA55**       1979 - 2015 (JMA)\n",
    "- **GLORYS2V3**   1993 - 2014 (Mercartor Ocean)\n",
    "- **SODA3**       1980 - 2015\n",
    "- **PIOMASS**     1980 - 2015\n",
    "\n",
    "** Observations ** <br>\n",
    "- **NSIDC**       1958 - 2017 "
   ]
  },
  {
   "cell_type": "code",
   "execution_count": 3,
   "metadata": {},
   "outputs": [],
   "source": [
    "################################   path  ######################################\n",
    "# please specify data path\n",
    "datapath_ERAI = '/home/ESLT0068/WorkFlow/Core_Database_AMET_OMET_reanalysis/ERAI/regression'\n",
    "datapath_ORAS4 = '/home/ESLT0068/WorkFlow/Core_Database_AMET_OMET_reanalysis/warehouse_met'\n",
    "datapath_ORAS4_mask = '/home/ESLT0068/WorkFlow/Core_Database_AMET_OMET_reanalysis/ORAS4'\n",
    "datapath_PIOMASS = '/home/ESLT0068/WorkFlow/Core_Database_AMET_OMET_reanalysis/PIOMASS'\n",
    "datapath_clim_index = '/home/ESLT0068/WorkFlow/Core_Database_AMET_OMET_reanalysis/Climate_index'\n",
    "output_path = '/home/ESLT0068/NLeSC/Computation_Modeling/ML4Climate/PredictArctic/Series'"
   ]
  },
  {
   "cell_type": "code",
   "execution_count": 4,
   "metadata": {},
   "outputs": [
    {
     "name": "stdout",
     "output_type": "stream",
     "text": [
      "*********************** get the key to the datasets *************************\n",
      "*********************** extract variables *************************\n"
     ]
    }
   ],
   "source": [
    "if __name__==\"__main__\":\n",
    "    print ('*********************** get the key to the datasets *************************')\n",
    "    dataset_ERAI_fields_SIC_SST_SLP = Dataset(os.path.join(datapath_ERAI,\n",
    "                                              'surface_ERAI_monthly_regress_1979_2016.nc'))\n",
    "\n",
    "    dataset_PIOMASS_siv = Dataset(os.path.join(datapath_PIOMASS,\n",
    "                                       'siv_monthly_PIOMASS_1979_2017.nc'))\n",
    "    dataset_ORAS4_OHC = Dataset(os.path.join(datapath_ORAS4,\n",
    "                                             'oras_model_monthly_1958_2017_ohc.nc'))\n",
    "    dataset_index = Dataset(os.path.join(datapath_clim_index,\n",
    "                                         'index_climate_monthly_regress_1950_2017.nc'))\n",
    "    #dataset_ERAI_fields_flux = Dataset(os.path.join(datapath_ERAI_fields,\n",
    "    #                                  'surface_erai_monthly_regress_1979_2017_radiation.nc'))\n",
    "    # mask\n",
    "    dataset_ORAS4_mask = Dataset(os.path.join(datapath_ORAS4_mask, 'mesh_mask.nc'))\n",
    "    print ('*********************** extract variables *************************')\n",
    "    # ********************************** data gallery *************************************** #\n",
    "    # we use time series from 1979 to 2016 (468 months in total)\n",
    "    # training data: 1979 - 2006\n",
    "    # validation: 2007 - 2016\n",
    "    # variables list:\n",
    "    # SIC (ERA-Interim) / SIV (PIOMASS) / SST (ERA-Interim) / ST (ERA-Interim) / OHC (ORAS4) / AO-NAO-AMO-NINO3.4 (NOAA)\n",
    "    # integrals from spatial fields cover the area from 20N - 90N (4D fields [year, month, lat, lon])\n",
    "    # *************************************************************************************** #\n",
    "    # SIC (ERA-Interim)\n",
    "    SIC_ERAI = dataset_ERAI_fields_SIC_SST_SLP.variables['ci'][:,:95,:] # 3D fields [time, lat, lon]\n",
    "    #SIC_ERAI_mask = np.ma.getmaskarray(SIC_ERAI[0,:,:])\n",
    "    time_ERAI = dataset_ERAI_fields_SIC_SST_SLP.variables['time'][:]\n",
    "    latitude_ERAI = dataset_ERAI_fields_SIC_SST_SLP.variables['latitude'][:]\n",
    "    longitude_ERAI = dataset_ERAI_fields_SIC_SST_SLP.variables['longitude'][:]\n",
    "    #SIV (PIOMASS)\n",
    "    SIV_PIOMASS = dataset_PIOMASS_siv.variables['SIV'][:-12]\n",
    "    year_SIV = dataset_PIOMASS_siv.variables['year'][:-1]\n",
    "    # SST (ERA-Interim)\n",
    "    SST_ERAI = dataset_ERAI_fields_SIC_SST_SLP.variables['sst'][:,:95,:] # 3D fields [time, lat, lon]\n",
    "    # dimensions the same as above\n",
    "    # ST (ERA-Interim)\n",
    "    # OHC (ORAS4)\n",
    "    OHC_100_int_ORAS4 = dataset_ORAS4_OHC.variables['OHC_100_int'][21:-1,:,180:]/1000 # unit Peta Joule\n",
    "    OHC_300_int_ORAS4 = dataset_ORAS4_OHC.variables['OHC_300_int'][21:-1,:,180:]/1000\n",
    "    OHC_700_int_ORAS4 = dataset_ORAS4_OHC.variables['OHC_700_int'][21:-1,:,180:]/1000\n",
    "    #OHC_2000_int_ORAS4 = dataset_ORAS4_OHC.variables['OHC_2000_int'][21:-1,:,180:]/1000\n",
    "    \n",
    "    latitude_OHC_ORAS4 = dataset_ORAS4_OHC.variables['latitude_aux'][180:]\n",
    "    #gphiv_OHC_ORAS4 = dataset_ORAS4_OHC.variables['gphiv'][180:,:]\n",
    "    #glamv_OHC_ORAS4 = dataset_ORAS4_OHC.variables['glamv'][180:,:]\n",
    "    # AO-NAO-AMO-NINO3.4 (NOAA)\n",
    "    AO = dataset_index.variables['AO'][348:-12] # from 1979 - 2016\n",
    "    NAO = dataset_index.variables['NAO'][348:-12]\n",
    "    NINO = dataset_index.variables['NINO'][348:-12]\n",
    "    AMO = dataset_index.variables['AMO'][348:-12]\n",
    "    PDO = dataset_index.variables['PDO'][348:-12]\n",
    "    \n",
    "    # radiation flux\n",
    "    #rad_short_toa_ERAI = dataset_ERAI_fields_flux.variables['tsr'][:] # unit Watt/m2\n",
    "    #rad_long_toa_ERAI = dataset_ERAI_fields_flux.variables['ttr'][:] # unit Watt/m2\n",
    "    #rad_short_surf_ERAI = dataset_ERAI_fields_flux.variables['ssr'][:] # unit Watt/m2\n",
    "    #rad_long_surf_ERAI = dataset_ERAI_fields_flux.variables['str'][:] # unit Watt/m2\n",
    "    # turbulent flux\n",
    "    #SFlux_sensible_ERAI = dataset_ERAI_fields_flux.variables['sshf'][:] # unit Watt/m2\n",
    "    #SFlux_latent_ERAI = dataset_ERAI_fields_flux.variables['slhf'][:] # unit Watt/m2"
   ]
  },
  {
   "cell_type": "code",
   "execution_count": null,
   "metadata": {},
   "outputs": [],
   "source": [
    "    print (latitude_ERAI[:41])\n",
    "    print (latitude_OHC_ORAS4[53:])\n",
    "    print (SIC)"
   ]
  },
  {
   "cell_type": "code",
   "execution_count": 5,
   "metadata": {},
   "outputs": [
    {
     "name": "stdout",
     "output_type": "stream",
     "text": [
      "******************  calculate extent from spatial fields  *******************\n",
      "******************  calculate mean/sum from spatial fields  *******************\n"
     ]
    }
   ],
   "source": [
    "    print ('******************  calculate extent from spatial fields  *******************')\n",
    "    # size of the grid box\n",
    "    dx = 2 * np.pi * constant['R'] * np.cos(2 * np.pi * latitude_ERAI /\n",
    "                                            360) / len(longitude_ERAI)\n",
    "    dy = np.pi * constant['R'] / len(latitude_ERAI)\n",
    "    # calculate the sea ice area\n",
    "    SIC_ERAI_area = np.zeros(SIC_ERAI.shape, dtype=float)\n",
    "    for i in np.arange(len(latitude_ERAI[:95])):\n",
    "        # change the unit to terawatt\n",
    "        SIC_ERAI_area[:,i,:] = SIC_ERAI[:,i,:]* dx[i] * dy # unit m2\n",
    "    \n",
    "    print ('******************  calculate mean/sum from spatial fields  *******************')\n",
    "    # calculate the mean SST in the polar cap\n",
    "    SST_ERAI_mean = np.mean(np.mean(SST_ERAI[:,:41,:],2),1)\n",
    "    # calculate the total OHC in the polar cap\n",
    "    OHC_100_ORAS4_sum = np.sum(OHC_100_int_ORAS4[:,:,53:],2)\n",
    "    OHC_300_ORAS4_sum = np.sum(OHC_300_int_ORAS4[:,:,53:],2)\n",
    "    OHC_700_ORAS4_sum = np.sum(OHC_700_int_ORAS4[:,:,53:],2)\n",
    "    # calculate the total SIC in the polar cap\n",
    "    SIC_ERAI_sum = np.sum(np.sum(SIC_ERAI_area[:,:41,:],2),1)"
   ]
  },
  {
   "cell_type": "code",
   "execution_count": 6,
   "metadata": {},
   "outputs": [
    {
     "name": "stdout",
     "output_type": "stream",
     "text": [
      "*******************  pre-processing  *********************\n",
      "================  reshape input data into time series  =================\n",
      "=========================   normalize data   ===========================\n",
      "====================    A series of time (index)    ====================\n",
      "===================  artificial data for evaluation ====================\n"
     ]
    }
   ],
   "source": [
    "    print ('*******************  pre-processing  *********************')\n",
    "    print ('================  reshape input data into time series  =================')\n",
    "    OHC_700_ORAS4_sum_series= deepclim.preprocess.operator.unfold(OHC_700_ORAS4_sum)\n",
    "    print ('=========================   normalize data   ===========================')\n",
    "    SIC_ERAI_sum_norm = deepclim.preprocess.operator.normalize(SIC_ERAI_sum)\n",
    "    SIV_PIOMASS_norm = deepclim.preprocess.operator.normalize(SIV_PIOMASS)\n",
    "    print ('====================    A series of time (index)    ====================')\n",
    "    time_series = np.arange(0,len(SIC_ERAI_sum_norm),1)\n",
    "    year = np.arange(1979,2017,1)\n",
    "    year_cycle = np.repeat(year,12)\n",
    "    month_cycle = np.tile(np.arange(1,13,1),len(time_series)//12)\n",
    "    month_cycle.astype(float)\n",
    "    #month_cycle = np.array(list(np.arange(1,13,1))*(len(time_index)//12),dtype=float)\n",
    "    print ('===================  artificial data for evaluation ====================')\n",
    "    # calculate climatology of SIC\n",
    "    seansonal_cycle_SIC = np.zeros(12,dtype=float)\n",
    "    for i in np.arange(12):\n",
    "        seansonal_cycle_SIC[i] = np.mean(SIC_ERAI_sum_norm[i::12],axis=0)"
   ]
  },
  {
   "cell_type": "code",
   "execution_count": 17,
   "metadata": {},
   "outputs": [
    {
     "name": "stdout",
     "output_type": "stream",
     "text": [
      "[0.89513446 0.92401667 0.9337745  0.91759586 0.8242326  0.64472063\n",
      " 0.39423251 0.24633661 0.22802315 0.42113994 0.66388843 0.81555535]\n",
      "(456,)\n",
      "(456,)\n",
      "(444,)\n"
     ]
    }
   ],
   "source": [
    "    print(seansonal_cycle_SIC[:])\n",
    "    print(month_cycle.shape)\n",
    "    print(year_cycle.shape)\n",
    "    print (month_cycle[:-12].shape)"
   ]
  },
  {
   "cell_type": "markdown",
   "metadata": {},
   "source": [
    "# Procedure for LSTM <br>\n",
    "** We use Pytorth to implement LSTM neural network with time series of climate data. ** <br>"
   ]
  },
  {
   "cell_type": "code",
   "execution_count": 8,
   "metadata": {},
   "outputs": [
    {
     "name": "stdout",
     "output_type": "stream",
     "text": [
      "*******************          prepare input tensor for LSTM           *********************\n",
      "*******************  create basic dimensions for tensor and network  *********************\n",
      "1.0.1.post2\n",
      "Is CUDA available? False\n",
      "******************* create input tensor with single-input dimension   *********************\n",
      "*******************   create input tensor with multi-input dimension   *********************\n",
      "*******************   create tensors  *********************\n"
     ]
    }
   ],
   "source": [
    "    print ('*******************          prepare input tensor for LSTM           *********************')\n",
    "    print ('*******************  create basic dimensions for tensor and network  *********************')\n",
    "    # specifications of neural network\n",
    "    input_size = 2\n",
    "    hidden_size = 128\n",
    "    batch_size = 1\n",
    "    output_size = 1\n",
    "    num_layers = 1\n",
    "    learning_rate = 0.0005\n",
    "    num_epochs = 120\n",
    "    print (torch.__version__)\n",
    "    # check if CUDA is available\n",
    "    use_cuda = torch.cuda.is_available()\n",
    "    print(\"Is CUDA available? {}\".format(use_cuda))\n",
    "    # standard LSTM input dimension\n",
    "    # [sequence_length, batch_size, input_size]\n",
    "    # example : x = torch.autograd.Variable(torch.randn(6, 3, 5))\n",
    "    # prepare input array for LSTM input -> dimension\n",
    "    # take 3 year as test data\n",
    "    test_year = 3\n",
    "    print ('******************* create input tensor with single-input dimension   *********************')\n",
    "    SIC = SIC_ERAI_sum_norm[:-test_year*12].reshape(len(SIC_ERAI_sum_norm[:-test_year*12]),1,1)\n",
    "    #SIV = SIV_PIOMASS_norm[:-test_year*12].reshape(len(SIV_PIOMASS_norm[:-test_year*12]),1,1)\n",
    "    #time = time_series[:-test_year*12].reshape(len(time_series[:-test_year*12]),1,1)\n",
    "    #year = year_cycle[:-test_year*12].reshape(len(year_cycle[:-test_year*12]),1,1)\n",
    "    #month = month_cycle[:-test_year*12].reshape(len(month_cycle[:-test_year*12]),1,1)\n",
    "    print ('*******************   create input tensor with multi-input dimension   *********************')\n",
    "    # create variables\n",
    "    x_input = np.vstack((SIC_ERAI_sum_norm[:-test_year*12],month_cycle[:-test_year*12])).T #hstack,dstack\n",
    "    x_input = x_input.reshape(len(month_cycle[:-test_year*12]),1,input_size)\n",
    "    print ('*******************   create tensors  *********************')\n",
    "    SIC_var = torch.autograd.Variable(torch.Tensor(SIC))\n",
    "    #SIV_var = torch.autograd.Variable(torch.Tensor(SIV))\n",
    "    #time_var = torch.autograd.Variable(torch.Tensor(time))\n",
    "    #month_var = torch.autograd.Variable(torch.Tensor(month))\n",
    "    x_var = torch.autograd.Variable(torch.Tensor(x_input))"
   ]
  },
  {
   "cell_type": "code",
   "execution_count": 13,
   "metadata": {},
   "outputs": [
    {
     "name": "stdout",
     "output_type": "stream",
     "text": [
      "*******************  preview of input tensor  *********************\n",
      "(420, 1, 2)\n"
     ]
    }
   ],
   "source": [
    "    print ('*******************  preview of input tensor  *********************')\n",
    "    #plt.plot(SIC_ERAI_sum)\n",
    "    print(x_input.shape)\n",
    "    #plt.plot(SIC[:,0,0],label=\"SIC\")\n",
    "    #plt.plot(SIV[:,0,0],label=\"SIV\")\n",
    "    #plt.plot(x_input[:,0,1],label=\"month\")\n",
    "    #plt.legend()"
   ]
  },
  {
   "cell_type": "code",
   "execution_count": null,
   "metadata": {},
   "outputs": [],
   "source": [
    "#     print ('*******************  module for calculating accuracy  *********************')\n",
    "#     def accuracy(out, labels):\n",
    "#         outputs = np.argmax(out, axis=1)\n",
    "#     return np.sum(outputs==labels)/float(labels.size)"
   ]
  },
  {
   "cell_type": "code",
   "execution_count": 9,
   "metadata": {},
   "outputs": [
    {
     "name": "stdout",
     "output_type": "stream",
     "text": [
      "*******************  run LSTM  *********************\n",
      "LSTM(\n",
      "  (lstm): LSTM(2, 128)\n",
      "  (linear): Linear(in_features=128, out_features=1, bias=True)\n",
      ")\n",
      "MSELoss()\n",
      "Adam (\n",
      "Parameter Group 0\n",
      "    amsgrad: False\n",
      "    betas: (0.9, 0.999)\n",
      "    eps: 1e-08\n",
      "    lr: 0.0005\n",
      "    weight_decay: 0\n",
      ")\n",
      "##############################################################\n",
      "##################  start training loop  #####################\n",
      "##############################################################\n",
      "Epoch  0 MSE:  123.38072967529297\n",
      "tensor([0.1930])\n"
     ]
    },
    {
     "name": "stderr",
     "output_type": "stream",
     "text": [
      "/home/ESLT0068/.pyenv/versions/anaconda3-5.2.0/lib/python3.6/site-packages/torch/nn/_reduction.py:49: UserWarning: size_average and reduce args will be deprecated, please use reduction='sum' instead.\n",
      "  warnings.warn(warning.format(ret))\n"
     ]
    },
    {
     "name": "stdout",
     "output_type": "stream",
     "text": [
      "Epoch  20 MSE:  28.89440155029297\n",
      "tensor([0.6658])\n",
      "Epoch  40 MSE:  29.214942932128906\n",
      "tensor([0.6950])\n",
      "Epoch  60 MSE:  28.9542236328125\n",
      "tensor([0.6553])\n",
      "Epoch  80 MSE:  28.895421981811523\n",
      "tensor([0.6651])\n",
      "Epoch  100 MSE:  28.89402961730957\n",
      "tensor([0.6686])\n"
     ]
    }
   ],
   "source": [
    "    print ('*******************  run LSTM  *********************')\n",
    "    # choose training data\n",
    "    y_train = SIC_var\n",
    "    # initialize our model\n",
    "    model = deepclim.deepSeries.LSTM(input_size, hidden_size, batch_size=batch_size,\n",
    "                                     output_dim=output_size, num_layers=num_layers)\n",
    "    loss_fn = torch.nn.MSELoss(size_average=False)\n",
    "    # stochastic gradient descent\n",
    "    #optimizer = torch.optim.SGD(model.parameters(), lr=learning_rate, momentum=0.9)\n",
    "    # Adam optimizer\n",
    "    optimiser = torch.optim.Adam(model.parameters(), lr=learning_rate)\n",
    "    print(model)\n",
    "    print(loss_fn)\n",
    "    print(optimiser)\n",
    "    print('##############################################################')\n",
    "    print('##################  start training loop  #####################')\n",
    "    print('##############################################################')\n",
    "    hist = np.zeros(num_epochs)\n",
    "\n",
    "    for t in range(num_epochs):\n",
    "        # Clear stored gradient\n",
    "        model.zero_grad()\n",
    "\n",
    "        # Initialise hidden state\n",
    "        # Don't do this if you want your LSTM to be stateful\n",
    "        model.hidden = model.init_hidden()\n",
    "        #model.hidden2 = model.init_hidden2()\n",
    "    \n",
    "        # Forward pass\n",
    "        y_pred = model(x_var)\n",
    "\n",
    "        loss = loss_fn(y_pred, y_train)\n",
    "        # print loss at certain iteration\n",
    "        if t % 20 == 0:\n",
    "            print(\"Epoch \", t, \"MSE: \", loss.item())\n",
    "            print(y_pred.data)\n",
    "        hist[t] = loss.item()\n",
    "\n",
    "        # Zero out gradient, else they will accumulate between epochs\n",
    "        optimiser.zero_grad()\n",
    "    \n",
    "        # Backward pass\n",
    "        loss.backward()\n",
    "\n",
    "        # Update parameters\n",
    "        optimiser.step()\n",
    "    \n",
    "    torch.save(model, os.path.join(output_path,'lstm.pkl')) # save lstm model"
   ]
  },
  {
   "cell_type": "code",
   "execution_count": 10,
   "metadata": {},
   "outputs": [
    {
     "name": "stdout",
     "output_type": "stream",
     "text": [
      "##############################################################\n",
      "###################  start prediction loop ###################\n",
      "##############################################################\n",
      "*******************************  one step ahead forecast  *********************************\n",
      "************  the last 3 years of total time series are treated as test data  ************\n"
     ]
    }
   ],
   "source": [
    "    print('##############################################################')\n",
    "    print('###################  start prediction loop ###################')\n",
    "    print('##############################################################')\n",
    "    # the model learn from time series and try to predict the next time step based on the previous time series\n",
    "    print ('*******************************  one step ahead forecast  *********************************')\n",
    "    print ('************  the last {} years of total time series are treated as test data  ************'.format(test_year))\n",
    "    data_predict = SIC_ERAI_sum_norm[0] # first month is taken from original data as starting point\n",
    "    new_input = SIC_ERAI_sum_norm[:-test_year*12] # SIC before year of prediction\n",
    "    for i in np.arange(1,len(SIC_ERAI_sum_norm),1): # here i is actually the time step (index) of prediction, we use var[:i] to predict var[i]\n",
    "        # Clear stored gradient\n",
    "        model.zero_grad()\n",
    "        # Don't do this if you want your LSTM to be stateful\n",
    "        # Otherwise the hidden state should be cleaned up at each time step for prediction (we don't clear hidden state in our forward function)\n",
    "        # see example from (https://github.com/pytorch/examples/blob/master/time_sequence_prediction/train.py)\n",
    "        model.hidden = model.init_hidden()\n",
    "        \n",
    "        # using training series before the time of prediciton\n",
    "        # using predicted data after the time of prediction\n",
    "        if i <= (len(SIC_ERAI_sum_norm)-test_year*12):\n",
    "            # prepare predictor (variables follow the same order as )\n",
    "            x_pred = np.vstack((SIC_ERAI_sum_norm[0:i],month_cycle[0:i])).T\n",
    "            x_pred = x_pred.reshape(len(month_cycle[0:i]),1,input_size)\n",
    "            x_var_pred = torch.autograd.Variable(torch.Tensor(x_pred),requires_grad=False)\n",
    "        \n",
    "            # make prediction\n",
    "            last_pred = model.forward(x_var_pred)\n",
    "            last_pred = last_pred.data.numpy()\n",
    "            data_predict = np.append(data_predict, last_pred)\n",
    "            #print(last_pred)\n",
    "            \n",
    "            if i == (len(SIC_ERAI_sum_norm)-test_year*12):\n",
    "                new_input = np.append(new_input, last_pred)\n",
    "        else:\n",
    "            # prepare predictor\n",
    "            x_pred = np.vstack((new_input,month_cycle[0:len(new_input)])).T\n",
    "            x_pred = x_pred.reshape(len(new_input),1,input_size)\n",
    "            x_var_pred = torch.autograd.Variable(torch.Tensor(x_pred),requires_grad=False)\n",
    "        \n",
    "            # make prediction\n",
    "            last_pred = model.forward(x_var_pred)\n",
    "            last_pred = last_pred.data.numpy()\n",
    "            data_predict = np.append(data_predict, last_pred)\n",
    "            #print(last_pred)\n",
    "            new_input = np.append(new_input, last_pred)          "
   ]
  },
  {
   "cell_type": "code",
   "execution_count": 22,
   "metadata": {},
   "outputs": [
    {
     "name": "stdout",
     "output_type": "stream",
     "text": [
      "*******************  evaluation matrix  *********************\n",
      "RMSE = 9.561515892185957\n"
     ]
    }
   ],
   "source": [
    "    print ('*******************  evaluation matrix  *********************')\n",
    "    # The prediction will be evaluated through RMSE against climatology\n",
    "    def RMSE(x,y):\n",
    "        \"\"\"\n",
    "        Calculate the RMSE. x is input series and y is reference series.\n",
    "        \"\"\"\n",
    "        rmse = np.sqrt((x-y)**2)\n",
    "    \n",
    "        return rmse\n",
    "\n",
    "    # calculate the RMSE error of predictied years\n",
    "    error_pred = np.sum(RMSE(data_predict[-test_year*12:],SIC_ERAI_sum_norm[-test_year*12:]))\n",
    "    print (\"RMSE = {}\".format(error_pred))"
   ]
  },
  {
   "cell_type": "code",
   "execution_count": 26,
   "metadata": {},
   "outputs": [
    {
     "data": {
      "image/png": "[encoded data removed]",
      "text/plain": [
       "<Figure size 432x288 with 1 Axes>"
      ]
     },
     "metadata": {},
     "output_type": "display_data"
    },
    {
     "data": {
      "image/png": "[encoded data removed]",
      "text/plain": [
       "<Figure size 432x288 with 1 Axes>"
      ]
     },
     "metadata": {},
     "output_type": "display_data"
    },
    {
     "data": {
      "image/png": "[encoded data removed]",
      "text/plain": [
       "<Figure size 432x288 with 1 Axes>"
      ]
     },
     "metadata": {},
     "output_type": "display_data"
    }
   ],
   "source": [
    "    # visualization\n",
    "    index_plot = np.arange(len(SIC_ERAI_sum_norm))\n",
    "    year_index = np.arange(1980,2017,5)\n",
    "    # repeat climatology as reference\n",
    "    climatology = np.tile(seansonal_cycle_SIC,len(SIC_ERAI_sum_norm)//12)\n",
    "    # create index\n",
    "    fig1 = plt.figure()\n",
    "    plt.plot(index_plot, data_predict, 'r',label=\"Prediction\")\n",
    "    plt.plot(index_plot, SIC_ERAI_sum_norm, 'b',label=\"Data\")\n",
    "    #plt.plot(index_plot, climatology, 'c--',label=\"climatology\")\n",
    "    #plt.plot(y_train[:,0,0].detach().numpy(), label=\"Data\")\n",
    "    #plt.plot(y_train[:,0,0].detach().numpy(), label=\"Training\")\n",
    "    plt.xlabel('time')\n",
    "    plt.xticks(np.arange(13,len(index_plot)+1,60),year_index)\n",
    "    plt.legend()\n",
    "    plt.show()\n",
    "    fig1.savefig(os.path.join(output_path,'SIC_ERAI_LSTM_pred_full.png'),dpi=300)\n",
    "    \n",
    "    # include text box in the figure\n",
    "    text_content = '$RMSE=%.3f$ ' % (error_pred)\n",
    "    fig0 = plt.figure()\n",
    "    plt.plot(index_plot[-test_year*12:], data_predict[-test_year*12:], 'r',label=\"Prediction\")\n",
    "    plt.plot(index_plot[-test_year*12:], SIC_ERAI_sum_norm[-test_year*12:], 'b',label=\"Data\")\n",
    "    #plt.plot(index_plot, climatology, 'c--',label=\"climatology\")\n",
    "    #plt.plot(y_train[:,0,0].detach().numpy(), label=\"Data\")\n",
    "    #plt.plot(y_train[:,0,0].detach().numpy(), label=\"Training\")\n",
    "    plt.xlabel('time')\n",
    "    #plt.xticks(np.arange(384,len(index_plot)+1,60),year_index)\n",
    "    plt.legend()\n",
    "    props = dict(boxstyle='round', facecolor='white', alpha=0.8)\n",
    "    ax = plt.gca()\n",
    "    ax.text(0.05,0.1,text_content,transform=ax.transAxes,fontsize=10,verticalalignment='top',bbox=props)\n",
    "    plt.show()\n",
    "    fig0.savefig(os.path.join(output_path,'SIC_ERAI_LSTM_pred.png'),dpi=300)    \n",
    "    \n",
    "    fig2 = plt.figure()\n",
    "    plt.plot(hist, label=\"Training loss\")\n",
    "    plt.legend()\n",
    "    plt.show()\n",
    "    fig2.savefig(os.path.join(output_path,'SIC_ERAI_LSTM_pred_error.png'),dpi=300)"
   ]
  },
  {
   "cell_type": "code",
   "execution_count": null,
   "metadata": {},
   "outputs": [],
   "source": [
    "#     print ('*******************  run linear regression  *********************')\n",
    "#     model = LinearReg()\n",
    "#     # construct loss function and an optimizer.\n",
    "#     criterion = torch.nn.MSELoss(size_average=False)\n",
    "#     optimizer = torch.optim.SGD(model.parameters(),lr=0.01) # learning rate (lr)\n",
    "#     #####################\n",
    "#     # Train Loop\n",
    "#     #####################\n",
    "#     for epoch in range(num_epoch):\n",
    "#         # predict y by fit x through linear regression\n",
    "#         y_predict = model(SIV_var)\n",
    "#         # compute and print loss\n",
    "#         loss = criterion(y_predict,y_train)\n",
    "        \n",
    "#         # backpropagation and gradient descend (fix steps)\n",
    "#         # Zero out gradient, else they will accumulate between epochs\n",
    "#         optimizer.zero_grad()\n",
    "    \n",
    "#         # Backward pass\n",
    "#         loss.backward()\n",
    "\n",
    "#         # Update parameters\n",
    "#         optimizer.step()        "
   ]
  }
 ],
 "metadata": {
  "kernelspec": {
   "display_name": "Python 3",
   "language": "python",
   "name": "python3"
  },
  "language_info": {
   "codemirror_mode": {
    "name": "ipython",
    "version": 3
   },
   "file_extension": ".py",
   "mimetype": "text/x-python",
   "name": "python",
   "nbconvert_exporter": "python",
   "pygments_lexer": "ipython3",
   "version": "3.6.5"
  }
 },
 "nbformat": 4,
 "nbformat_minor": 2
}
