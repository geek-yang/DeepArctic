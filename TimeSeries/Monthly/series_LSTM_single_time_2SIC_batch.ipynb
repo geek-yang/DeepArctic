{
 "cells": [
  {
   "cell_type": "markdown",
   "metadata": {},
   "source": [
    "# Copyright Netherlands eScience Center <br>\n",
    "** Function     : Predict the extent of Sea Ice Concentration with LSTM ** <br>\n",
    "** Author       : Yang Liu ** <br>\n",
    "** First Built  : 2019.04.17 ** <br>\n",
    "** Last Update  : 2019.05.01 ** <br>\n",
    "** Library      : Pytorth, Numpy, NetCDF4, os, iris, cartopy, deepclim, matplotlib\n",
    "Description     : This notebook serves to predict the Arctic sea ice using deep learning. As a pre-test, we start with time series of SIC extent anomalies. To make it easier, we use many climate index (to represent the forcing from atmosphere). In addtion,  <br>\n",
    "\n",
    "The Long Short Time Memory neural network is used here. We use Pytorch as the deep learning framework. <br>\n",
    "\n",
    "Return Values   : Time series and figures <br>\n",
    "\n",
    "Here is the information of climate index in details:<br>\n",
    "**NAO** @ 1950 Jan - 2018 Feb (818 records) <br>\n",
    "http://www.cpc.ncep.noaa.gov/products/precip/CWlink/pna/nao.shtml <br>\n",
    "**ENSO - NINO 3.4 SST** @ 1950 Jan - 2018 Jan (817 records) <br>\n",
    "https://www.esrl.noaa.gov/psd/gcos_wgsp/Timeseries/Nino34/ <br>\n",
    "**AO** @ 1950 Jan - 2018 Feb (818 records) <br>\n",
    "http://www.cpc.ncep.noaa.gov/products/precip/CWlink/daily_ao_index/ao.shtml <br>\n",
    "**AMO** @ 1950 Jan - 2018 Feb (818 records) <br>\n",
    "AMO unsmoothed, detrended from the Kaplan SST V2. The result is standarised.<br>\n",
    "https://www.esrl.noaa.gov/psd/data/timeseries/AMO/<br>\n",
    "\n",
    "(All the NOAA index shown above are given by NCEP/NCAR Reanalysis (CDAS))<br>\n",
    "\n",
    "**PDO** @ 1900 Jan - 2018 Feb (1418 records)<br>\n",
    "This PDO index comes from University of Washington, it contains SST data from the following 3 datasets:<br>\n",
    "- UKMO Historical SST data set for 1900-81;\n",
    "- Reynold's Optimally Interpolated SST (V1) for January 1982-Dec 2001)\n",
    "- OI SST Version 2 (V2) beginning January 2002 -<br>\n",
    "\n",
    "http://research.jisao.washington.edu/pdo/PDO.latest<br>"
   ]
  },
  {
   "cell_type": "code",
   "execution_count": 1,
   "metadata": {},
   "outputs": [],
   "source": [
    "%matplotlib inline\n",
    "\n",
    "import sys\n",
    "sys.path.append(\"/home/ESLT0068/NLeSC/Computation_Modeling/ML4Climate/Scripts/DeepClim\")\n",
    "# for data loading\n",
    "import os\n",
    "from netCDF4 import Dataset\n",
    "# for pre-processing and machine learning\n",
    "import numpy as np\n",
    "import sklearn\n",
    "#import scipy\n",
    "import torch\n",
    "import torch.nn.functional\n",
    "import deepclim\n",
    "import deepclim.preprocess\n",
    "import deepclim.deepSeries\n",
    "#import deepclim.function\n",
    "\n",
    "# for visualization\n",
    "import deepclim.visual\n",
    "import matplotlib\n",
    "import matplotlib.pyplot as plt\n",
    "import iris # also helps with regriding\n",
    "import cartopy\n",
    "import cartopy.crs as ccrs"
   ]
  },
  {
   "cell_type": "code",
   "execution_count": 2,
   "metadata": {},
   "outputs": [],
   "source": [
    "# constants\n",
    "constant = {'g' : 9.80616,      # gravititional acceleration [m / s2]\n",
    "            'R' : 6371009,      # radius of the earth [m]\n",
    "            'cp': 1004.64,      # heat capacity of air [J/(Kg*K)]\n",
    "            'Lv': 2264670,      # Latent heat of vaporization [J/Kg]\n",
    "            'R_dry' : 286.9,    # gas constant of dry air [J/(kg*K)]\n",
    "            'R_vap' : 461.5,    # gas constant for water vapour [J/(kg*K)]\n",
    "            'rho' : 1026,       # sea water density [kg/m3]\n",
    "            }"
   ]
  },
  {
   "cell_type": "markdown",
   "metadata": {},
   "source": [
    "** Data ** <br>\n",
    "Time span of each product included: <br>\n",
    "** Reanalysis ** <br>\n",
    "- **ERA-Interim** 1979 - 2016 (ECMWF)\n",
    "- **ORAS4**       1958 - 2014 (ECMWF)\n",
    "\n",
    "** Index ** <br>\n",
    "- **NINO3.4**     1950 - 2017 (NOAA)\n",
    "- **AO**          1950 - 2017 (NOAA)\n",
    "- **NAO**         1950 - 2017 (NOAA)\n",
    "- **AMO**         1950 - 2017 (NOAA)\n",
    "- **PDO**         1950 - 2017 (University of Washington)\n",
    "\n",
    "!! These index are given by NCEP/NCAR Reanalysis (CDAS) <br>\n",
    "\n",
    "\n",
    "Alternative (not in use yet) <br>\n",
    "** Reanalysis ** <br>\n",
    "- **MERRA2**      1980 - 2016 (NASA)\n",
    "- **JRA55**       1979 - 2015 (JMA)\n",
    "- **GLORYS2V3**   1993 - 2014 (Mercartor Ocean)\n",
    "- **SODA3**       1980 - 2015\n",
    "- **PIOMASS**     1980 - 2015\n",
    "\n",
    "** Observations ** <br>\n",
    "- **NSIDC**       1958 - 2017 "
   ]
  },
  {
   "cell_type": "code",
   "execution_count": 3,
   "metadata": {},
   "outputs": [],
   "source": [
    "################################   path  ######################################\n",
    "# please specify data path\n",
    "datapath_ERAI = '/home/ESLT0068/WorkFlow/Core_Database_AMET_OMET_reanalysis/ERAI/regression'\n",
    "datapath_ORAS4 = '/home/ESLT0068/WorkFlow/Core_Database_AMET_OMET_reanalysis/warehouse_met'\n",
    "datapath_ORAS4_mask = '/home/ESLT0068/WorkFlow/Core_Database_AMET_OMET_reanalysis/ORAS4'\n",
    "datapath_PIOMASS = '/home/ESLT0068/WorkFlow/Core_Database_AMET_OMET_reanalysis/PIOMASS'\n",
    "datapath_clim_index = '/home/ESLT0068/WorkFlow/Core_Database_AMET_OMET_reanalysis/Climate_index'\n",
    "output_path = '/home/ESLT0068/NLeSC/Computation_Modeling/ML4Climate/PredictArctic/Series'"
   ]
  },
  {
   "cell_type": "code",
   "execution_count": 4,
   "metadata": {},
   "outputs": [
    {
     "name": "stdout",
     "output_type": "stream",
     "text": [
      "*********************** get the key to the datasets *************************\n",
      "*********************** extract variables *************************\n"
     ]
    }
   ],
   "source": [
    "if __name__==\"__main__\":\n",
    "    print ('*********************** get the key to the datasets *************************')\n",
    "    dataset_ERAI_fields_SIC_SST_SLP = Dataset(os.path.join(datapath_ERAI,\n",
    "                                              'surface_ERAI_monthly_regress_1979_2016.nc'))\n",
    "\n",
    "    dataset_PIOMASS_siv = Dataset(os.path.join(datapath_PIOMASS,\n",
    "                                       'siv_monthly_PIOMASS_1979_2017.nc'))\n",
    "    dataset_ORAS4_OHC = Dataset(os.path.join(datapath_ORAS4,\n",
    "                                             'oras_model_monthly_1958_2017_ohc.nc'))\n",
    "    dataset_index = Dataset(os.path.join(datapath_clim_index,\n",
    "                                         'index_climate_monthly_regress_1950_2017.nc'))\n",
    "    #dataset_ERAI_fields_flux = Dataset(os.path.join(datapath_ERAI_fields,\n",
    "    #                                  'surface_erai_monthly_regress_1979_2017_radiation.nc'))\n",
    "    # mask\n",
    "    dataset_ORAS4_mask = Dataset(os.path.join(datapath_ORAS4_mask, 'mesh_mask.nc'))\n",
    "    print ('*********************** extract variables *************************')\n",
    "    # ********************************** data gallery *************************************** #\n",
    "    # we use time series from 1979 to 2016 (468 months in total)\n",
    "    # training data: 1979 - 2006\n",
    "    # validation: 2007 - 2016\n",
    "    # variables list:\n",
    "    # SIC (ERA-Interim) / SIV (PIOMASS) / SST (ERA-Interim) / ST (ERA-Interim) / OHC (ORAS4) / AO-NAO-AMO-NINO3.4 (NOAA)\n",
    "    # integrals from spatial fields cover the area from 20N - 90N (4D fields [year, month, lat, lon])\n",
    "    # *************************************************************************************** #\n",
    "    # SIC (ERA-Interim)\n",
    "    SIC_ERAI = dataset_ERAI_fields_SIC_SST_SLP.variables['ci'][:,:95,:] # 3D fields [time, lat, lon]\n",
    "    #SIC_ERAI_mask = np.ma.getmaskarray(SIC_ERAI[0,:,:])\n",
    "    time_ERAI = dataset_ERAI_fields_SIC_SST_SLP.variables['time'][:]\n",
    "    latitude_ERAI = dataset_ERAI_fields_SIC_SST_SLP.variables['latitude'][:]\n",
    "    longitude_ERAI = dataset_ERAI_fields_SIC_SST_SLP.variables['longitude'][:]\n",
    "    #SIV (PIOMASS)\n",
    "    SIV_PIOMASS = dataset_PIOMASS_siv.variables['SIV'][:-12]\n",
    "    year_SIV = dataset_PIOMASS_siv.variables['year'][:-1]\n",
    "    # SST (ERA-Interim)\n",
    "    SST_ERAI = dataset_ERAI_fields_SIC_SST_SLP.variables['sst'][:,:95,:] # 3D fields [time, lat, lon]\n",
    "    # dimensions the same as above\n",
    "    # ST (ERA-Interim)\n",
    "    # OHC (ORAS4)\n",
    "    OHC_100_int_ORAS4 = dataset_ORAS4_OHC.variables['OHC_100_int'][21:-1,:,180:]/1000 # unit Peta Joule\n",
    "    OHC_300_int_ORAS4 = dataset_ORAS4_OHC.variables['OHC_300_int'][21:-1,:,180:]/1000\n",
    "    OHC_700_int_ORAS4 = dataset_ORAS4_OHC.variables['OHC_700_int'][21:-1,:,180:]/1000\n",
    "    #OHC_2000_int_ORAS4 = dataset_ORAS4_OHC.variables['OHC_2000_int'][21:-1,:,180:]/1000\n",
    "    \n",
    "    latitude_OHC_ORAS4 = dataset_ORAS4_OHC.variables['latitude_aux'][180:]\n",
    "    #gphiv_OHC_ORAS4 = dataset_ORAS4_OHC.variables['gphiv'][180:,:]\n",
    "    #glamv_OHC_ORAS4 = dataset_ORAS4_OHC.variables['glamv'][180:,:]\n",
    "    # AO-NAO-AMO-NINO3.4 (NOAA)\n",
    "    AO = dataset_index.variables['AO'][348:-12] # from 1979 - 2016\n",
    "    NAO = dataset_index.variables['NAO'][348:-12]\n",
    "    NINO = dataset_index.variables['NINO'][348:-12]\n",
    "    AMO = dataset_index.variables['AMO'][348:-12]\n",
    "    PDO = dataset_index.variables['PDO'][348:-12]\n",
    "    \n",
    "    # radiation flux\n",
    "    #rad_short_toa_ERAI = dataset_ERAI_fields_flux.variables['tsr'][:] # unit Watt/m2\n",
    "    #rad_long_toa_ERAI = dataset_ERAI_fields_flux.variables['ttr'][:] # unit Watt/m2\n",
    "    #rad_short_surf_ERAI = dataset_ERAI_fields_flux.variables['ssr'][:] # unit Watt/m2\n",
    "    #rad_long_surf_ERAI = dataset_ERAI_fields_flux.variables['str'][:] # unit Watt/m2\n",
    "    # turbulent flux\n",
    "    #SFlux_sensible_ERAI = dataset_ERAI_fields_flux.variables['sshf'][:] # unit Watt/m2\n",
    "    #SFlux_latent_ERAI = dataset_ERAI_fields_flux.variables['slhf'][:] # unit Watt/m2"
   ]
  },
  {
   "cell_type": "code",
   "execution_count": 5,
   "metadata": {},
   "outputs": [
    {
     "name": "stdout",
     "output_type": "stream",
     "text": [
      "[90.   89.25 88.5  87.75 87.   86.25 85.5  84.75 84.   83.25 82.5  81.75\n",
      " 81.   80.25 79.5  78.75 78.   77.25 76.5  75.75 75.   74.25 73.5  72.75\n",
      " 72.   71.25 70.5  69.75 69.   68.25 67.5  66.75 66.   65.25 64.5  63.75\n",
      " 63.   62.25 61.5  60.75 60.  ]\n",
      "[60.018433 60.629475 61.236465 61.839542 62.43884  63.03449  63.626625\n",
      " 64.21538  64.800865 65.38321  65.96254  66.538956 67.11257  67.683495\n",
      " 68.251816 68.817635 69.38102  69.942055 70.50082  71.05734  71.6117\n",
      " 72.163925 72.71404  73.26208  73.80803  74.3519   74.89367  75.43331\n",
      " 75.97079  76.50603  77.03899  77.569565 78.09767  78.6232   79.146034\n",
      " 79.66603  80.18305  80.69692  81.20748  81.71455  82.21792  82.71739\n",
      " 83.21276  83.7038   84.19027  84.67194  85.14858  85.619934 86.08574\n",
      " 86.545746 86.999664 87.44722  87.888054 88.32173  88.74752  89.16367\n",
      " 89.562836 89.83964  89.562836]\n"
     ]
    }
   ],
   "source": [
    "    print (latitude_ERAI[:41])\n",
    "    print (latitude_OHC_ORAS4[53:])\n",
    "    #print (SIC)"
   ]
  },
  {
   "cell_type": "code",
   "execution_count": 5,
   "metadata": {},
   "outputs": [
    {
     "name": "stdout",
     "output_type": "stream",
     "text": [
      "******************  calculate extent from spatial fields  *******************\n",
      "******************  calculate mean/sum from spatial fields  *******************\n"
     ]
    }
   ],
   "source": [
    "    print ('******************  calculate extent from spatial fields  *******************')\n",
    "    # size of the grid box\n",
    "    dx = 2 * np.pi * constant['R'] * np.cos(2 * np.pi * latitude_ERAI /\n",
    "                                            360) / len(longitude_ERAI)\n",
    "    dy = np.pi * constant['R'] / len(latitude_ERAI)\n",
    "    # calculate the sea ice area\n",
    "    SIC_ERAI_area = np.zeros(SIC_ERAI.shape, dtype=float)\n",
    "    for i in np.arange(len(latitude_ERAI[:95])):\n",
    "        # change the unit to terawatt\n",
    "        SIC_ERAI_area[:,i,:] = SIC_ERAI[:,i,:]* dx[i] * dy # unit m2\n",
    "    \n",
    "    print ('******************  calculate mean/sum from spatial fields  *******************')\n",
    "    # calculate the mean SST in the polar cap\n",
    "    SST_ERAI_mean = np.mean(np.mean(SST_ERAI[:,:41,:],2),1)\n",
    "    # calculate the total OHC in the polar cap\n",
    "    OHC_100_ORAS4_sum = np.sum(OHC_100_int_ORAS4[:,:,53:],2)\n",
    "    OHC_300_ORAS4_sum = np.sum(OHC_300_int_ORAS4[:,:,53:],2)\n",
    "    OHC_700_ORAS4_sum = np.sum(OHC_700_int_ORAS4[:,:,53:],2)\n",
    "    # calculate the total SIC in the polar cap\n",
    "    SIC_ERAI_sum = np.sum(np.sum(SIC_ERAI_area[:,:41,:],2),1)"
   ]
  },
  {
   "cell_type": "code",
   "execution_count": 6,
   "metadata": {},
   "outputs": [
    {
     "name": "stdout",
     "output_type": "stream",
     "text": [
      "*******************  pre-processing  *********************\n",
      "================  reshape input data into time series  =================\n",
      "=========================   normalize data   ===========================\n",
      "====================    A series of time (index)    ====================\n",
      "===================  artificial data for evaluation ====================\n"
     ]
    }
   ],
   "source": [
    "    print ('*******************  pre-processing  *********************')\n",
    "    print ('================  reshape input data into time series  =================')\n",
    "    OHC_700_ORAS4_sum_series= deepclim.preprocess.operator.unfold(OHC_700_ORAS4_sum)\n",
    "    print ('=========================   normalize data   ===========================')\n",
    "    SIC_ERAI_sum_norm = deepclim.preprocess.operator.normalize(SIC_ERAI_sum)\n",
    "    SIV_PIOMASS_norm = deepclim.preprocess.operator.normalize(SIV_PIOMASS)\n",
    "    print ('====================    A series of time (index)    ====================')\n",
    "    time_series = np.arange(0,len(SIC_ERAI_sum_norm),1)\n",
    "    year = np.arange(1979,2017,1)\n",
    "    year_cycle = np.repeat(year,12)\n",
    "    month_cycle = np.tile(np.arange(1,13,1),len(time_series)//12)\n",
    "    month_cycle.astype(float)\n",
    "    #month_cycle = np.array(list(np.arange(1,13,1))*(len(time_index)//12),dtype=float)\n",
    "    print ('===================  artificial data for evaluation ====================')\n",
    "    # calculate climatology of SIC\n",
    "    seansonal_cycle_SIC = np.zeros(12,dtype=float)\n",
    "    for i in np.arange(12):\n",
    "        seansonal_cycle_SIC[i] = np.mean(SIC_ERAI_sum_norm[i::12],axis=0)\n",
    "    # weight for loss\n",
    "    weight_month = np.array([0,1,1,\n",
    "                             1,0,0,\n",
    "                             1,1,1,\n",
    "                             0,0,0])\n",
    "    weight_loss = np.tile(weight_month,len(time_series)//12)"
   ]
  },
  {
   "cell_type": "code",
   "execution_count": 17,
   "metadata": {},
   "outputs": [
    {
     "name": "stdout",
     "output_type": "stream",
     "text": [
      "[0.91049867 0.95040081 0.95363012 0.938407   0.85274288 0.72234553\n",
      " 0.50107235 0.31500285 0.33449173 0.5307878  0.71548149 0.87862723]\n",
      "(456,)\n",
      "[ 1  2  3  4  5  6  7  8  9 10 11 12]\n",
      "[0 1 1 0 0 0 0 1 1 0 0 0 0 1 1 0 0 0 0 1 1 0 0 0 0 1 1 0 0 0 0 1 1 0 0 0 0\n",
      " 1 1 0 0 0 0 1 1 0 0 0 0 1 1 0 0 0 0 1 1 0 0 0 0 1 1 0 0 0 0 1 1 0 0 0 0 1\n",
      " 1 0 0 0 0 1 1 0 0 0 0 1 1 0 0 0 0 1 1 0 0 0 0 1 1 0 0 0 0 1 1 0 0 0 0 1 1\n",
      " 0 0 0 0 1 1 0 0 0 0 1 1 0 0 0 0 1 1 0 0 0 0 1 1 0 0 0 0 1 1 0 0 0 0 1 1 0\n",
      " 0 0 0 1 1 0 0 0 0 1 1 0 0 0 0 1 1 0 0 0 0 1 1 0 0 0 0 1 1 0 0 0 0 1 1 0 0\n",
      " 0 0 1 1 0 0 0 0 1 1 0 0 0 0 1 1 0 0 0 0 1 1 0 0 0 0 1 1 0 0 0 0 1 1 0 0 0\n",
      " 0 1 1 0 0 0 0 1 1 0 0 0 0 1 1 0 0 0 0 1 1 0 0 0 0 1 1 0 0 0 0 1 1 0 0 0 0\n",
      " 1 1 0 0 0 0 1 1 0 0 0 0 1 1 0 0 0 0 1 1 0 0 0 0 1 1 0 0 0 0 1 1 0 0 0 0 1\n",
      " 1 0 0 0 0 1 1 0 0 0 0 1 1 0 0 0 0 1 1 0 0 0 0 1 1 0 0 0 0 1 1 0 0 0 0 1 1\n",
      " 0 0 0 0 1 1 0 0 0 0 1 1 0 0 0 0 1 1 0 0 0 0 1 1 0 0 0 0 1 1 0 0 0 0 1 1 0\n",
      " 0 0 0 1 1 0 0 0 0 1 1 0 0 0 0 1 1 0 0 0 0 1 1 0 0 0 0 1 1 0 0 0 0 1 1 0 0\n",
      " 0 0 1 1 0 0 0 0 1 1 0 0 0 0 1 1 0 0 0 0 1 1 0 0 0 0 1 1 0 0 0 0 1 1 0 0 0\n",
      " 0 1 1 0 0 0 0 1 1 0 0 0]\n"
     ]
    }
   ],
   "source": [
    "    #print(seansonal_cycle_SIC[:])\n",
    "    print(SIC_ERAI_sum_norm[12:24])\n",
    "    #print(SIC_ERAI_sum_norm[13:25])\n",
    "    print(year_cycle.shape)\n",
    "    print (month_cycle[:12])\n",
    "    print(weight_loss)"
   ]
  },
  {
   "cell_type": "markdown",
   "metadata": {},
   "source": [
    "# Procedure for LSTM <br>\n",
    "** We use Pytorth to implement LSTM neural network with time series of climate data. ** <br>"
   ]
  },
  {
   "cell_type": "code",
   "execution_count": 7,
   "metadata": {},
   "outputs": [
    {
     "name": "stdout",
     "output_type": "stream",
     "text": [
      "*******************          prepare input tensor for LSTM           *********************\n",
      "*******************  create basic dimensions for tensor and network  *********************\n",
      "1.0.1.post2\n",
      "Is CUDA available? False\n",
      "******************* create input tensor with single-input dimension   *********************\n",
      "*******************   create input tensor with multi-input dimension   *********************\n",
      "*******************   create tensors  *********************\n",
      "*******************   reshape tensors into batches *********************\n"
     ]
    }
   ],
   "source": [
    "    print ('*******************          prepare input tensor for LSTM           *********************')\n",
    "    print ('*******************  create basic dimensions for tensor and network  *********************')\n",
    "    # specifications of neural network\n",
    "    input_size = 2\n",
    "    hidden_size = 4\n",
    "    batch_size = 12\n",
    "    output_size = 1\n",
    "    num_layers = 1\n",
    "    learning_rate = 0.001\n",
    "    num_epochs = 4000\n",
    "    print (torch.__version__)\n",
    "    # check if CUDA is available\n",
    "    use_cuda = torch.cuda.is_available()\n",
    "    print(\"Is CUDA available? {}\".format(use_cuda))\n",
    "    # standard LSTM input dimension\n",
    "    # [sequence_length (time step), batch_size, input_size]\n",
    "    # \n",
    "    # example : x = torch.autograd.Variable(torch.randn(6, 3, 5))\n",
    "    # prepare input array for LSTM input -> dimension\n",
    "    # take 3 year as test data\n",
    "    test_year = 3\n",
    "    print ('******************* create input tensor with single-input dimension   *********************')\n",
    "    SIC = SIC_ERAI_sum_norm[1:-test_year*12+1].reshape(len(SIC_ERAI_sum_norm[1:-test_year*12+1]),1,1)\n",
    "    #SIV = SIV_PIOMASS_norm[:-test_year*12].reshape(len(SIV_PIOMASS_norm[:-test_year*12]),1,1)\n",
    "    #time = time_series[:-test_year*12].reshape(len(time_series[:-test_year*12]),1,1)\n",
    "    #year = year_cycle[:-test_year*12].reshape(len(year_cycle[:-test_year*12]),1,1)\n",
    "    #month = month_cycle[:-test_year*12].reshape(len(month_cycle[:-test_year*12]),1,1)\n",
    "    weight_loss_3D = weight_loss[1:-test_year*12+1].reshape(len(weight_loss[1:-test_year*12+1]),1,1)\n",
    "    print ('*******************   create input tensor with multi-input dimension   *********************')\n",
    "    # create variables\n",
    "    x_input = np.vstack((SIC_ERAI_sum_norm[:-test_year*12],month_cycle[:-test_year*12])).T #hstack,dstack\n",
    "    x_input = x_input.reshape(len(month_cycle[:-test_year*12]),1,input_size)\n",
    "    print ('*******************   create tensors  *********************')\n",
    "    print ('*******************   reshape tensors into batches *********************')\n",
    "    SIC_var = torch.autograd.Variable(torch.Tensor(SIC).view(-1,batch_size,1))\n",
    "    #SIV_var = torch.autograd.Variable(torch.Tensor(SIV))\n",
    "    #time_var = torch.autograd.Variable(torch.Tensor(time))\n",
    "    #month_var = torch.autograd.Variable(torch.Tensor(month))\n",
    "    x_var = torch.autograd.Variable(torch.Tensor(x_input).view(-1,batch_size,input_size))\n",
    "    weight_loss_var = torch.autograd.Variable(torch.Tensor(weight_loss_3D).view(-1,batch_size,1))"
   ]
  },
  {
   "cell_type": "code",
   "execution_count": 25,
   "metadata": {},
   "outputs": [
    {
     "name": "stdout",
     "output_type": "stream",
     "text": [
      "*******************  preview of input tensor  *********************\n",
      "[0.97859309 0.97822673 0.956313   0.87801003 0.74414288 0.51485025\n",
      " 0.32195455 0.29326797 0.46701015 0.68739519 0.85079217 0.91049867]\n",
      "tensor([0.9786, 0.9782, 0.9563, 0.8780, 0.7441, 0.5149, 0.3220, 0.2933, 0.4670,\n",
      "        0.6874, 0.8508, 0.9105])\n",
      "tensor([[ 0.9324,  1.0000],\n",
      "        [ 0.9418,  2.0000],\n",
      "        [ 0.9676,  3.0000],\n",
      "        [ 0.9500,  4.0000],\n",
      "        [ 0.8824,  5.0000],\n",
      "        [ 0.6857,  6.0000],\n",
      "        [ 0.4509,  7.0000],\n",
      "        [ 0.2789,  8.0000],\n",
      "        [ 0.2755,  9.0000],\n",
      "        [ 0.4809, 10.0000],\n",
      "        [ 0.6841, 11.0000],\n",
      "        [ 0.8582, 12.0000]])\n"
     ]
    }
   ],
   "source": [
    "    print ('*******************  preview of input tensor  *********************')\n",
    "    #plt.plot(SIC_ERAI_sum)\n",
    "    print(SIC[:12,0,0])\n",
    "    print(SIC_var[0,:,0])\n",
    "    print(x_var[2,:,:])"
   ]
  },
  {
   "cell_type": "code",
   "execution_count": null,
   "metadata": {},
   "outputs": [],
   "source": [
    "#     print ('*******************  module for calculating accuracy  *********************')\n",
    "#     def accuracy(out, labels):\n",
    "#         outputs = np.argmax(out, axis=1)\n",
    "#     return np.sum(outputs==labels)/float(labels.size)"
   ]
  },
  {
   "cell_type": "code",
   "execution_count": 9,
   "metadata": {},
   "outputs": [
    {
     "name": "stdout",
     "output_type": "stream",
     "text": [
      "*******************  run LSTM  *********************\n",
      "LSTM(\n",
      "  (lstm): LSTM(2, 4)\n",
      "  (linear): Linear(in_features=4, out_features=1, bias=True)\n",
      ")\n",
      "MSELoss()\n",
      "Adam (\n",
      "Parameter Group 0\n",
      "    amsgrad: False\n",
      "    betas: (0.9, 0.999)\n",
      "    eps: 1e-08\n",
      "    lr: 0.001\n",
      "    weight_decay: 0\n",
      ")\n",
      "##############################################################\n",
      "##################  start training loop  #####################\n",
      "##############################################################\n",
      "Epoch  0 MSE:  317.3332214355469\n"
     ]
    },
    {
     "name": "stderr",
     "output_type": "stream",
     "text": [
      "/home/ESLT0068/.pyenv/versions/anaconda3-5.2.0/lib/python3.6/site-packages/torch/nn/_reduction.py:49: UserWarning: size_average and reduce args will be deprecated, please use reduction='sum' instead.\n",
      "  warnings.warn(warning.format(ret))\n"
     ]
    },
    {
     "name": "stdout",
     "output_type": "stream",
     "text": [
      "Epoch  100 MSE:  39.20018768310547\n",
      "Epoch  200 MSE:  28.08685302734375\n",
      "Epoch  300 MSE:  24.228361129760742\n",
      "Epoch  400 MSE:  21.620752334594727\n",
      "Epoch  500 MSE:  19.648283004760742\n",
      "Epoch  600 MSE:  17.635942459106445\n",
      "Epoch  700 MSE:  14.923222541809082\n",
      "Epoch  800 MSE:  12.330133438110352\n",
      "Epoch  900 MSE:  9.502924919128418\n",
      "Epoch  1000 MSE:  6.387103080749512\n",
      "Epoch  1100 MSE:  3.3090097904205322\n",
      "Epoch  1200 MSE:  2.187166452407837\n",
      "Epoch  1300 MSE:  1.911228060722351\n",
      "Epoch  1400 MSE:  1.704705834388733\n",
      "Epoch  1500 MSE:  1.52870512008667\n",
      "Epoch  1600 MSE:  1.3810490369796753\n",
      "Epoch  1700 MSE:  1.2608124017715454\n",
      "Epoch  1800 MSE:  1.1642611026763916\n",
      "Epoch  1900 MSE:  1.086134433746338\n",
      "Epoch  2000 MSE:  1.0214624404907227\n",
      "Epoch  2100 MSE:  0.9664497375488281\n",
      "Epoch  2200 MSE:  0.9184979200363159\n",
      "Epoch  2300 MSE:  0.8758872151374817\n",
      "Epoch  2400 MSE:  0.8374699950218201\n",
      "Epoch  2500 MSE:  0.8024647235870361\n",
      "Epoch  2600 MSE:  0.7703297734260559\n",
      "Epoch  2700 MSE:  0.7406846880912781\n",
      "Epoch  2800 MSE:  0.7132543921470642\n",
      "Epoch  2900 MSE:  0.6878294348716736\n",
      "Epoch  3000 MSE:  0.6642401218414307\n",
      "Epoch  3100 MSE:  0.6423399448394775\n",
      "Epoch  3200 MSE:  0.6219950318336487\n",
      "Epoch  3300 MSE:  0.6030799746513367\n",
      "Epoch  3400 MSE:  0.5854768753051758\n",
      "Epoch  3500 MSE:  0.5690744519233704\n",
      "Epoch  3600 MSE:  0.5537711977958679\n",
      "Epoch  3700 MSE:  0.5394718647003174\n",
      "Epoch  3800 MSE:  0.5260911583900452\n",
      "Epoch  3900 MSE:  0.513550877571106\n"
     ]
    }
   ],
   "source": [
    "    print ('*******************  run LSTM  *********************')\n",
    "    # choose training data\n",
    "    y_train = SIC_var\n",
    "    # initialize our model\n",
    "    model = deepclim.deepSeries.LSTM(input_size, hidden_size, batch_size=batch_size,\n",
    "                                     output_dim=output_size, num_layers=num_layers)\n",
    "    # loss function\n",
    "    loss_fn = torch.nn.MSELoss(size_average=False)\n",
    "    # stochastic gradient descent\n",
    "    #optimizer = torch.optim.SGD(model.parameters(), lr=learning_rate, momentum=0.9)\n",
    "    # Adam optimizer\n",
    "    optimiser = torch.optim.Adam(model.parameters(), lr=learning_rate)\n",
    "    print(model)\n",
    "    print(loss_fn)\n",
    "    print(optimiser)\n",
    "    print('##############################################################')\n",
    "    print('##################  start training loop  #####################')\n",
    "    print('##############################################################')\n",
    "    hist = np.zeros(num_epochs)\n",
    "\n",
    "    for t in range(num_epochs):\n",
    "        # Clear stored gradient\n",
    "        model.zero_grad()\n",
    "\n",
    "        # Initialise hidden state\n",
    "        # Don't do this if you want your LSTM to be stateful\n",
    "        model.hidden = model.init_hidden()\n",
    "        #model.hidden2 = model.init_hidden2()\n",
    "    \n",
    "        # Forward pass\n",
    "        y_pred = model(x_var)\n",
    "\n",
    "        # torch.nn.functional.mse_loss(y_pred, y_train) can work with (scalar,vector) & (vector,vector)\n",
    "        #weight_factor = 4\n",
    "        #loss_peak = loss_fn(y_pred * weight_loss_var, y_train * weight_loss_var)\n",
    "        #print(y_pred.shape)\n",
    "        #print(y_train.shape)\n",
    "        #print(weight_loss_var.shape)\n",
    "        #loss_all = loss_fn(y_pred, y_train)\n",
    "        #loss = loss_peak * weight_factor + loss_all\n",
    "        loss = loss_fn(y_pred, y_train)\n",
    "        # customized loss function\n",
    "        #loss = deepclim.function.lossPeak(y_pred, y_train,0.8,0.2,2)\n",
    "        # print loss at certain iteration\n",
    "        if t % 100 == 0:\n",
    "            print(\"Epoch \", t, \"MSE: \", loss.item())\n",
    "            #print(y_pred.data)\n",
    "        hist[t] = loss.item()\n",
    "\n",
    "        # Zero out gradient, else they will accumulate between epochs\n",
    "        optimiser.zero_grad()\n",
    "    \n",
    "        # Backward pass\n",
    "        loss.backward()\n",
    "\n",
    "        # Update parameters\n",
    "        optimiser.step()\n",
    "    \n",
    "    torch.save(model, os.path.join(output_path,'lstm.pkl')) # save lstm model"
   ]
  },
  {
   "cell_type": "code",
   "execution_count": 21,
   "metadata": {},
   "outputs": [
    {
     "name": "stdout",
     "output_type": "stream",
     "text": [
      "[0.92851959 0.97859309 0.97822673 0.956313   0.87801003 0.74414288\n",
      " 0.51485025 0.32195455 0.29326797 0.46701015 0.68739519 0.85079217\n",
      " 0.91049867 0.95040081 0.95363012 0.938407   0.85274288 0.72234553\n",
      " 0.50107235 0.31500285 0.33449173 0.5307878  0.71548149 0.87862723\n",
      " 0.93240653 0.94179058 0.96757064 0.95004804 0.88237443 0.6857015\n",
      " 0.45092134 0.27894169 0.2755477  0.48092182 0.68414908 0.8581891 ]\n",
      "(456,)\n",
      "(12, 1)\n"
     ]
    }
   ],
   "source": [
    "    print(SIC_ERAI_sum_norm[:36])\n",
    "    print(data_predict.shape)\n",
    "    print(last_pred.shape)"
   ]
  },
  {
   "cell_type": "code",
   "execution_count": 26,
   "metadata": {},
   "outputs": [
    {
     "name": "stdout",
     "output_type": "stream",
     "text": [
      "##############################################################\n",
      "###################  start prediction loop ###################\n",
      "##############################################################\n",
      "*******************************  one step ahead forecast  *********************************\n",
      "************  the last 3 years of total time series are treated as test data  ************\n"
     ]
    }
   ],
   "source": [
    "    print('##############################################################')\n",
    "    print('###################  start prediction loop ###################')\n",
    "    print('##############################################################')\n",
    "    # the model learn from time series and try to predict the next time step based on the previous time series\n",
    "    print ('*******************************  one step ahead forecast  *********************************')\n",
    "    print ('************  the last {} years of total time series are treated as test data  ************'.format(test_year))\n",
    "    data_predict = SIC_ERAI_sum_norm[:12] # first month is taken from original data as starting point\n",
    "    new_input = SIC_ERAI_sum_norm[:-test_year*12] # SIC before year of prediction\n",
    "    for i in np.arange(1,len(SIC_ERAI_sum_norm)//12,1): # here i is actually the time step (index) of prediction, we use var[:i] to predict var[i]\n",
    "        # Clear stored gradient\n",
    "        model.zero_grad()\n",
    "        # Don't do this if you want your LSTM to be stateful\n",
    "        # Otherwise the hidden state should be cleaned up at each time step for prediction (we don't clear hidden state in our forward function)\n",
    "        # see example from (https://github.com/pytorch/examples/blob/master/time_sequence_prediction/train.py)\n",
    "        model.hidden = model.init_hidden()\n",
    "        \n",
    "        # using training series before the time of prediciton\n",
    "        # using predicted data after the time of prediction\n",
    "        if i <= (len(SIC_ERAI_sum_norm)//12-test_year):\n",
    "            # prepare predictor (variables follow the same order as )\n",
    "            x_pred = np.vstack((SIC_ERAI_sum_norm[0:i*12],month_cycle[0:i*12])).T\n",
    "            x_pred = x_pred.reshape(len(month_cycle[0:i*12]),1,input_size)\n",
    "            x_var_pred = torch.autograd.Variable(torch.Tensor(x_pred).view(-1,batch_size,input_size),requires_grad=False)\n",
    "        \n",
    "            # make prediction\n",
    "            last_pred = model.forward(x_var_pred)\n",
    "            last_pred = last_pred[-1,:,:].data.numpy()\n",
    "            data_predict = np.append(data_predict, last_pred.reshape(-1))\n",
    "            #print(last_pred)\n",
    "            \n",
    "            if i == (len(SIC_ERAI_sum_norm)//12-test_year):\n",
    "                new_input = np.append(new_input, last_pred)\n",
    "        else:\n",
    "            # prepare predictor\n",
    "            x_pred = np.vstack((new_input,month_cycle[0:len(new_input)])).T\n",
    "            x_pred = x_pred.reshape(len(new_input),1,input_size)\n",
    "            x_var_pred = torch.autograd.Variable(torch.Tensor(x_pred).view(-1,batch_size,input_size),requires_grad=False)\n",
    "        \n",
    "            # make prediction\n",
    "            last_pred = model.forward(x_var_pred)\n",
    "            last_pred = last_pred[-1,:,:].data.numpy()\n",
    "            data_predict = np.append(data_predict, last_pred.reshape(-1))\n",
    "            #print(last_pred)\n",
    "            new_input = np.append(new_input, last_pred.reshape(-1))          "
   ]
  },
  {
   "cell_type": "code",
   "execution_count": 32,
   "metadata": {},
   "outputs": [
    {
     "name": "stdout",
     "output_type": "stream",
     "text": [
      "[ 0.83796513  0.94240427  0.8622445   0.5867653   0.10607637 -0.22337724\n",
      " -0.21069646  0.11219047  0.5668509   0.7800888   0.8668994   0.92987216]\n"
     ]
    }
   ],
   "source": [
    "    print(last_pred.reshape(-1))"
   ]
  },
  {
   "cell_type": "code",
   "execution_count": 27,
   "metadata": {},
   "outputs": [
    {
     "name": "stdout",
     "output_type": "stream",
     "text": [
      "*******************  evaluation matrix  *********************\n",
      "RMSE = 8.174944474524413\n"
     ]
    }
   ],
   "source": [
    "    print ('*******************  evaluation matrix  *********************')\n",
    "    # The prediction will be evaluated through RMSE against climatology\n",
    "    def RMSE(x,y):\n",
    "        \"\"\"\n",
    "        Calculate the RMSE. x is input series and y is reference series.\n",
    "        \"\"\"\n",
    "        rmse = np.sqrt((x-y)**2)\n",
    "    \n",
    "        return rmse\n",
    "\n",
    "    # calculate the RMSE error of predictied years\n",
    "    error_pred = np.sum(RMSE(data_predict[-test_year*12:],SIC_ERAI_sum_norm[-test_year*12:]))\n",
    "    print (\"RMSE = {}\".format(error_pred))"
   ]
  },
  {
   "cell_type": "code",
   "execution_count": 28,
   "metadata": {},
   "outputs": [
    {
     "data": {
      "image/png": "[encoded data removed]",
      "text/plain": [
       "<Figure size 432x288 with 1 Axes>"
      ]
     },
     "metadata": {},
     "output_type": "display_data"
    },
    {
     "data": {
      "image/png": "[encoded data removed]",
      "text/plain": [
       "<Figure size 432x288 with 1 Axes>"
      ]
     },
     "metadata": {},
     "output_type": "display_data"
    },
    {
     "data": {
      "image/png": "[encoded data removed]",
      "text/plain": [
       "<Figure size 432x288 with 1 Axes>"
      ]
     },
     "metadata": {},
     "output_type": "display_data"
    },
    {
     "data": {
      "text/plain": [
       "[<matplotlib.lines.Line2D at 0x7f22593421d0>]"
      ]
     },
     "execution_count": 28,
     "metadata": {},
     "output_type": "execute_result"
    },
    {
     "data": {
      "image/png": "[encoded data removed]",
      "text/plain": [
       "<Figure size 432x288 with 1 Axes>"
      ]
     },
     "metadata": {},
     "output_type": "display_data"
    }
   ],
   "source": [
    "    # visualization\n",
    "    index_plot = np.arange(len(SIC_ERAI_sum_norm))\n",
    "    year_index = np.arange(1980,2017,5)\n",
    "    # repeat climatology as reference\n",
    "    climatology = np.tile(seansonal_cycle_SIC,len(SIC_ERAI_sum_norm)//12)\n",
    "    # create index\n",
    "    fig1 = plt.figure()\n",
    "    plt.vlines(index_plot[-test_year*12],0,1,colors='g',linestyle='dashed',linewidth=2)\n",
    "    plt.plot(index_plot, data_predict, 'r',label=\"Prediction\")\n",
    "    plt.plot(index_plot, SIC_ERAI_sum_norm, 'b',label=\"Data\")\n",
    "    #plt.plot(index_plot, climatology, 'c--',label=\"climatology\")\n",
    "    #plt.plot(y_train[:,0,0].detach().numpy(), label=\"Data\")\n",
    "    #plt.plot(y_train[:,0,0].detach().numpy(), label=\"Training\")\n",
    "    plt.xlabel('time')\n",
    "    plt.xticks(np.arange(13,len(index_plot)+1,60),year_index)\n",
    "    plt.legend()\n",
    "    plt.show()\n",
    "    fig1.savefig(os.path.join(output_path,'SIC_ERAI_LSTM_pred_full.png'),dpi=300)\n",
    "    \n",
    "    # include text box in the figure\n",
    "    text_content = '$RMSE=%.3f$ ' % (error_pred)\n",
    "    fig0 = plt.figure()\n",
    "    plt.plot(index_plot[-test_year*12:], SIC_ERAI_sum_norm[-test_year*12:], 'b',label=\"Data\")\n",
    "    plt.scatter(index_plot[-test_year*12:],SIC_ERAI_sum_norm[-test_year*12:])\n",
    "    plt.plot(index_plot[-test_year*12:], data_predict[-test_year*12:], 'r',label=\"Prediction\")\n",
    "    plt.scatter(index_plot[-test_year*12:], data_predict[-test_year*12:])\n",
    "    #plt.plot(index_plot, climatology, 'c--',label=\"climatology\")\n",
    "    #plt.plot(y_train[:,0,0].detach().numpy(), label=\"Data\")\n",
    "    #plt.plot(y_train[:,0,0].detach().numpy(), label=\"Training\")\n",
    "    #plt.scatter(index_plot[-test_year*12:],weight_loss[-test_year*12:]*0.05, label=\"Weight\")\n",
    "    plt.xlabel('time')\n",
    "    plt.xticks(np.arange(421,457,6),(['201401', '201407',\n",
    "                                     '201501', '201507',\n",
    "                                     '201601', '201607']))\n",
    "    plt.legend(loc=1)\n",
    "    props = dict(boxstyle='round', facecolor='white', alpha=0.8)\n",
    "    ax = plt.gca()\n",
    "    ax.text(0.03,0.2,text_content,transform=ax.transAxes,fontsize=10,verticalalignment='top',bbox=props)\n",
    "    plt.show()\n",
    "    fig0.savefig(os.path.join(output_path,'SIC_ERAI_LSTM_pred.png'),dpi=300)    \n",
    "    \n",
    "    fig2 = plt.figure()\n",
    "    plt.plot(hist[:], label=\"Training loss\")\n",
    "    plt.legend()\n",
    "    plt.show()\n",
    "    fig2.savefig(os.path.join(output_path,'SIC_ERAI_LSTM_pred_error.png'),dpi=300)\n",
    "    \n",
    "    plt.plot(data_predict-SIC_ERAI_sum_norm)"
   ]
  },
  {
   "cell_type": "code",
   "execution_count": null,
   "metadata": {},
   "outputs": [],
   "source": [
    "#     print ('*******************  run linear regression  *********************')\n",
    "#     model = LinearReg()\n",
    "#     # construct loss function and an optimizer.\n",
    "#     criterion = torch.nn.MSELoss(size_average=False)\n",
    "#     optimizer = torch.optim.SGD(model.parameters(),lr=0.01) # learning rate (lr)\n",
    "#     #####################\n",
    "#     # Train Loop\n",
    "#     #####################\n",
    "#     for epoch in range(num_epoch):\n",
    "#         # predict y by fit x through linear regression\n",
    "#         y_predict = model(SIV_var)\n",
    "#         # compute and print loss\n",
    "#         loss = criterion(y_predict,y_train)\n",
    "        \n",
    "#         # backpropagation and gradient descend (fix steps)\n",
    "#         # Zero out gradient, else they will accumulate between epochs\n",
    "#         optimizer.zero_grad()\n",
    "    \n",
    "#         # Backward pass\n",
    "#         loss.backward()\n",
    "\n",
    "#         # Update parameters\n",
    "#         optimizer.step()        "
   ]
  }
 ],
 "metadata": {
  "kernelspec": {
   "display_name": "Python 3",
   "language": "python",
   "name": "python3"
  },
  "language_info": {
   "codemirror_mode": {
    "name": "ipython",
    "version": 3
   },
   "file_extension": ".py",
   "mimetype": "text/x-python",
   "name": "python",
   "nbconvert_exporter": "python",
   "pygments_lexer": "ipython3",
   "version": "3.6.5"
  }
 },
 "nbformat": 4,
 "nbformat_minor": 2
}
