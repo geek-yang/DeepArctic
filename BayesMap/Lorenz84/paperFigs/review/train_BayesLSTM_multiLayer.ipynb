{
 "cells": [
  {
   "cell_type": "markdown",
   "metadata": {},
   "source": [
    "# Copyright Netherlands eScience Center <br>\n",
    "**Function     : Train BayesLSTM model with multiple layers ** <br>\n",
    "**Author       : Yang Liu** <br>\n",
    "**First Built  : 2021.05.02** <br>\n",
    "**Last Update  : 2021.05.02** <br>\n",
    "**Library      : Pytorth, Numpy, NetCDF4, os, iris, cartopy, dlacs, matplotlib** <br>\n",
    "**Description  : This notebook serves to predict the Lorenz 84 model using deep learning. The\n",
    "                 Bayesian Long Short Time Memory neural network is used to deal with this\n",
    "                 spatial-temporal sequence problem.** <br>\n",
    "                 We use Pytorch as the deep learning framework.<br>\n",
    "Return Values   : pkl model and figures <br>"
   ]
  },
  {
   "cell_type": "code",
   "execution_count": 1,
   "metadata": {},
   "outputs": [],
   "source": [
    "import sys\n",
    "import warnings\n",
    "import numbers\n",
    "import logging\n",
    "import time as tttt\n",
    "\n",
    "# for data loading\n",
    "import os\n",
    "from netCDF4 import Dataset\n",
    "# for pre-processing and machine learning\n",
    "import numpy as np\n",
    "import sklearn\n",
    "#import scipy\n",
    "import torch\n",
    "import torch.nn.functional\n",
    "\n",
    "#sys.path.append(\"../\")\n",
    "sys.path.append(\"H:\\\\Creator_Zone\\\\Script_craft\\\\ML4Climate\\\\Scripts\\\\DLACs\")\n",
    "import dlacs\n",
    "import dlacs.BayesConvLSTM\n",
    "import dlacs.preprocess\n",
    "import dlacs.function\n",
    "import dlacs.saveNetCDF\n",
    "import dlacs.metric\n",
    "\n",
    "# for visualization\n",
    "import dlacs.visual\n",
    "import matplotlib\n",
    "import matplotlib.pyplot as plt\n",
    "from matplotlib.pyplot import cm\n",
    "from mpl_toolkits.mplot3d import Axes3D\n",
    "import iris # also helps with regriding\n",
    "import cartopy\n",
    "import cartopy.crs as ccrs\n",
    "\n",
    "# ignore all the DeprecationWarnings by pytorch\n",
    "if not sys.warnoptions:\n",
    "    warnings.simplefilter(\"ignore\")"
   ]
  },
  {
   "cell_type": "code",
   "execution_count": 2,
   "metadata": {},
   "outputs": [],
   "source": [
    "# constants\n",
    "constant = {'g' : 9.80616,      # gravititional acceleration [m / s2]\n",
    "            'R' : 6371009,      # radius of the earth [m]\n",
    "            'cp': 1004.64,      # heat capacity of air [J/(Kg*K)]\n",
    "            'Lv': 2500000,      # Latent heat of vaporization [J/Kg]\n",
    "            'R_dry' : 286.9,    # gas constant of dry air [J/(kg*K)]\n",
    "            'R_vap' : 461.5,    # gas constant for water vapour [J/(kg*K)]\n",
    "            'rho' : 1026,       # sea water density [kg/m3]\n",
    "            }"
   ]
  },
  {
   "cell_type": "code",
   "execution_count": 3,
   "metadata": {},
   "outputs": [],
   "source": [
    "################################################################################# \n",
    "#########                           datapath                             ########\n",
    "#################################################################################\n",
    "# please specify data path\n",
    "# datapath for output\n",
    "output_path = 'H:\\\\Creator_Zone\\\\Script_craft\\\\ML4Climate\\\\PredictArctic\\\\BayesMaps\\\\Lorenz84\\\\bayes\\\\fullseries_ex\\\\epoch3000_p100000_stdx4_layer5'\n",
    "model_path = 'H:\\\\Creator_Zone\\\\Script_craft\\\\ML4Climate\\\\PredictArctic\\\\BayesMaps\\\\Lorenz84\\\\bayes\\\\fullseries_ex\\\\epoch3000_p100000_stdx4_layer5\\\\base'\n",
    "################################################################################# \n",
    "#########                             main                               ########\n",
    "#################################################################################\n",
    "# set up logging files\n",
    "logging.basicConfig(filename = os.path.join(output_path,'logFile_Lorenz84_train_ex.log'),\n",
    "                    filemode = 'w+', level = logging.DEBUG,\n",
    "                    format = '%(asctime)s - %(name)s - %(levelname)s - %(message)s')\n",
    "logging.getLogger('matplotlib.font_manager').disabled = True"
   ]
  },
  {
   "cell_type": "code",
   "execution_count": 4,
   "metadata": {},
   "outputs": [
    {
     "name": "stdout",
     "output_type": "stream",
     "text": [
      "*********************** get the key to the datasets *************************\n"
     ]
    }
   ],
   "source": [
    "if __name__==\"__main__\":\n",
    "    print ('*********************** get the key to the datasets *************************')\n",
    "    #################################################################################\n",
    "    ###########                configure Lorenz 84 model                  ###########\n",
    "    #################################################################################\n",
    "    logging.info(\"Configure Lorenz 84 model\")\n",
    "    # Lorenz paramters and initial conditions\n",
    "    x_init = 1.0 # strength of the symmetric globally encircling westerly current\n",
    "    y_init = 1.0 # strength of the cosine phases of a chain of superposedwaves (large scale eddies)\n",
    "    z_init = 1.0 # strength of the sine phases of a chain of superposedwaves (large scale eddies)\n",
    "    F = 8.0 # thermal forcing term\n",
    "    G = 1.0 # thermal forcing term\n",
    "    epsilon = 0.4 # intensity of periodic forcing\n",
    "    a = 0.25 # stiffness factor for westerly wind x\n",
    "    b = 4.0 # advection strength of the waves by the westerly current\n",
    "    \n",
    "    # assuming the damping time for the waves is 5 days (Lorens 1984)\n",
    "    dt = 0.0333 # 1/30 unit of time unit (5 days)\n",
    "    num_steps = 1500\n",
    "    # cut-off point of initialization period\n",
    "    cut_off = 0\n",
    "    \n",
    "    logging.info(\"#####################################\")\n",
    "    logging.info(\"Summary of Lorenz 84 model\")\n",
    "    logging.info(\"x = 1.0  y = 1.0  z = 1.0\")\n",
    "    logging.info(\"F = 8.0 G = 1.0 a = 0.25 b = 4.0\")\n",
    "    logging.info(\"epsilon = 0.4\")\n",
    "    logging.info(\"unit time step 0.0333 (~5days)\")\n",
    "    logging.info(\"series length 1500 steps\")\n",
    "    logging.info(\"cut-off length 0 steps\")    \n",
    "    logging.info(\"#####################################\")"
   ]
  },
  {
   "cell_type": "code",
   "execution_count": 5,
   "metadata": {},
   "outputs": [],
   "source": [
    "    #################################################################################\n",
    "    ###########            Lorens 84 model + periodic forcing             ###########\n",
    "    #################################################################################\n",
    "    def lorenz84_ex(x, y, z, t, a = 0.25, b = 4.0, F = 8.0, G = 1.0, epsilon = 1.0):\n",
    "        \"\"\"\n",
    "        Solver of Lorens-84 model with periodic external forcing.\n",
    "        \n",
    "        param x, y, z: location in a 3D space\n",
    "        param a, b, F, G: constants and forcing\n",
    "        \n",
    "        The model is designed with a reference to the paper:\n",
    "        Broer, H., Simó, C., & Vitolo, R. (2002). Bifurcations and strange\n",
    "        attractors in the Lorenz-84 climate model with seasonal forcing. Nonlinearity, 15(4), 1205.\n",
    "        \n",
    "        Song, Y., Yu, Y., & Wang, H. (2011, October). The stability and chaos analysis of the\n",
    "        Lorenz-84 atmosphere model with seasonal forcing. In 2011 Fourth International Workshop\n",
    "        on Chaos-Fractals Theories and Applications (pp. 37-41). IEEE.\n",
    "        \"\"\"\n",
    "        # each time step is ~ 5days, therefore the returning period are 365 / 5 = 73 times in a year\n",
    "        T = 73\n",
    "        omega = 2 * np.pi / T\n",
    "        dx = - y**2 - z**2 - a * x + a * F * (1 + epsilon * np.cos(omega * t))\n",
    "        dy = x * y - b * x * z - y + G * (1 + epsilon * np.sin(omega * t))\n",
    "        dz = b * x * y + x * z - z\n",
    "        \n",
    "        return dx, dy, dz"
   ]
  },
  {
   "cell_type": "code",
   "execution_count": 6,
   "metadata": {},
   "outputs": [],
   "source": [
    "    #################################################################################\n",
    "    ###########        Launch Lorenz 84 model with periodic forcing       ###########\n",
    "    #################################################################################\n",
    "    logging.info(\"Launch Lorenz 84 model\")\n",
    "    # Need one more for the initial values\n",
    "    x = np.empty(num_steps)\n",
    "    y = np.empty(num_steps)\n",
    "    z = np.empty(num_steps)\n",
    "    t = 0.0\n",
    "    \n",
    "    # save initial values\n",
    "    x[0] = x_init\n",
    "    y[0] = y_init\n",
    "    z[0] = z_init\n",
    "    \n",
    "    # Step through \"time\", calculating the partial derivatives at the current point\n",
    "    # and using them to estimate the next point\n",
    "    for i in range(num_steps-1):\n",
    "        dx, dy, dz = lorenz84_ex(x[i], y[i], z[i], t, a, b ,F, G, epsilon)\n",
    "        x[i + 1] = x[i] + (dx * dt)\n",
    "        y[i + 1] = y[i] + (dy * dt)\n",
    "        z[i + 1] = z[i] + (dz * dt)\n",
    "        t += dt"
   ]
  },
  {
   "cell_type": "code",
   "execution_count": 7,
   "metadata": {},
   "outputs": [
    {
     "name": "stdout",
     "output_type": "stream",
     "text": [
      "===================  normalize data  =====================\n",
      "================  save the normalizing factor  =================\n"
     ]
    }
   ],
   "source": [
    "    #################################################################################\n",
    "    ###########        Prepare Lorenz 84 model output for learning        ###########\n",
    "    #################################################################################\n",
    "    # time series cut-off\n",
    "    if cut_off:\n",
    "        x = x[cut_off:]\n",
    "        y = y[cut_off:]\n",
    "        z = z[cut_off:]\n",
    "    print ('===================  normalize data  =====================')\n",
    "    x_norm = dlacs.preprocess.operator.normalize(x)\n",
    "    y_norm = dlacs.preprocess.operator.normalize(y)\n",
    "    z_norm = dlacs.preprocess.operator.normalize(z)\n",
    "    print('================  save the normalizing factor  =================')\n",
    "    x_max = np.amax(x)\n",
    "    x_min = np.amin(x)\n",
    "    y_max = np.amax(y)\n",
    "    y_min = np.amin(y)\n",
    "    z_max = np.amax(z)\n",
    "    z_min = np.amin(z)\n",
    "    logging.info(\"Data preprocessing complete!\")"
   ]
  },
  {
   "cell_type": "code",
   "execution_count": 8,
   "metadata": {},
   "outputs": [
    {
     "name": "stdout",
     "output_type": "stream",
     "text": [
      "*******************  create basic dimensions for tensor and network  *********************\n",
      "*******************  testing data  *********************\n",
      "*******************  check the environment  *********************\n",
      "Pytorch version 1.1.0\n"
     ]
    }
   ],
   "source": [
    "    #################################################################################\n",
    "    ###########      create basic dimensions for tensor and network       ###########\n",
    "    #################################################################################\n",
    "    print ('*******************  create basic dimensions for tensor and network  *********************')\n",
    "    # specifications of neural network\n",
    "    input_channels = 3\n",
    "    #hidden_channels = [3, 2, 1] # number of channels & hidden layers, the channels of last layer is the channels of output, too\n",
    "    hidden_channels = [3, 3, 3, 3, 3]\n",
    "    kernel_size = 1\n",
    "    # here we input a sequence and predict the next step only\n",
    "    #step = 1 # how many steps to predict ahead\n",
    "    #effective_step = [0] # step to output\n",
    "    batch_size = 1\n",
    "    #num_layers = 1\n",
    "    learning_rate = 0.01\n",
    "    num_epochs = 800\n",
    "    print ('*******************  testing data  *********************')\n",
    "    test_len = 200\n",
    "    print ('*******************  check the environment  *********************')\n",
    "    print (\"Pytorch version {}\".format(torch.__version__))\n",
    "    # check if CUDA is available\n",
    "    #use_cuda = torch.cuda.is_available()\n",
    "    #print(\"Is CUDA available? {}\".format(use_cuda))\n",
    "    #logging.info(\"Is CUDA available? {}\".format(use_cuda))\n",
    "    # CUDA settings torch.__version__ must > 0.4\n",
    "    # !!! This is important for the model!!! The first option is gpu\n",
    "    #device = torch.device(\"cuda:0\" if torch.cuda.is_available() else \"cpu\")\n",
    "    device = torch.device(\"cpu\")"
   ]
  },
  {
   "cell_type": "code",
   "execution_count": 9,
   "metadata": {},
   "outputs": [
    {
     "name": "stdout",
     "output_type": "stream",
     "text": [
      "*******************  run BayesConvLSTM  *********************\n",
      "The model is designed to make many to one prediction.\n",
      "A series of multi-chanel variables will be input to the model.\n",
      "The model learns by verifying the output at each timestep.\n",
      "!@#$% The network will be built with reduced size BayesConvLSTM cell. !@#$%\n",
      "BayesConvLSTM(\n",
      "  (cell0): BayesConvLSTMCell()\n",
      "  (cell1): BayesConvLSTMCell()\n",
      "  (cell2): BayesConvLSTMCell()\n",
      "  (cell3): BayesConvLSTMCell()\n",
      "  (cell4): BayesConvLSTMCell()\n",
      ")\n",
      "ELBO(\n",
      "  (loss_function): MSELoss()\n",
      ")\n",
      "Adam (\n",
      "Parameter Group 0\n",
      "    amsgrad: False\n",
      "    betas: (0.9, 0.999)\n",
      "    eps: 1e-08\n",
      "    lr: 0.01\n",
      "    weight_decay: 0\n",
      ")\n"
     ]
    }
   ],
   "source": [
    "    #################################################################################\n",
    "    ###########              create the BayesConvLSTM model               ###########\n",
    "    #################################################################################\n",
    "    print ('*******************  run BayesConvLSTM  *********************')\n",
    "    print ('The model is designed to make many to one prediction.')\n",
    "    print ('A series of multi-chanel variables will be input to the model.')\n",
    "    print ('The model learns by verifying the output at each timestep.')\n",
    "    # check the sequence shape\n",
    "    sequence_len = num_steps - cut_off\n",
    "    height = 1\n",
    "    width = 1\n",
    "    # initialize our model\n",
    "    model = dlacs.BayesConvLSTM.BayesConvLSTM(input_channels, hidden_channels, kernel_size).to(device)\n",
    "    # use Evidence Lower Bound (ELBO) to quantify the loss\n",
    "    ELBO = dlacs.function.ELBO(height*width)\n",
    "    # penalty for kl\n",
    "    penalty_kl = 100000\n",
    "    # stochastic gradient descent\n",
    "    #optimizer = torch.optim.SGD(model.parameters(), lr=learning_rate, momentum=0.9)\n",
    "    # Adam optimizer\n",
    "    optimiser = torch.optim.Adam(model.parameters(), lr=learning_rate)\n",
    "    print(model)\n",
    "    print(ELBO)\n",
    "    print(optimiser)"
   ]
  },
  {
   "cell_type": "code",
   "execution_count": 16,
   "metadata": {},
   "outputs": [
    {
     "name": "stdout",
     "output_type": "stream",
     "text": [
      "*******************  load exsited ConvLSTM model  *********************\n"
     ]
    },
    {
     "data": {
      "text/plain": [
       "IncompatibleKeys(missing_keys=[], unexpected_keys=[])"
      ]
     },
     "execution_count": 16,
     "metadata": {},
     "output_type": "execute_result"
    }
   ],
   "source": [
    "    #################################################################################\n",
    "    ###########              load existed BayesConvLSTM model             ###########\n",
    "    #################################################################################\n",
    "    print ('*******************  load exsited ConvLSTM model  *********************')\n",
    "    model.load_state_dict(torch.load(os.path.join(model_path, 'bayesconvlstm_lorenz84_ex_epoch_0_1000_base.pkl'),\n",
    "                                map_location=device))"
   ]
  },
  {
   "cell_type": "code",
   "execution_count": 18,
   "metadata": {},
   "outputs": [
    {
     "name": "stdout",
     "output_type": "stream",
     "text": [
      "##############################################################\n",
      "##################  start training loop  #####################\n",
      "##############################################################\n",
      "Epoch 0 ELBO: 10.710\n",
      "likelihood cost 10.622 #*# complexity cost 0.089\n",
      "=========================================\n"
     ]
    },
    {
     "ename": "KeyboardInterrupt",
     "evalue": "",
     "output_type": "error",
     "traceback": [
      "\u001b[1;31m---------------------------------------------------------------------------\u001b[0m",
      "\u001b[1;31mKeyboardInterrupt\u001b[0m                         Traceback (most recent call last)",
      "\u001b[1;32m<ipython-input-18-13f79f14c045>\u001b[0m in \u001b[0;36m<module>\u001b[1;34m\u001b[0m\n\u001b[0;32m     66\u001b[0m \u001b[1;33m\u001b[0m\u001b[0m\n\u001b[0;32m     67\u001b[0m     \u001b[1;31m# Backward pass\u001b[0m\u001b[1;33m\u001b[0m\u001b[1;33m\u001b[0m\u001b[0m\n\u001b[1;32m---> 68\u001b[1;33m     \u001b[0mloss\u001b[0m\u001b[1;33m.\u001b[0m\u001b[0mbackward\u001b[0m\u001b[1;33m(\u001b[0m\u001b[1;33m)\u001b[0m\u001b[1;33m\u001b[0m\u001b[0m\n\u001b[0m\u001b[0;32m     69\u001b[0m \u001b[1;33m\u001b[0m\u001b[0m\n\u001b[0;32m     70\u001b[0m     \u001b[1;31m# Update parametersdd\u001b[0m\u001b[1;33m\u001b[0m\u001b[1;33m\u001b[0m\u001b[0m\n",
      "\u001b[1;32mG:\\Anaconda\\lib\\site-packages\\torch\\tensor.py\u001b[0m in \u001b[0;36mbackward\u001b[1;34m(self, gradient, retain_graph, create_graph)\u001b[0m\n\u001b[0;32m    105\u001b[0m                 \u001b[0mproducts\u001b[0m\u001b[1;33m.\u001b[0m \u001b[0mDefaults\u001b[0m \u001b[0mto\u001b[0m\u001b[0;31m \u001b[0m\u001b[0;31m`\u001b[0m\u001b[0;31m`\u001b[0m\u001b[1;32mFalse\u001b[0m\u001b[0;31m`\u001b[0m\u001b[0;31m`\u001b[0m\u001b[1;33m.\u001b[0m\u001b[1;33m\u001b[0m\u001b[0m\n\u001b[0;32m    106\u001b[0m         \"\"\"\n\u001b[1;32m--> 107\u001b[1;33m         \u001b[0mtorch\u001b[0m\u001b[1;33m.\u001b[0m\u001b[0mautograd\u001b[0m\u001b[1;33m.\u001b[0m\u001b[0mbackward\u001b[0m\u001b[1;33m(\u001b[0m\u001b[0mself\u001b[0m\u001b[1;33m,\u001b[0m \u001b[0mgradient\u001b[0m\u001b[1;33m,\u001b[0m \u001b[0mretain_graph\u001b[0m\u001b[1;33m,\u001b[0m \u001b[0mcreate_graph\u001b[0m\u001b[1;33m)\u001b[0m\u001b[1;33m\u001b[0m\u001b[0m\n\u001b[0m\u001b[0;32m    108\u001b[0m \u001b[1;33m\u001b[0m\u001b[0m\n\u001b[0;32m    109\u001b[0m     \u001b[1;32mdef\u001b[0m \u001b[0mregister_hook\u001b[0m\u001b[1;33m(\u001b[0m\u001b[0mself\u001b[0m\u001b[1;33m,\u001b[0m \u001b[0mhook\u001b[0m\u001b[1;33m)\u001b[0m\u001b[1;33m:\u001b[0m\u001b[1;33m\u001b[0m\u001b[0m\n",
      "\u001b[1;32mG:\\Anaconda\\lib\\site-packages\\torch\\autograd\\__init__.py\u001b[0m in \u001b[0;36mbackward\u001b[1;34m(tensors, grad_tensors, retain_graph, create_graph, grad_variables)\u001b[0m\n\u001b[0;32m     91\u001b[0m     Variable._execution_engine.run_backward(\n\u001b[0;32m     92\u001b[0m         \u001b[0mtensors\u001b[0m\u001b[1;33m,\u001b[0m \u001b[0mgrad_tensors\u001b[0m\u001b[1;33m,\u001b[0m \u001b[0mretain_graph\u001b[0m\u001b[1;33m,\u001b[0m \u001b[0mcreate_graph\u001b[0m\u001b[1;33m,\u001b[0m\u001b[1;33m\u001b[0m\u001b[0m\n\u001b[1;32m---> 93\u001b[1;33m         allow_unreachable=True)  # allow_unreachable flag\n\u001b[0m\u001b[0;32m     94\u001b[0m \u001b[1;33m\u001b[0m\u001b[0m\n\u001b[0;32m     95\u001b[0m \u001b[1;33m\u001b[0m\u001b[0m\n",
      "\u001b[1;31mKeyboardInterrupt\u001b[0m: "
     ]
    }
   ],
   "source": [
    "    # calculate the time for the code execution\n",
    "    start_time = tttt.time()       \n",
    "    print('##############################################################')\n",
    "    print('##################  start training loop  #####################')\n",
    "    print('##############################################################')\n",
    "    # track training loss\n",
    "    hist = np.zeros(num_epochs)\n",
    "    hist_likelihood = np.zeros(num_epochs)\n",
    "    hist_complexity = np.zeros(num_epochs)\n",
    "    # loop of epoch\n",
    "    for t in range(num_epochs):\n",
    "        # Clear stored gradient\n",
    "        model.zero_grad()\n",
    "        # loop of timestep\n",
    "        for timestep in range(sequence_len - test_len):\n",
    "            # hidden state re-initialized inside the model when timestep=0\n",
    "            #################################################################################\n",
    "            ########          create input tensor with multi-input dimension         ########\n",
    "            #################################################################################\n",
    "            # create variables\n",
    "            x_input = np.stack((x_norm[timestep], y_norm[timestep], z_norm[timestep])) #vstack,hstack,dstack\n",
    "            x_var = torch.autograd.Variable(torch.Tensor(x_input).view(-1,input_channels,height,width)).to(device)\n",
    "            #################################################################################\n",
    "            ########       create training tensor with multi-input dimension         ########\n",
    "            #################################################################################\n",
    "            y_train_stack = np.stack((x_norm[timestep+1], y_norm[timestep+1], z_norm[timestep+1])) #vstack,hstack,dstack\n",
    "            y_var = torch.autograd.Variable(torch.Tensor(y_train_stack).view(-1,hidden_channels[-1],height,width)).to(device)\n",
    "            #################################################################################   \n",
    "            # Forward pass\n",
    "            y_pred, kl_loss, _ = model(x_var, timestep)\n",
    "            # choose training data\n",
    "            y_target = y_var\n",
    "            # torch.nn.functional.mse_loss(y_pred, y_train) can work with (scalar,vector) & (vector,vector)\n",
    "            # Please Make Sure y_pred & y_train have the same dimension\n",
    "            # accumulate loss\n",
    "            if timestep == 0:\n",
    "                loss, likelihood, complexity = ELBO(y_pred, y_target, kl_loss,\n",
    "                                                    1 / (len(hidden_channels) * 8 * penalty_kl * kernel_size**2))\n",
    "            else:\n",
    "                loss_step, likelihood_step,\\\n",
    "                complexity_step = ELBO(y_pred, y_target, kl_loss,\n",
    "                                       1 / (len(hidden_channels) * 8 * penalty_kl * kernel_size**2))\n",
    "                loss += loss_step\n",
    "                likelihood += likelihood_step\n",
    "                complexity += complexity_step\n",
    "        #print(y_pred.shape)\n",
    "        #print(y_train.shape)\n",
    "        # print loss at certain iteration\n",
    "        if t % 10 == 0:\n",
    "            print(\"Epoch {} ELBO: {:0.3f}\".format(t, loss.item()))\n",
    "            logging.info(\"Epoch {} MSE: {:0.3f}\".format(t,loss.item()))\n",
    "            print(\"likelihood cost {:0.3f} #*# complexity cost {:0.3f}\".format(likelihood.item(), complexity.item()))\n",
    "            logging.info(\"likelihood cost {:0.3f} #*# complexity cost {:0.3f}\".format(likelihood.item(), complexity.item()))\n",
    "            print(\"=========================================\")\n",
    "            logging.info(\"==========================================\")\n",
    "            # gradient check\n",
    "            # Gradcheck requires double precision numbers to run\n",
    "            #res = torch.autograd.gradcheck(loss_fn, (y_pred.double(), y_train.double()), eps=1e-6, raise_exception=True)\n",
    "            #print(res)\n",
    "        hist[t] = loss.item()\n",
    "        hist_likelihood[t] = likelihood.item()\n",
    "        hist_complexity[t] = complexity.item()\n",
    "\n",
    "        # Zero out gradient, else they will accumulate between epochs\n",
    "        optimiser.zero_grad()\n",
    "    \n",
    "        # Backward pass\n",
    "        loss.backward()\n",
    "\n",
    "        # Update parametersdd\n",
    "        optimiser.step()\n",
    "        \n",
    "    # save the model\n",
    "    # (recommended) save the model parameters only\n",
    "    torch.save(model.state_dict(), os.path.join(output_path,'bayesconvlstm_lorenz84_ex.pkl'))\n",
    "    \n",
    "    print (\"--- %s minutes ---\" % ((tttt.time() - start_time)/60))\n",
    "    logging.info(\"--- %s minutes ---\" % ((tttt.time() - start_time)/60))"
   ]
  },
  {
   "cell_type": "code",
   "execution_count": 13,
   "metadata": {},
   "outputs": [
    {
     "name": "stdout",
     "output_type": "stream",
     "text": [
      "*******************  Loss with time  **********************\n",
      "*******************  Loss with time (log)  **********************\n"
     ]
    },
    {
     "data": {
      "image/png": "[encoded data removed]",
      "text/plain": [
       "<Figure size 432x288 with 1 Axes>"
      ]
     },
     "metadata": {
      "needs_background": "light"
     },
     "output_type": "display_data"
    },
    {
     "data": {
      "image/png": "[encoded data removed]",
      "text/plain": [
       "<Figure size 432x288 with 1 Axes>"
      ]
     },
     "metadata": {
      "needs_background": "light"
     },
     "output_type": "display_data"
    }
   ],
   "source": [
    "    #################################################################################\n",
    "    ###########                 after training statistics                 ###########\n",
    "    #################################################################################\n",
    "    print (\"*******************  Loss with time  **********************\")\n",
    "    fig00 = plt.figure()\n",
    "    plt.plot(hist, 'r', label=\"Training loss\")\n",
    "    plt.plot(hist_likelihood, 'g', label=\"Likelihood loss\")\n",
    "    plt.plot(hist_complexity, 'b', label=\"Complexity loss\")\n",
    "    plt.xlabel('Epoch')\n",
    "    plt.ylabel('Error')\n",
    "    plt.legend()\n",
    "    fig00.savefig(os.path.join(output_path,'BayesConvLSTM_pred_error_Lorenz84_ex.png'),dpi=150)\n",
    "    \n",
    "    print (\"*******************  Loss with time (log)  **********************\")\n",
    "    fig01 = plt.figure()\n",
    "    plt.plot(np.log(hist), 'r', label=\"Training loss\")\n",
    "    plt.plot(np.log(hist_likelihood), 'g', label=\"Likelihood loss\")\n",
    "    plt.plot(np.log(hist_complexity), 'b', label=\"Complexity loss\")\n",
    "    plt.xlabel('Epoch')\n",
    "    plt.ylabel('Log error')\n",
    "    plt.legend()\n",
    "    plt.show()\n",
    "    fig01.savefig(os.path.join(output_path,'BayesConvLSTM_pred_log_error_Lorenz84_ex.png'),dpi=150)"
   ]
  }
 ],
 "metadata": {
  "kernelspec": {
   "display_name": "Python 3",
   "language": "python",
   "name": "python3"
  },
  "language_info": {
   "codemirror_mode": {
    "name": "ipython",
    "version": 3
   },
   "file_extension": ".py",
   "mimetype": "text/x-python",
   "name": "python",
   "nbconvert_exporter": "python",
   "pygments_lexer": "ipython3",
   "version": "3.6.5"
  }
 },
 "nbformat": 4,
 "nbformat_minor": 4
}
