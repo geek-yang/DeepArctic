{
 "cells": [
  {
   "cell_type": "markdown",
   "metadata": {},
   "source": [
    "# Copyright Netherlands eScience Center <br>\n",
    "** Function     : Predict the extent of Sea Ice Concentration with LSTM ** <br>\n",
    "** Author       : Yang Liu ** <br>\n",
    "** First Built  : 2019.04.17 ** <br>\n",
    "** Last Update  : 2019.04.17 ** <br>\n",
    "** Library      : Pytorth, Numpy, NetCDF4, os, iris, cartopy, deepclim, matplotlib\n",
    "Description     : This notebook serves to predict the Arctic sea ice using deep learning. As a pre-test, we start with time series of SIC extent anomalies. To make it easier, we use many climate index (to represent the forcing from atmosphere). In addtion,  <br>\n",
    "\n",
    "The Long Short Time Memory neural network is used here. We use Pytorch as the deep learning framework. <br>\n",
    "\n",
    "Return Values   : Time series and figures <br>\n",
    "\n",
    "Here is the information of climate index in details:<br>\n",
    "**NAO** @ 1950 Jan - 2018 Feb (818 records) <br>\n",
    "http://www.cpc.ncep.noaa.gov/products/precip/CWlink/pna/nao.shtml <br>\n",
    "**ENSO - NINO 3.4 SST** @ 1950 Jan - 2018 Jan (817 records) <br>\n",
    "https://www.esrl.noaa.gov/psd/gcos_wgsp/Timeseries/Nino34/ <br>\n",
    "**AO** @ 1950 Jan - 2018 Feb (818 records) <br>\n",
    "http://www.cpc.ncep.noaa.gov/products/precip/CWlink/daily_ao_index/ao.shtml <br>\n",
    "**AMO** @ 1950 Jan - 2018 Feb (818 records) <br>\n",
    "AMO unsmoothed, detrended from the Kaplan SST V2. The result is standarised.<br>\n",
    "https://www.esrl.noaa.gov/psd/data/timeseries/AMO/<br>\n",
    "\n",
    "(All the NOAA index shown above are given by NCEP/NCAR Reanalysis (CDAS))<br>\n",
    "\n",
    "**PDO** @ 1900 Jan - 2018 Feb (1418 records)<br>\n",
    "This PDO index comes from University of Washington, it contains SST data from the following 3 datasets:<br>\n",
    "- UKMO Historical SST data set for 1900-81;\n",
    "- Reynold's Optimally Interpolated SST (V1) for January 1982-Dec 2001)\n",
    "- OI SST Version 2 (V2) beginning January 2002 -<br>\n",
    "\n",
    "http://research.jisao.washington.edu/pdo/PDO.latest<br>"
   ]
  },
  {
   "cell_type": "code",
   "execution_count": 1,
   "metadata": {},
   "outputs": [],
   "source": [
    "%matplotlib inline\n",
    "\n",
    "import sys\n",
    "sys.path.append(\"/home/ESLT0068/NLeSC/Computation_Modeling/ML4Climate/Scripts/DeepClim\")\n",
    "# for data loading\n",
    "import os\n",
    "from netCDF4 import Dataset\n",
    "# for pre-processing and machine learning\n",
    "import numpy as np\n",
    "import sklearn\n",
    "#import scipy\n",
    "import torch\n",
    "import deepclim.preprocess\n",
    "\n",
    "# for visualization\n",
    "import deepclim.visual\n",
    "import matplotlib\n",
    "import matplotlib.pyplot as plt\n",
    "import iris # also helps with regriding\n",
    "import cartopy\n",
    "import cartopy.crs as ccrs"
   ]
  },
  {
   "cell_type": "code",
   "execution_count": 2,
   "metadata": {},
   "outputs": [],
   "source": [
    "# constants\n",
    "constant = {'g' : 9.80616,      # gravititional acceleration [m / s2]\n",
    "            'R' : 6371009,      # radius of the earth [m]\n",
    "            'cp': 1004.64,      # heat capacity of air [J/(Kg*K)]\n",
    "            'Lv': 2264670,      # Latent heat of vaporization [J/Kg]\n",
    "            'R_dry' : 286.9,    # gas constant of dry air [J/(kg*K)]\n",
    "            'R_vap' : 461.5,    # gas constant for water vapour [J/(kg*K)]\n",
    "            'rho' : 1026,       # sea water density [kg/m3]\n",
    "            }"
   ]
  },
  {
   "cell_type": "markdown",
   "metadata": {},
   "source": [
    "** Data ** <br>\n",
    "Time span of each product included: <br>\n",
    "** Reanalysis ** <br>\n",
    "- **ERA-Interim** 1979 - 2016 (ECMWF)\n",
    "- **ORAS4**       1958 - 2014 (ECMWF)\n",
    "\n",
    "** Index ** <br>\n",
    "- **NINO3.4**     1950 - 2017 (NOAA)\n",
    "- **AO**          1950 - 2017 (NOAA)\n",
    "- **NAO**         1950 - 2017 (NOAA)\n",
    "- **AMO**         1950 - 2017 (NOAA)\n",
    "- **PDO**         1950 - 2017 (University of Washington)\n",
    "\n",
    "!! These index are given by NCEP/NCAR Reanalysis (CDAS) <br>\n",
    "\n",
    "\n",
    "Alternative (not in use yet) <br>\n",
    "** Reanalysis ** <br>\n",
    "- **MERRA2**      1980 - 2016 (NASA)\n",
    "- **JRA55**       1979 - 2015 (JMA)\n",
    "- **GLORYS2V3**   1993 - 2014 (Mercartor Ocean)\n",
    "- **SODA3**       1980 - 2015\n",
    "- **PIOMASS**     1980 - 2015\n",
    "\n",
    "** Observations ** <br>\n",
    "- **NSIDC**       1958 - 2017 "
   ]
  },
  {
   "cell_type": "code",
   "execution_count": 3,
   "metadata": {},
   "outputs": [],
   "source": [
    "################################   path  ######################################\n",
    "# please specify data path\n",
    "datapath_ERAI = '/home/ESLT0068/WorkFlow/Core_Database_AMET_OMET_reanalysis/ERAI/regression'\n",
    "datapath_ORAS4 = '/home/ESLT0068/WorkFlow/Core_Database_AMET_OMET_reanalysis/warehouse_met'\n",
    "datapath_ORAS4_mask = '/home/ESLT0068/WorkFlow/Core_Database_AMET_OMET_reanalysis/ORAS4'\n",
    "datapath_PIOMASS = '/home/ESLT0068/WorkFlow/Core_Database_AMET_OMET_reanalysis/PIOMASS'\n",
    "datapath_clim_index = '/home/ESLT0068/WorkFlow/Core_Database_AMET_OMET_reanalysis/Climate_index'\n",
    "output_path = '/home/ESLT0068/NLeSC/Computation_Modeling/ML4Climate/PredictArctic/Series'"
   ]
  },
  {
   "cell_type": "code",
   "execution_count": 4,
   "metadata": {},
   "outputs": [
    {
     "name": "stdout",
     "output_type": "stream",
     "text": [
      "*********************** get the key to the datasets *************************\n",
      "*********************** extract variables *************************\n"
     ]
    }
   ],
   "source": [
    "if __name__==\"__main__\":\n",
    "    print ('*********************** get the key to the datasets *************************')\n",
    "    dataset_ERAI_fields_SIC_SST_SLP = Dataset(os.path.join(datapath_ERAI,\n",
    "                                              'surface_ERAI_monthly_regress_1979_2016.nc'))\n",
    "\n",
    "    dataset_PIOMASS_siv = Dataset(os.path.join(datapath_PIOMASS,\n",
    "                                       'siv_monthly_PIOMASS_1979_2017.nc'))\n",
    "    dataset_ORAS4_OHC = Dataset(os.path.join(datapath_ORAS4,\n",
    "                                             'oras_model_monthly_1958_2017_ohc.nc'))\n",
    "    dataset_index = Dataset(os.path.join(datapath_clim_index,\n",
    "                                         'index_climate_monthly_regress_1950_2017.nc'))\n",
    "    #dataset_ERAI_fields_flux = Dataset(os.path.join(datapath_ERAI_fields,\n",
    "    #                                  'surface_erai_monthly_regress_1979_2017_radiation.nc'))\n",
    "    # mask\n",
    "    dataset_ORAS4_mask = Dataset(os.path.join(datapath_ORAS4_mask, 'mesh_mask.nc'))\n",
    "    print ('*********************** extract variables *************************')\n",
    "    # ********************************** data gallery *************************************** #\n",
    "    # we use time series from 1979 to 2016 (468 months in total)\n",
    "    # training data: 1979 - 2006\n",
    "    # validation: 2007 - 2016\n",
    "    # variables list:\n",
    "    # SIC (ERA-Interim) / SIV (PIOMASS) / SST (ERA-Interim) / ST (ERA-Interim) / OHC (ORAS4) / AO-NAO-AMO-NINO3.4 (NOAA)\n",
    "    # integrals from spatial fields cover the area from 20N - 90N (4D fields [year, month, lat, lon])\n",
    "    # *************************************************************************************** #\n",
    "    # SIC (ERA-Interim)\n",
    "    SIC_ERAI = dataset_ERAI_fields_SIC_SST_SLP.variables['ci'][:,:95,:] # 3D fields [time, lat, lon]\n",
    "    #SIC_ERAI_mask = np.ma.getmaskarray(SIC_ERAI[0,:,:])\n",
    "    time_ERAI = dataset_ERAI_fields_SIC_SST_SLP.variables['time'][:]\n",
    "    latitude_ERAI = dataset_ERAI_fields_SIC_SST_SLP.variables['latitude'][:]\n",
    "    longitude_ERAI = dataset_ERAI_fields_SIC_SST_SLP.variables['longitude'][:]\n",
    "    #SIV (PIOMASS)\n",
    "    SIV_PIOMASS = dataset_PIOMASS_siv.variables['SIV'][:-12]\n",
    "    year_SIV = dataset_PIOMASS_siv.variables['year'][:-1]\n",
    "    # SST (ERA-Interim)\n",
    "    SST_ERAI = dataset_ERAI_fields_SIC_SST_SLP.variables['sst'][:,:95,:] # 3D fields [time, lat, lon]\n",
    "    # dimensions the same as above\n",
    "    # ST (ERA-Interim)\n",
    "    # OHC (ORAS4)\n",
    "    OHC_100_int_ORAS4 = dataset_ORAS4_OHC.variables['OHC_100_int'][21:-1,:,180:]/1000 # unit Peta Joule\n",
    "    OHC_300_int_ORAS4 = dataset_ORAS4_OHC.variables['OHC_300_int'][21:-1,:,180:]/1000\n",
    "    OHC_700_int_ORAS4 = dataset_ORAS4_OHC.variables['OHC_700_int'][21:-1,:,180:]/1000\n",
    "    #OHC_2000_int_ORAS4 = dataset_ORAS4_OHC.variables['OHC_2000_int'][21:-1,:,180:]/1000\n",
    "    \n",
    "    latitude_OHC_ORAS4 = dataset_ORAS4_OHC.variables['latitude_aux'][180:]\n",
    "    #gphiv_OHC_ORAS4 = dataset_ORAS4_OHC.variables['gphiv'][180:,:]\n",
    "    #glamv_OHC_ORAS4 = dataset_ORAS4_OHC.variables['glamv'][180:,:]\n",
    "    # AO-NAO-AMO-NINO3.4 (NOAA)\n",
    "    AO = dataset_index.variables['AO'][348:-12] # from 1979 - 2016\n",
    "    NAO = dataset_index.variables['NAO'][348:-12]\n",
    "    NINO = dataset_index.variables['NINO'][348:-12]\n",
    "    AMO = dataset_index.variables['AMO'][348:-12]\n",
    "    PDO = dataset_index.variables['PDO'][348:-12]\n",
    "    \n",
    "    # radiation flux\n",
    "    #rad_short_toa_ERAI = dataset_ERAI_fields_flux.variables['tsr'][:] # unit Watt/m2\n",
    "    #rad_long_toa_ERAI = dataset_ERAI_fields_flux.variables['ttr'][:] # unit Watt/m2\n",
    "    #rad_short_surf_ERAI = dataset_ERAI_fields_flux.variables['ssr'][:] # unit Watt/m2\n",
    "    #rad_long_surf_ERAI = dataset_ERAI_fields_flux.variables['str'][:] # unit Watt/m2\n",
    "    # turbulent flux\n",
    "    #SFlux_sensible_ERAI = dataset_ERAI_fields_flux.variables['sshf'][:] # unit Watt/m2\n",
    "    #SFlux_latent_ERAI = dataset_ERAI_fields_flux.variables['slhf'][:] # unit Watt/m2"
   ]
  },
  {
   "cell_type": "code",
   "execution_count": null,
   "metadata": {},
   "outputs": [],
   "source": [
    "    print (latitude_ERAI[:41])\n",
    "    print (latitude_OHC_ORAS4[53:])\n",
    "    print (SIC)"
   ]
  },
  {
   "cell_type": "code",
   "execution_count": 5,
   "metadata": {},
   "outputs": [
    {
     "name": "stdout",
     "output_type": "stream",
     "text": [
      "******************  calculate extent from spatial fields  *******************\n",
      "******************  calculate mean/sum from spatial fields  *******************\n"
     ]
    }
   ],
   "source": [
    "    print ('******************  calculate extent from spatial fields  *******************')\n",
    "    # size of the grid box\n",
    "    dx = 2 * np.pi * constant['R'] * np.cos(2 * np.pi * latitude_ERAI /\n",
    "                                            360) / len(longitude_ERAI)\n",
    "    dy = np.pi * constant['R'] / len(latitude_ERAI)\n",
    "    # calculate the sea ice area\n",
    "    SIC_ERAI_area = np.zeros(SIC_ERAI.shape, dtype=float)\n",
    "    for i in np.arange(len(latitude_ERAI[:95])):\n",
    "        # change the unit to terawatt\n",
    "        SIC_ERAI_area[:,i,:] = SIC_ERAI[:,i,:]* dx[i] * dy # unit m2\n",
    "    \n",
    "    print ('******************  calculate mean/sum from spatial fields  *******************')\n",
    "    # calculate the mean SST in the polar cap\n",
    "    SST_ERAI_mean = np.mean(np.mean(SST_ERAI[:,:41,:],2),1)\n",
    "    # calculate the total OHC in the polar cap\n",
    "    OHC_100_ORAS4_sum = np.sum(OHC_100_int_ORAS4[:,:,53:],2)\n",
    "    OHC_300_ORAS4_sum = np.sum(OHC_300_int_ORAS4[:,:,53:],2)\n",
    "    OHC_700_ORAS4_sum = np.sum(OHC_700_int_ORAS4[:,:,53:],2)\n",
    "    # calculate the total SIC in the polar cap\n",
    "    SIC_ERAI_sum = np.sum(np.sum(SIC_ERAI_area[:,:41,:],2),1)"
   ]
  },
  {
   "cell_type": "code",
   "execution_count": 6,
   "metadata": {},
   "outputs": [
    {
     "name": "stdout",
     "output_type": "stream",
     "text": [
      "*******************  pre-processing  *********************\n",
      "================  reshape input data into time series  =================\n",
      "================  normalize data  =================\n"
     ]
    }
   ],
   "source": [
    "    print ('*******************  pre-processing  *********************')\n",
    "    print ('================  reshape input data into time series  =================')\n",
    "    OHC_700_ORAS4_sum_series= deepclim.preprocess.operator.unfold(OHC_700_ORAS4_sum)\n",
    "    print ('================  normalize data  =================')\n",
    "    SIC_ERAI_sum_norm = deepclim.preprocess.operator.normalize(SIC_ERAI_sum)\n",
    "    SIV_PIOMASS_norm = deepclim.preprocess.operator.normalize(SIV_PIOMASS)"
   ]
  },
  {
   "cell_type": "code",
   "execution_count": 20,
   "metadata": {},
   "outputs": [
    {
     "name": "stdout",
     "output_type": "stream",
     "text": [
      "*******************  preview of input time series  *********************\n",
      "(456, 1, 1)\n"
     ]
    },
    {
     "data": {
      "image/png": "[encoded data removed]",
      "text/plain": [
       "<Figure size 432x288 with 1 Axes>"
      ]
     },
     "metadata": {},
     "output_type": "display_data"
    }
   ],
   "source": [
    "    print ('*******************  preview of input time series  *********************')\n",
    "    #plt.plot(SIC_ERAI_sum)\n",
    "    plt.plot(SIV_PIOMASS_norm)\n",
    "    #a = np.expand_dims(SIC_ERAI_sum_norm,axis=1)"
   ]
  },
  {
   "cell_type": "markdown",
   "metadata": {},
   "source": [
    "# Procedure for LSTM <br>\n",
    "** We use Pytorth to implement LSTM neural network with time series of climate data. ** <br>"
   ]
  },
  {
   "cell_type": "code",
   "execution_count": 14,
   "metadata": {},
   "outputs": [
    {
     "name": "stdout",
     "output_type": "stream",
     "text": [
      "*******************  create basic dimensions for tensor and network  *********************\n",
      "1.0.1.post2\n",
      "Is CUDA available? False\n"
     ]
    }
   ],
   "source": [
    "    print ('*******************  create basic dimensions for tensor and network  *********************')\n",
    "    print (torch.__version__)\n",
    "    # check if CUDA is available\n",
    "    use_cuda = torch.cuda.is_available()\n",
    "    print(\"Is CUDA available? {}\".format(use_cuda))\n",
    "    # standard LSTM input dimension\n",
    "    # [sequence_length, batch_size, input_size]\n",
    "    # example : x = torch.autograd.Variable(torch.randn(6, 3, 5))\n",
    "    # prepare input array for LSTM input -> dimension\n",
    "    # take 1 year as test data\n",
    "    SIC = np.zeros((len(SIC_ERAI_sum_norm)-1*12,1,1),dtype=float)\n",
    "    SIC[:,0,0] = SIC_ERAI_sum_norm[:-1*12]\n",
    "    SIV = np.zeros((len(SIV_PIOMASS_norm)-1*12,1,1),dtype=float)\n",
    "    SIV[:,0,0] = SIV_PIOMASS_norm[:-1*12]\n",
    "    # create variables\n",
    "    SIC_var = torch.autograd.Variable(torch.Tensor(SIC))\n",
    "    SIV_var = torch.autograd.Variable(torch.Tensor(SIV))\n",
    "    # specifications of neural network\n",
    "    input_size = 1\n",
    "    hidden_size = 1\n",
    "    batch_size = 1\n",
    "    output_size = 1\n",
    "    num_layers = 1\n",
    "    learning_rate = 0.01\n",
    "    num_epochs = 200"
   ]
  },
  {
   "cell_type": "code",
   "execution_count": 8,
   "metadata": {},
   "outputs": [],
   "source": [
    "class LSTM(torch.nn.Module):\n",
    "    def __init__(self, input_dim, hidden_dim, batch_size, output_dim=1,\n",
    "                 num_layers=2):\n",
    "        \"\"\"\n",
    "        Initialize the LSTM module in Pytorch and specify the basic model structure.\n",
    "        \"\"\"\n",
    "        super(LSTM, self).__init__() #inheritance https://realpython.com/python-super/\n",
    "        self.input_dim = input_dim\n",
    "        self.hidden_dim = hidden_dim\n",
    "        self.batch_size = batch_size\n",
    "        self.num_layers = num_layers\n",
    "\n",
    "        # Define the LSTM layer\n",
    "        self.lstm = torch.nn.LSTM(self.input_dim, self.hidden_dim, self.num_layers)\n",
    "\n",
    "        # Define the output layer\n",
    "        self.linear = torch.nn.Linear(self.hidden_dim, output_dim)\n",
    "    \n",
    "    def init_hidden(self):\n",
    "        \"\"\"\n",
    "        Initialization of hidden state. We create two matrix: hidden and cell.\n",
    "        The shape of the matrix should be: \n",
    "        torch.randn(self.num_layers, self.batch_size, self.hidden_dim)\n",
    "        \"\"\"\n",
    "        \n",
    "        return (torch.randn(self.num_layers, self.batch_size, self.hidden_dim),\n",
    "                torch.randn(self.num_layers, self.batch_size, self.hidden_dim))\n",
    "    \n",
    "    def forward(self, input):\n",
    "        \"\"\"\n",
    "        Forward pass through LSTM layer.\n",
    "        The shape of lstm_out: [input_size, batch_size, hidden_dim]\n",
    "        The shape of self.hidden: (hn, cn), where hn and cn both\n",
    "        have shape (num_layers, batch_size, hidden_dim).\n",
    "        More information is available:\n",
    "        https://pytorch.org/tutorials/beginner/nlp/sequence_models_tutorial.html#sphx-glr-beginner-nlp-sequence-models-tutorial-py\n",
    "        \"\"\"\n",
    "        # matrix dimension as feed for lstm is fixed\n",
    "        # torch.tensor.view(-1) adpat the array to a new shape with extra dimension [..,-1,..]\n",
    "        lstm_out, self.hidden = self.lstm(input.view(len(input), self.batch_size, -1))\n",
    "        \n",
    "        # Only take the output from the final timetep\n",
    "        # Can pass on the entirety of lstm_out to the next layer if it is a seq2seq prediction\n",
    "        y_pred = self.linear(lstm_out[-1].view(self.batch_size, -1))\n",
    "        return y_pred.view(-1) # tensor.view only rearrange the array, not transpose"
   ]
  },
  {
   "cell_type": "code",
   "execution_count": 15,
   "metadata": {},
   "outputs": [
    {
     "name": "stdout",
     "output_type": "stream",
     "text": [
      "*******************  run LSTM  *********************\n",
      "Epoch  0 MSE:  66.23576354980469\n"
     ]
    },
    {
     "name": "stderr",
     "output_type": "stream",
     "text": [
      "/home/ESLT0068/.pyenv/versions/anaconda3-5.2.0/lib/python3.6/site-packages/torch/nn/_reduction.py:49: UserWarning: size_average and reduce args will be deprecated, please use reduction='sum' instead.\n",
      "  warnings.warn(warning.format(ret))\n"
     ]
    },
    {
     "name": "stdout",
     "output_type": "stream",
     "text": [
      "Epoch  10 MSE:  37.96071243286133\n",
      "Epoch  20 MSE:  27.17059898376465\n",
      "Epoch  30 MSE:  24.66269874572754\n",
      "Epoch  40 MSE:  24.784992218017578\n",
      "Epoch  50 MSE:  24.800512313842773\n",
      "Epoch  60 MSE:  24.650089263916016\n",
      "Epoch  70 MSE:  24.615230560302734\n",
      "Epoch  80 MSE:  24.62165641784668\n",
      "Epoch  90 MSE:  24.617290496826172\n",
      "Epoch  100 MSE:  24.614898681640625\n",
      "Epoch  110 MSE:  24.615188598632812\n",
      "Epoch  120 MSE:  24.61499786376953\n",
      "Epoch  130 MSE:  24.614896774291992\n",
      "Epoch  140 MSE:  24.614913940429688\n",
      "Epoch  150 MSE:  24.614898681640625\n",
      "Epoch  160 MSE:  24.614896774291992\n",
      "Epoch  170 MSE:  24.614896774291992\n",
      "Epoch  180 MSE:  24.614896774291992\n",
      "Epoch  190 MSE:  24.614896774291992\n"
     ]
    }
   ],
   "source": [
    "    print ('*******************  run LSTM  *********************')\n",
    "    # choose training data\n",
    "    y_train = SIV_var\n",
    "    # initialize our model\n",
    "    model = LSTM(input_size, hidden_size, batch_size=batch_size,\n",
    "                 output_dim=output_size, num_layers=num_layers)\n",
    "    loss_fn = torch.nn.MSELoss(size_average=False)\n",
    "    optimiser = torch.optim.Adam(model.parameters(), lr=learning_rate)\n",
    "    #####################\n",
    "    # Train Loop\n",
    "    #####################\n",
    "    hist = np.zeros(num_epochs)\n",
    "\n",
    "    for t in range(num_epochs):\n",
    "        # Clear stored gradient\n",
    "        model.zero_grad()\n",
    "\n",
    "        # Initialise hidden state\n",
    "        # Don't do this if you want your LSTM to be stateful\n",
    "        model.hidden = model.init_hidden()\n",
    "    \n",
    "        # Forward pass\n",
    "        y_pred = model(SIV_var)\n",
    "\n",
    "        loss = loss_fn(y_pred, y_train)\n",
    "        if t % 10 == 0:\n",
    "            print(\"Epoch \", t, \"MSE: \", loss.item())\n",
    "        hist[t] = loss.item()\n",
    "\n",
    "        # Zero out gradient, else they will accumulate between epochs\n",
    "        optimiser.zero_grad()\n",
    "    \n",
    "        # Backward pass\n",
    "        loss.backward()\n",
    "\n",
    "        # Update parameters\n",
    "        optimiser.step()\n",
    "    \n",
    "    #torch.save(model, 'lstm.pkl') # save lstm model"
   ]
  },
  {
   "cell_type": "code",
   "execution_count": 12,
   "metadata": {},
   "outputs": [
    {
     "name": "stdout",
     "output_type": "stream",
     "text": [
      "LSTM(\n",
      "  (lstm): LSTM(1, 1)\n",
      "  (linear): Linear(in_features=1, out_features=1, bias=True)\n",
      ")\n",
      "torch.Size([1])\n"
     ]
    }
   ],
   "source": [
    "    print (model)\n",
    "    print (y_pred.shape)"
   ]
  },
  {
   "cell_type": "code",
   "execution_count": 16,
   "metadata": {},
   "outputs": [
    {
     "data": {
      "image/png": "[encoded data removed]",
      "text/plain": [
       "<Figure size 432x288 with 1 Axes>"
      ]
     },
     "metadata": {},
     "output_type": "display_data"
    },
    {
     "data": {
      "image/png": "[encoded data removed]",
      "text/plain": [
       "<Figure size 432x288 with 1 Axes>"
      ]
     },
     "metadata": {},
     "output_type": "display_data"
    }
   ],
   "source": [
    "    # visualization\n",
    "    plt.plot(y_pred.detach().numpy(), label=\"Preds\")\n",
    "    plt.plot(y_train[:,0,0].detach().numpy(), label=\"Data\")\n",
    "    plt.legend()\n",
    "    plt.show()\n",
    "\n",
    "    plt.plot(hist, label=\"Training loss\")\n",
    "    plt.legend()\n",
    "    plt.show()"
   ]
  },
  {
   "cell_type": "code",
   "execution_count": null,
   "metadata": {},
   "outputs": [],
   "source": [
    "    print ('*******************  run linear regression  *********************')\n",
    "    model = LinearReg()\n",
    "    # construct loss function and an optimizer.\n",
    "    criterion = torch.nn.MSELoss(size_average=False)\n",
    "    optimizer = torch.optim.SGD(model.parameters(),lr=0.01) # learning rate (lr)\n",
    "    #####################\n",
    "    # Train Loop\n",
    "    #####################\n",
    "    for epoch in range(num_epoch):\n",
    "        # predict y by fit x through linear regression\n",
    "        y_predict = model(SIV_var)\n",
    "        # compute and print loss\n",
    "        loss = criterion(y_predict,y_train)\n",
    "        \n",
    "        # backpropagation and gradient descend (fix steps)\n",
    "        # Zero out gradient, else they will accumulate between epochs\n",
    "        optimizer.zero_grad()\n",
    "    \n",
    "        # Backward pass\n",
    "        loss.backward()\n",
    "\n",
    "        # Update parameters\n",
    "        optimizer.step()        "
   ]
  },
  {
   "cell_type": "code",
   "execution_count": null,
   "metadata": {},
   "outputs": [],
   "source": [
    "    k = model.forward(SIV_var)\n",
    "    #plt.plot()\n",
    "    print (k.detach().numpy())"
   ]
  },
  {
   "cell_type": "code",
   "execution_count": null,
   "metadata": {},
   "outputs": [],
   "source": []
  }
 ],
 "metadata": {
  "kernelspec": {
   "display_name": "Python 3",
   "language": "python",
   "name": "python3"
  },
  "language_info": {
   "codemirror_mode": {
    "name": "ipython",
    "version": 3
   },
   "file_extension": ".py",
   "mimetype": "text/x-python",
   "name": "python",
   "nbconvert_exporter": "python",
   "pygments_lexer": "ipython3",
   "version": "3.6.5"
  }
 },
 "nbformat": 4,
 "nbformat_minor": 2
}
